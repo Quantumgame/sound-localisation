{
 "metadata": {
  "name": ""
 },
 "nbformat": 3,
 "nbformat_minor": 0,
 "worksheets": [
  {
   "cells": [
    {
     "cell_type": "markdown",
     "metadata": {},
     "source": [
      "# Process Gamatone\n",
      "\n",
      "The gamatone filter notebook produces a multitude of csv files of raw output and per filter means. This notebook processes the results.\n",
      "\n",
      "##Imports"
     ]
    },
    {
     "cell_type": "code",
     "collapsed": false,
     "input": [
      "import csv\n",
      "import os\n",
      "import pandas\n",
      "import re\n",
      "\n",
      "meanfolder = 'sounds/Recordings/means/'"
     ],
     "language": "python",
     "metadata": {},
     "outputs": [],
     "prompt_number": 27
    },
    {
     "cell_type": "code",
     "collapsed": false,
     "input": [
      "open('sounds/Recordings/means/playback 0 -120 flat.wav-left_mean-bar_0.csv').readline()"
     ],
     "language": "python",
     "metadata": {},
     "outputs": [
      {
       "metadata": {},
       "output_type": "pyout",
       "prompt_number": 3,
       "text": [
        "'2.228766161489721198e-04\\n'"
       ]
      }
     ],
     "prompt_number": 3
    },
    {
     "cell_type": "code",
     "collapsed": false,
     "input": [],
     "language": "python",
     "metadata": {},
     "outputs": [],
     "prompt_number": 14
    },
    {
     "cell_type": "code",
     "collapsed": false,
     "input": [
      "from os import listdir\n",
      "from os.path import isfile, join\n",
      "meanfiles = [ f for f in listdir(meanfolder) if isfile(join(meanfolder,f)) ]\n",
      "\n",
      "def parseFileName(names):\n",
      "    namesplit = re.split('\\s|\\.|_', names)\n",
      "    elevation = namesplit[1]\n",
      "    angle = namesplit[2]\n",
      "    side = namesplit[-4][4:]\n",
      "    if len(namesplit)==7:\n",
      "        speakerangle = 'directed'\n",
      "    elif len(namesplit)==8:\n",
      "        speakerangle = 'flat'\n",
      "    return elevation, angle, side, speakerangle\n",
      "\n",
      "tot = repeat(0, 100)\n",
      "means = {}\n",
      "for counter, f in enumerate(meanfiles):\n",
      "    info = parseFileName(f)\n",
      "    if info[3]=='flat':\n",
      "        if counter%13 != 12:\n",
      "            with(open(meanfolder + f)) as fl:\n",
      "                tot = tot + genfromtxt(fl)\n",
      "        elif counter%13 ==12:\n",
      "            with(open(meanfolder + f)) as fl:\n",
      "                tot = tot + genfromtxt(fl)\n",
      "            means[info[0] + ':' + info[1]] = tot\n",
      "            tot = repeat(0, 100)\n",
      "    print info, counter%13"
     ],
     "language": "python",
     "metadata": {},
     "outputs": [
      {
       "output_type": "stream",
       "stream": "stdout",
       "text": [
        "('0', '-120', 'left', 'flat') 0\n",
        "('0', '-120', 'left', 'flat') 1\n",
        "('0', '-120', 'left', 'flat') 2\n",
        "('0', '-120', 'left', 'flat')"
       ]
      },
      {
       "output_type": "stream",
       "stream": "stdout",
       "text": [
        " 3\n",
        "('0', '-120', 'left', 'flat') 4\n",
        "('0', '-120', 'left', 'flat')"
       ]
      },
      {
       "output_type": "stream",
       "stream": "stdout",
       "text": [
        " 5\n",
        "('0', '-120', 'left', 'flat') 6\n",
        "('0', '-120', 'left', 'flat') 7\n",
        "('0', '-120', 'left', 'flat')"
       ]
      },
      {
       "output_type": "stream",
       "stream": "stdout",
       "text": [
        " 8\n",
        "('0', '-120', 'left', 'flat') 9\n",
        "('0', '-120', 'left', 'flat') 10\n",
        "('0', '-120', 'left', 'flat')"
       ]
      },
      {
       "output_type": "stream",
       "stream": "stdout",
       "text": [
        " 11\n",
        "('0', '-120', 'left', 'flat')"
       ]
      },
      {
       "output_type": "stream",
       "stream": "stdout",
       "text": [
        " 12\n",
        "('0', '-120', 'right', 'flat') 0\n",
        "('0', '-120', 'right', 'flat') 1\n",
        "('0', '-120', 'right', 'flat')"
       ]
      },
      {
       "output_type": "stream",
       "stream": "stdout",
       "text": [
        " 2\n",
        "('0', '-120', 'right', 'flat') 3\n",
        "('0', '-120', 'right', 'flat') 4\n",
        "('0', '-120', 'right', 'flat') 5\n",
        "('0', '-120', 'right', 'flat')"
       ]
      },
      {
       "output_type": "stream",
       "stream": "stdout",
       "text": [
        " 6\n",
        "('0', '-120', 'right', 'flat')"
       ]
      },
      {
       "output_type": "stream",
       "stream": "stdout",
       "text": [
        " 7\n",
        "('0', '-120', 'right', 'flat')"
       ]
      },
      {
       "output_type": "stream",
       "stream": "stdout",
       "text": [
        " 8\n",
        "('0', '-120', 'right', 'flat') 9\n",
        "('0', '-120', 'right', 'flat') 10\n",
        "('0', '-120', 'right', 'flat')"
       ]
      },
      {
       "output_type": "stream",
       "stream": "stdout",
       "text": [
        " 11\n",
        "('0', '-120', 'right', 'flat') 12\n",
        "('0', '-120', 'left', 'directed') 0\n",
        "('0', '-120', 'left', 'directed') 1\n",
        "('0', '-120', 'left', 'directed') 2\n",
        "('0', '-120', 'left', 'directed') 3\n",
        "('0', '-120', 'left', 'directed') 4\n",
        "('0', '-120', 'left', 'directed') 5\n",
        "('0', '-120', 'left', 'directed') 6\n",
        "('0', '-120', 'left', 'directed') 7\n",
        "('0', '-120', 'left', 'directed') 8\n",
        "('0', '-120', 'left', 'directed') 9\n",
        "('0', '-120', 'left', 'directed') 10\n",
        "('0', '-120', 'left', 'directed') 11\n",
        "('0', '-120', 'left', 'directed') 12\n",
        "('0', '-120', 'right', 'directed') 0\n",
        "('0', '-120', 'right', 'directed') 1\n",
        "('0', '-120', 'right', 'directed') 2\n",
        "('0', '-120', 'right', 'directed') 3\n",
        "('0', '-120', 'right', 'directed') 4\n",
        "('0', '-120', 'right', 'directed') 5\n",
        "('0', '-120', 'right', 'directed') 6\n",
        "('0', '-120', 'right', 'directed') 7\n",
        "('0', '-120', 'right', 'directed') 8\n",
        "('0', '-120', 'right', 'directed') 9\n",
        "('0', '-120', 'right', 'directed') 10\n",
        "('0', '-120', 'right', 'directed') 11\n",
        "('0', '-120', 'right', 'directed') 12\n",
        "('0', '-30', 'left', 'flat')"
       ]
      },
      {
       "output_type": "stream",
       "stream": "stdout",
       "text": [
        " 0\n",
        "('0', '-30', 'left', 'flat') 1\n",
        "('0', '-30', 'left', 'flat')"
       ]
      },
      {
       "output_type": "stream",
       "stream": "stdout",
       "text": [
        " 2\n",
        "('0', '-30', 'left', 'flat') 3\n",
        "('0', '-30', 'left', 'flat') 4\n",
        "('0', '-30', 'left', 'flat')"
       ]
      },
      {
       "output_type": "stream",
       "stream": "stdout",
       "text": [
        " 5\n",
        "('0', '-30', 'left', 'flat')"
       ]
      },
      {
       "output_type": "stream",
       "stream": "stdout",
       "text": [
        " 6\n",
        "('0', '-30', 'left', 'flat') 7\n",
        "('0', '-30', 'left', 'flat')"
       ]
      },
      {
       "output_type": "stream",
       "stream": "stdout",
       "text": [
        " 8\n",
        "('0', '-30', 'left', 'flat') 9\n",
        "('0', '-30', 'left', 'flat') 10\n",
        "('0', '-30', 'left', 'flat')"
       ]
      },
      {
       "output_type": "stream",
       "stream": "stdout",
       "text": [
        " 11\n",
        "('0', '-30', 'left', 'flat') 12\n",
        "('0', '-30', 'right', 'flat')"
       ]
      },
      {
       "output_type": "stream",
       "stream": "stdout",
       "text": [
        " 0\n",
        "('0', '-30', 'right', 'flat') 1\n",
        "('0', '-30', 'right', 'flat')"
       ]
      },
      {
       "output_type": "stream",
       "stream": "stdout",
       "text": [
        " 2\n",
        "('0', '-30', 'right', 'flat') 3\n",
        "('0', '-30', 'right', 'flat')"
       ]
      },
      {
       "output_type": "stream",
       "stream": "stdout",
       "text": [
        " 4\n",
        "('0', '-30', 'right', 'flat') 5\n",
        "('0', '-30', 'right', 'flat')"
       ]
      },
      {
       "output_type": "stream",
       "stream": "stdout",
       "text": [
        " 6\n",
        "('0', '-30', 'right', 'flat') 7\n",
        "('0', '-30', 'right', 'flat') 8\n",
        "('0', '-30', 'right', 'flat')"
       ]
      },
      {
       "output_type": "stream",
       "stream": "stdout",
       "text": [
        " 9\n",
        "('0', '-30', 'right', 'flat') 10\n",
        "('0', '-30', 'right', 'flat')"
       ]
      },
      {
       "output_type": "stream",
       "stream": "stdout",
       "text": [
        " 11\n",
        "('0', '-30', 'right', 'flat') 12\n",
        "('0', '-30', 'left', 'directed') 0\n",
        "('0', '-30', 'left', 'directed') 1\n",
        "('0', '-30', 'left', 'directed') 2\n",
        "('0', '-30', 'left', 'directed') 3\n",
        "('0', '-30', 'left', 'directed') 4\n",
        "('0', '-30', 'left', 'directed') 5\n",
        "('0', '-30', 'left', 'directed') 6\n",
        "('0', '-30', 'left', 'directed') 7\n",
        "('0', '-30', 'left', 'directed') 8\n",
        "('0', '-30', 'left', 'directed') 9\n",
        "('0', '-30', 'left', 'directed') 10\n",
        "('0', '-30', 'left', 'directed') 11\n",
        "('0', '-30', 'left', 'directed') 12\n",
        "('0', '-30', 'right', 'directed') 0\n",
        "('0', '-30', 'right', 'directed') 1\n",
        "('0', '-30', 'right', 'directed') 2\n",
        "('0', '-30', 'right', 'directed') 3\n",
        "('0', '-30', 'right', 'directed') 4\n",
        "('0', '-30', 'right', 'directed') 5\n",
        "('0', '-30', 'right', 'directed') 6\n",
        "('0', '-30', 'right', 'directed') 7\n",
        "('0', '-30', 'right', 'directed') 8\n",
        "('0', '-30', 'right', 'directed') 9\n",
        "('0', '-30', 'right', 'directed') 10\n",
        "('0', '-30', 'right', 'directed') 11\n",
        "('0', '-30', 'right', 'directed') 12\n",
        "('0', '-60', 'left', 'flat')"
       ]
      },
      {
       "output_type": "stream",
       "stream": "stdout",
       "text": [
        " 0\n",
        "('0', '-60', 'left', 'flat')"
       ]
      },
      {
       "output_type": "stream",
       "stream": "stdout",
       "text": [
        " 1\n",
        "('0', '-60', 'left', 'flat') 2\n",
        "('0', '-60', 'left', 'flat')"
       ]
      },
      {
       "output_type": "stream",
       "stream": "stdout",
       "text": [
        " 3\n",
        "('0', '-60', 'left', 'flat') 4\n",
        "('0', '-60', 'left', 'flat') 5\n",
        "('0', '-60', 'left', 'flat') 6\n",
        "('0', '-60', 'left', 'flat')"
       ]
      },
      {
       "output_type": "stream",
       "stream": "stdout",
       "text": [
        " 7\n",
        "('0', '-60', 'left', 'flat') 8\n",
        "('0', '-60', 'left', 'flat')"
       ]
      },
      {
       "output_type": "stream",
       "stream": "stdout",
       "text": [
        " 9\n",
        "('0', '-60', 'left', 'flat')"
       ]
      },
      {
       "output_type": "stream",
       "stream": "stdout",
       "text": [
        " 10\n",
        "('0', '-60', 'left', 'flat') 11\n",
        "('0', '-60', 'left', 'flat') 12\n",
        "('0', '-60', 'right', 'flat')"
       ]
      },
      {
       "output_type": "stream",
       "stream": "stdout",
       "text": [
        " 0\n",
        "('0', '-60', 'right', 'flat')"
       ]
      },
      {
       "output_type": "stream",
       "stream": "stdout",
       "text": [
        " 1\n",
        "('0', '-60', 'right', 'flat') 2\n",
        "('0', '-60', 'right', 'flat')"
       ]
      },
      {
       "output_type": "stream",
       "stream": "stdout",
       "text": [
        " 3\n",
        "('0', '-60', 'right', 'flat')"
       ]
      },
      {
       "output_type": "stream",
       "stream": "stdout",
       "text": [
        " 4\n",
        "('0', '-60', 'right', 'flat') 5\n",
        "('0', '-60', 'right', 'flat') 6\n",
        "('0', '-60', 'right', 'flat') 7\n",
        "('0', '-60', 'right', 'flat') 8\n",
        "('0', '-60', 'right', 'flat') 9\n",
        "('0', '-60', 'right', 'flat') 10\n",
        "('0', '-60', 'right', 'flat')"
       ]
      },
      {
       "output_type": "stream",
       "stream": "stdout",
       "text": [
        " 11\n",
        "('0', '-60', 'right', 'flat') 12\n",
        "('0', '-60', 'left', 'directed') 0\n",
        "('0', '-60', 'left', 'directed') 1\n",
        "('0', '-60', 'left', 'directed') 2\n",
        "('0', '-60', 'left', 'directed') 3\n",
        "('0', '-60', 'left', 'directed') 4\n",
        "('0', '-60', 'left', 'directed') 5\n",
        "('0', '-60', 'left', 'directed') 6\n",
        "('0', '-60', 'left', 'directed') 7\n",
        "('0', '-60', 'left', 'directed') 8\n",
        "('0', '-60', 'left', 'directed') 9\n",
        "('0', '-60', 'left', 'directed') 10\n",
        "('0', '-60', 'left', 'directed') 11\n",
        "('0', '-60', 'left', 'directed') 12\n",
        "('0', '-60', 'right', 'directed') 0\n",
        "('0', '-60', 'right', 'directed') 1\n",
        "('0', '-60', 'right', 'directed') 2\n",
        "('0', '-60', 'right', 'directed') 3\n",
        "('0', '-60', 'right', 'directed') 4\n",
        "('0', '-60', 'right', 'directed') 5\n",
        "('0', '-60', 'right', 'directed') 6\n",
        "('0', '-60', 'right', 'directed') 7\n",
        "('0', '-60', 'right', 'directed') 8\n",
        "('0', '-60', 'right', 'directed') 9\n",
        "('0', '-60', 'right', 'directed') 10\n",
        "('0', '-60', 'right', 'directed') 11\n",
        "('0', '-60', 'right', 'directed') 12\n",
        "('0', '-90', 'left', 'flat')"
       ]
      },
      {
       "output_type": "stream",
       "stream": "stdout",
       "text": [
        " 0\n",
        "('0', '-90', 'left', 'flat')"
       ]
      },
      {
       "output_type": "stream",
       "stream": "stdout",
       "text": [
        " 1\n",
        "('0', '-90', 'left', 'flat') 2\n",
        "('0', '-90', 'left', 'flat')"
       ]
      },
      {
       "output_type": "stream",
       "stream": "stdout",
       "text": [
        " 3\n",
        "('0', '-90', 'left', 'flat')"
       ]
      },
      {
       "output_type": "stream",
       "stream": "stdout",
       "text": [
        " 4\n",
        "('0', '-90', 'left', 'flat') 5\n",
        "('0', '-90', 'left', 'flat') 6\n",
        "('0', '-90', 'left', 'flat')"
       ]
      },
      {
       "output_type": "stream",
       "stream": "stdout",
       "text": [
        " 7\n",
        "('0', '-90', 'left', 'flat')"
       ]
      },
      {
       "output_type": "stream",
       "stream": "stdout",
       "text": [
        " 8\n",
        "('0', '-90', 'left', 'flat') 9\n",
        "('0', '-90', 'left', 'flat') 10\n",
        "('0', '-90', 'left', 'flat') 11\n",
        "('0', '-90', 'left', 'flat') 12\n",
        "('0', '-90', 'right', 'flat')"
       ]
      },
      {
       "output_type": "stream",
       "stream": "stdout",
       "text": [
        " 0\n",
        "('0', '-90', 'right', 'flat')"
       ]
      },
      {
       "output_type": "stream",
       "stream": "stdout",
       "text": [
        " 1\n",
        "('0', '-90', 'right', 'flat')"
       ]
      },
      {
       "output_type": "stream",
       "stream": "stdout",
       "text": [
        " 2\n",
        "('0', '-90', 'right', 'flat') 3\n",
        "('0', '-90', 'right', 'flat') 4\n",
        "('0', '-90', 'right', 'flat')"
       ]
      },
      {
       "output_type": "stream",
       "stream": "stdout",
       "text": [
        " 5\n",
        "('0', '-90', 'right', 'flat') 6\n",
        "('0', '-90', 'right', 'flat') 7\n",
        "('0', '-90', 'right', 'flat')"
       ]
      },
      {
       "output_type": "stream",
       "stream": "stdout",
       "text": [
        " 8\n",
        "('0', '-90', 'right', 'flat') 9\n",
        "('0', '-90', 'right', 'flat') 10\n",
        "('0', '-90', 'right', 'flat')"
       ]
      },
      {
       "output_type": "stream",
       "stream": "stdout",
       "text": [
        " 11\n",
        "('0', '-90', 'right', 'flat') 12\n",
        "('0', '-90', 'left', 'directed') 0\n",
        "('0', '-90', 'left', 'directed') 1\n",
        "('0', '-90', 'left', 'directed') 2\n",
        "('0', '-90', 'left', 'directed') 3\n",
        "('0', '-90', 'left', 'directed') 4\n",
        "('0', '-90', 'left', 'directed') 5\n",
        "('0', '-90', 'left', 'directed') 6\n",
        "('0', '-90', 'left', 'directed') 7\n",
        "('0', '-90', 'left', 'directed') 8\n",
        "('0', '-90', 'left', 'directed') 9\n",
        "('0', '-90', 'left', 'directed') 10\n",
        "('0', '-90', 'left', 'directed') 11\n",
        "('0', '-90', 'left', 'directed') 12\n",
        "('0', '-90', 'right', 'directed') 0\n",
        "('0', '-90', 'right', 'directed') 1\n",
        "('0', '-90', 'right', 'directed') 2\n",
        "('0', '-90', 'right', 'directed') 3\n",
        "('0', '-90', 'right', 'directed') 4\n",
        "('0', '-90', 'right', 'directed') 5\n",
        "('0', '-90', 'right', 'directed') 6\n",
        "('0', '-90', 'right', 'directed') 7\n",
        "('0', '-90', 'right', 'directed') 8\n",
        "('0', '-90', 'right', 'directed') 9\n",
        "('0', '-90', 'right', 'directed') 10\n",
        "('0', '-90', 'right', 'directed') 11\n",
        "('0', '-90', 'right', 'directed') 12\n",
        "('0', '0', 'left', 'directed') 0\n",
        "('0', '0', 'left', 'directed') 1\n",
        "('0', '0', 'left', 'directed') 2\n",
        "('0', '0', 'left', 'directed') 3\n",
        "('0', '0', 'left', 'directed') 4\n",
        "('0', '0', 'left', 'directed') 5\n",
        "('0', '0', 'left', 'directed') 6\n",
        "('0', '0', 'left', 'directed') 7\n",
        "('0', '0', 'left', 'directed') 8\n",
        "('0', '0', 'left', 'directed') 9\n",
        "('0', '0', 'left', 'directed') 10\n",
        "('0', '0', 'left', 'directed') 11\n",
        "('0', '0', 'left', 'directed') 12\n",
        "('0', '0', 'right', 'directed') 0\n",
        "('0', '0', 'right', 'directed') 1\n",
        "('0', '0', 'right', 'directed') 2\n",
        "('0', '0', 'right', 'directed') 3\n",
        "('0', '0', 'right', 'directed') 4\n",
        "('0', '0', 'right', 'directed') 5\n",
        "('0', '0', 'right', 'directed') 6\n",
        "('0', '0', 'right', 'directed') 7\n",
        "('0', '0', 'right', 'directed') 8\n",
        "('0', '0', 'right', 'directed') 9\n",
        "('0', '0', 'right', 'directed') 10\n",
        "('0', '0', 'right', 'directed') 11\n",
        "('0', '0', 'right', 'directed') 12\n",
        "('0', '120', 'left', 'flat')"
       ]
      },
      {
       "output_type": "stream",
       "stream": "stdout",
       "text": [
        " 0\n",
        "('0', '120', 'left', 'flat') 1\n",
        "('0', '120', 'left', 'flat') 2\n",
        "('0', '120', 'left', 'flat')"
       ]
      },
      {
       "output_type": "stream",
       "stream": "stdout",
       "text": [
        " 3\n",
        "('0', '120', 'left', 'flat') 4\n",
        "('0', '120', 'left', 'flat')"
       ]
      },
      {
       "output_type": "stream",
       "stream": "stdout",
       "text": [
        " 5\n",
        "('0', '120', 'left', 'flat')"
       ]
      },
      {
       "output_type": "stream",
       "stream": "stdout",
       "text": [
        " 6\n",
        "('0', '120', 'left', 'flat')"
       ]
      },
      {
       "output_type": "stream",
       "stream": "stdout",
       "text": [
        " 7\n",
        "('0', '120', 'left', 'flat') 8\n",
        "('0', '120', 'left', 'flat') 9\n",
        "('0', '120', 'left', 'flat')"
       ]
      },
      {
       "output_type": "stream",
       "stream": "stdout",
       "text": [
        " 10\n",
        "('0', '120', 'left', 'flat')"
       ]
      },
      {
       "output_type": "stream",
       "stream": "stdout",
       "text": [
        " 11\n",
        "('0', '120', 'left', 'flat')"
       ]
      },
      {
       "output_type": "stream",
       "stream": "stdout",
       "text": [
        " 12\n",
        "('0', '120', 'right', 'flat') 0\n",
        "('0', '120', 'right', 'flat') 1\n",
        "('0', '120', 'right', 'flat')"
       ]
      },
      {
       "output_type": "stream",
       "stream": "stdout",
       "text": [
        " 2\n",
        "('0', '120', 'right', 'flat') 3\n",
        "('0', '120', 'right', 'flat')"
       ]
      },
      {
       "output_type": "stream",
       "stream": "stdout",
       "text": [
        " 4\n",
        "('0', '120', 'right', 'flat') 5\n",
        "('0', '120', 'right', 'flat')"
       ]
      },
      {
       "output_type": "stream",
       "stream": "stdout",
       "text": [
        " 6\n",
        "('0', '120', 'right', 'flat') 7\n",
        "('0', '120', 'right', 'flat')"
       ]
      },
      {
       "output_type": "stream",
       "stream": "stdout",
       "text": [
        " 8\n",
        "('0', '120', 'right', 'flat')"
       ]
      },
      {
       "output_type": "stream",
       "stream": "stdout",
       "text": [
        " 9\n",
        "('0', '120', 'right', 'flat') 10\n",
        "('0', '120', 'right', 'flat') 11\n",
        "('0', '120', 'right', 'flat') 12\n",
        "('0', '120', 'left', 'directed') 0\n",
        "('0', '120', 'left', 'directed') 1\n",
        "('0', '120', 'left', 'directed') 2\n",
        "('0', '120', 'left', 'directed') 3\n",
        "('0', '120', 'left', 'directed') 4\n",
        "('0', '120', 'left', 'directed') 5\n",
        "('0', '120', 'left', 'directed') 6\n",
        "('0', '120', 'left', 'directed') 7\n",
        "('0', '120', 'left', 'directed') 8\n",
        "('0', '120', 'left', 'directed') 9\n",
        "('0', '120', 'left', 'directed') 10\n",
        "('0', '120', 'left', 'directed') 11\n",
        "('0', '120', 'left', 'directed') 12\n",
        "('0', '120', 'right', 'directed') 0\n",
        "('0', '120', 'right', 'directed') 1\n",
        "('0', '120', 'right', 'directed') 2\n",
        "('0', '120', 'right', 'directed') 3\n",
        "('0', '120', 'right', 'directed') 4\n",
        "('0', '120', 'right', 'directed') 5\n",
        "('0', '120', 'right', 'directed') 6\n",
        "('0', '120', 'right', 'directed') 7\n",
        "('0', '120', 'right', 'directed') 8\n",
        "('0', '120', 'right', 'directed') 9\n",
        "('0', '120', 'right', 'directed') 10\n",
        "('0', '120', 'right', 'directed') 11\n",
        "('0', '120', 'right', 'directed') 12\n",
        "('0', '30', 'left', 'flat')"
       ]
      },
      {
       "output_type": "stream",
       "stream": "stdout",
       "text": [
        " 0\n",
        "('0', '30', 'left', 'flat') 1\n",
        "('0', '30', 'left', 'flat')"
       ]
      },
      {
       "output_type": "stream",
       "stream": "stdout",
       "text": [
        " 2\n",
        "('0', '30', 'left', 'flat') 3\n",
        "('0', '30', 'left', 'flat')"
       ]
      },
      {
       "output_type": "stream",
       "stream": "stdout",
       "text": [
        " 4\n",
        "('0', '30', 'left', 'flat') 5\n",
        "('0', '30', 'left', 'flat') 6\n",
        "('0', '30', 'left', 'flat')"
       ]
      },
      {
       "output_type": "stream",
       "stream": "stdout",
       "text": [
        " 7\n",
        "('0', '30', 'left', 'flat') 8\n",
        "('0', '30', 'left', 'flat') 9\n",
        "('0', '30', 'left', 'flat')"
       ]
      },
      {
       "output_type": "stream",
       "stream": "stdout",
       "text": [
        " 10\n",
        "('0', '30', 'left', 'flat') 11\n",
        "('0', '30', 'left', 'flat') 12\n",
        "('0', '30', 'right', 'flat') 0\n",
        "('0', '30', 'right', 'flat') 1\n",
        "('0', '30', 'right', 'flat') 2\n",
        "('0', '30', 'right', 'flat')"
       ]
      },
      {
       "output_type": "stream",
       "stream": "stdout",
       "text": [
        " 3\n",
        "('0', '30', 'right', 'flat') 4\n",
        "('0', '30', 'right', 'flat')"
       ]
      },
      {
       "output_type": "stream",
       "stream": "stdout",
       "text": [
        " 5\n",
        "('0', '30', 'right', 'flat') 6\n",
        "('0', '30', 'right', 'flat')"
       ]
      },
      {
       "output_type": "stream",
       "stream": "stdout",
       "text": [
        " 7\n",
        "('0', '30', 'right', 'flat')"
       ]
      },
      {
       "output_type": "stream",
       "stream": "stdout",
       "text": [
        " 8\n",
        "('0', '30', 'right', 'flat') 9\n",
        "('0', '30', 'right', 'flat') 10\n",
        "('0', '30', 'right', 'flat') 11\n",
        "('0', '30', 'right', 'flat') 12\n",
        "('0', '30', 'left', 'directed') 0\n",
        "('0', '30', 'left', 'directed') 1\n",
        "('0', '30', 'left', 'directed') 2\n",
        "('0', '30', 'left', 'directed') 3\n",
        "('0', '30', 'left', 'directed') 4\n",
        "('0', '30', 'left', 'directed') 5\n",
        "('0', '30', 'left', 'directed') 6\n",
        "('0', '30', 'left', 'directed') 7\n",
        "('0', '30', 'left', 'directed') 8\n",
        "('0', '30', 'left', 'directed') 9\n",
        "('0', '30', 'left', 'directed') 10\n",
        "('0', '30', 'left', 'directed') 11\n",
        "('0', '30', 'left', 'directed') 12\n",
        "('0', '30', 'right', 'directed') 0\n",
        "('0', '30', 'right', 'directed') 1\n",
        "('0', '30', 'right', 'directed') 2\n",
        "('0', '30', 'right', 'directed') 3\n",
        "('0', '30', 'right', 'directed') 4\n",
        "('0', '30', 'right', 'directed') 5\n",
        "('0', '30', 'right', 'directed') 6\n",
        "('0', '30', 'right', 'directed') 7\n",
        "('0', '30', 'right', 'directed') 8\n",
        "('0', '30', 'right', 'directed') 9\n",
        "('0', '30', 'right', 'directed') 10\n",
        "('0', '30', 'right', 'directed') 11\n",
        "('0', '30', 'right', 'directed') 12\n",
        "('0', '60', 'left', 'flat')"
       ]
      },
      {
       "output_type": "stream",
       "stream": "stdout",
       "text": [
        " 0\n",
        "('0', '60', 'left', 'flat') 1\n",
        "('0', '60', 'left', 'flat') 2\n",
        "('0', '60', 'left', 'flat')"
       ]
      },
      {
       "output_type": "stream",
       "stream": "stdout",
       "text": [
        " 3\n",
        "('0', '60', 'left', 'flat') 4\n",
        "('0', '60', 'left', 'flat') 5\n",
        "('0', '60', 'left', 'flat') 6\n",
        "('0', '60', 'left', 'flat')"
       ]
      },
      {
       "output_type": "stream",
       "stream": "stdout",
       "text": [
        " 7\n",
        "('0', '60', 'left', 'flat') 8\n",
        "('0', '60', 'left', 'flat') 9\n",
        "('0', '60', 'left', 'flat') 10\n",
        "('0', '60', 'left', 'flat')"
       ]
      },
      {
       "output_type": "stream",
       "stream": "stdout",
       "text": [
        " 11\n",
        "('0', '60', 'left', 'flat') 12\n",
        "('0', '60', 'right', 'flat')"
       ]
      },
      {
       "output_type": "stream",
       "stream": "stdout",
       "text": [
        " 0\n",
        "('0', '60', 'right', 'flat')"
       ]
      },
      {
       "output_type": "stream",
       "stream": "stdout",
       "text": [
        " 1\n",
        "('0', '60', 'right', 'flat')"
       ]
      },
      {
       "output_type": "stream",
       "stream": "stdout",
       "text": [
        " 2\n",
        "('0', '60', 'right', 'flat') 3\n",
        "('0', '60', 'right', 'flat')"
       ]
      },
      {
       "output_type": "stream",
       "stream": "stdout",
       "text": [
        " 4\n",
        "('0', '60', 'right', 'flat') 5\n",
        "('0', '60', 'right', 'flat') 6\n",
        "('0', '60', 'right', 'flat') 7\n",
        "('0', '60', 'right', 'flat')"
       ]
      },
      {
       "output_type": "stream",
       "stream": "stdout",
       "text": [
        " 8\n",
        "('0', '60', 'right', 'flat') 9\n",
        "('0', '60', 'right', 'flat') 10\n",
        "('0', '60', 'right', 'flat') 11\n",
        "('0', '60', 'right', 'flat')"
       ]
      },
      {
       "output_type": "stream",
       "stream": "stdout",
       "text": [
        " 12\n",
        "('0', '60', 'left', 'directed') 0\n",
        "('0', '60', 'left', 'directed') 1\n",
        "('0', '60', 'left', 'directed') 2\n",
        "('0', '60', 'left', 'directed') 3\n",
        "('0', '60', 'left', 'directed') 4\n",
        "('0', '60', 'left', 'directed') 5\n",
        "('0', '60', 'left', 'directed') 6\n",
        "('0', '60', 'left', 'directed') 7\n",
        "('0', '60', 'left', 'directed') 8\n",
        "('0', '60', 'left', 'directed') 9\n",
        "('0', '60', 'left', 'directed') 10\n",
        "('0', '60', 'left', 'directed') 11\n",
        "('0', '60', 'left', 'directed') 12\n",
        "('0', '60', 'right', 'directed') 0\n",
        "('0', '60', 'right', 'directed') 1\n",
        "('0', '60', 'right', 'directed') 2\n",
        "('0', '60', 'right', 'directed') 3\n",
        "('0', '60', 'right', 'directed') 4\n",
        "('0', '60', 'right', 'directed') 5\n",
        "('0', '60', 'right', 'directed') 6\n",
        "('0', '60', 'right', 'directed') 7\n",
        "('0', '60', 'right', 'directed') 8\n",
        "('0', '60', 'right', 'directed') 9\n",
        "('0', '60', 'right', 'directed') 10\n",
        "('0', '60', 'right', 'directed') 11\n",
        "('0', '60', 'right', 'directed') 12\n",
        "('0', '90', 'left', 'flat') 0\n",
        "('0', '90', 'left', 'flat')"
       ]
      },
      {
       "output_type": "stream",
       "stream": "stdout",
       "text": [
        " 1\n",
        "('0', '90', 'left', 'flat') 2\n",
        "('0', '90', 'left', 'flat') 3\n",
        "('0', '90', 'left', 'flat')"
       ]
      },
      {
       "output_type": "stream",
       "stream": "stdout",
       "text": [
        " 4\n",
        "('0', '90', 'left', 'flat') 5\n",
        "('0', '90', 'left', 'flat') 6\n",
        "('0', '90', 'left', 'flat')"
       ]
      },
      {
       "output_type": "stream",
       "stream": "stdout",
       "text": [
        " 7\n",
        "('0', '90', 'left', 'flat') 8\n",
        "('0', '90', 'left', 'flat')"
       ]
      },
      {
       "output_type": "stream",
       "stream": "stdout",
       "text": [
        " 9\n",
        "('0', '90', 'left', 'flat') 10\n",
        "('0', '90', 'left', 'flat')"
       ]
      },
      {
       "output_type": "stream",
       "stream": "stdout",
       "text": [
        " 11\n",
        "('0', '90', 'left', 'flat') 12\n",
        "('0', '90', 'right', 'flat')"
       ]
      },
      {
       "output_type": "stream",
       "stream": "stdout",
       "text": [
        " 0\n",
        "('0', '90', 'right', 'flat') 1\n",
        "('0', '90', 'right', 'flat')"
       ]
      },
      {
       "output_type": "stream",
       "stream": "stdout",
       "text": [
        " 2\n",
        "('0', '90', 'right', 'flat') 3\n",
        "('0', '90', 'right', 'flat')"
       ]
      },
      {
       "output_type": "stream",
       "stream": "stdout",
       "text": [
        " 4\n",
        "('0', '90', 'right', 'flat') 5\n",
        "('0', '90', 'right', 'flat')"
       ]
      },
      {
       "output_type": "stream",
       "stream": "stdout",
       "text": [
        " 6\n",
        "('0', '90', 'right', 'flat') 7\n",
        "('0', '90', 'right', 'flat') 8\n",
        "('0', '90', 'right', 'flat')"
       ]
      },
      {
       "output_type": "stream",
       "stream": "stdout",
       "text": [
        " 9\n",
        "('0', '90', 'right', 'flat')"
       ]
      },
      {
       "output_type": "stream",
       "stream": "stdout",
       "text": [
        " 10\n",
        "('0', '90', 'right', 'flat') 11\n",
        "('0', '90', 'right', 'flat') 12\n",
        "('0', '90', 'left', 'directed') 0\n",
        "('0', '90', 'left', 'directed') 1\n",
        "('0', '90', 'left', 'directed') 2\n",
        "('0', '90', 'left', 'directed') 3\n",
        "('0', '90', 'left', 'directed') 4\n",
        "('0', '90', 'left', 'directed') 5\n",
        "('0', '90', 'left', 'directed') 6\n",
        "('0', '90', 'left', 'directed') 7\n",
        "('0', '90', 'left', 'directed') 8\n",
        "('0', '90', 'left', 'directed') 9\n",
        "('0', '90', 'left', 'directed') 10\n",
        "('0', '90', 'left', 'directed') 11\n",
        "('0', '90', 'left', 'directed') 12\n",
        "('0', '90', 'right', 'directed') 0\n",
        "('0', '90', 'right', 'directed') 1\n",
        "('0', '90', 'right', 'directed') 2\n",
        "('0', '90', 'right', 'directed') 3\n",
        "('0', '90', 'right', 'directed') 4\n",
        "('0', '90', 'right', 'directed') 5\n",
        "('0', '90', 'right', 'directed') 6\n",
        "('0', '90', 'right', 'directed') 7\n",
        "('0', '90', 'right', 'directed') 8\n",
        "('0', '90', 'right', 'directed') 9\n",
        "('0', '90', 'right', 'directed') 10\n",
        "('0', '90', 'right', 'directed') 11\n",
        "('0', '90', 'right', 'directed') 12\n",
        "('20', '-120', 'left', 'flat')"
       ]
      },
      {
       "output_type": "stream",
       "stream": "stdout",
       "text": [
        " 0\n",
        "('20', '-120', 'left', 'flat') 1\n",
        "('20', '-120', 'left', 'flat') 2\n",
        "('20', '-120', 'left', 'flat') 3\n",
        "('20', '-120', 'left', 'flat')"
       ]
      },
      {
       "output_type": "stream",
       "stream": "stdout",
       "text": [
        " 4\n",
        "('20', '-120', 'left', 'flat') 5\n",
        "('20', '-120', 'left', 'flat') 6\n",
        "('20', '-120', 'left', 'flat') 7\n",
        "('20', '-120', 'left', 'flat')"
       ]
      },
      {
       "output_type": "stream",
       "stream": "stdout",
       "text": [
        " 8\n",
        "('20', '-120', 'left', 'flat') 9\n",
        "('20', '-120', 'left', 'flat')"
       ]
      },
      {
       "output_type": "stream",
       "stream": "stdout",
       "text": [
        " 10\n",
        "('20', '-120', 'left', 'flat') 11\n",
        "('20', '-120', 'left', 'flat') 12\n",
        "('20', '-120', 'right', 'flat') 0\n",
        "('20', '-120', 'right', 'flat') 1\n",
        "('20', '-120', 'right', 'flat')"
       ]
      },
      {
       "output_type": "stream",
       "stream": "stdout",
       "text": [
        " 2\n",
        "('20', '-120', 'right', 'flat') 3\n",
        "('20', '-120', 'right', 'flat') 4\n",
        "('20', '-120', 'right', 'flat')"
       ]
      },
      {
       "output_type": "stream",
       "stream": "stdout",
       "text": [
        " 5\n",
        "('20', '-120', 'right', 'flat') 6\n",
        "('20', '-120', 'right', 'flat') 7\n",
        "('20', '-120', 'right', 'flat') 8\n",
        "('20', '-120', 'right', 'flat')"
       ]
      },
      {
       "output_type": "stream",
       "stream": "stdout",
       "text": [
        " 9\n",
        "('20', '-120', 'right', 'flat') 10\n",
        "('20', '-120', 'right', 'flat')"
       ]
      },
      {
       "output_type": "stream",
       "stream": "stdout",
       "text": [
        " 11\n",
        "('20', '-120', 'right', 'flat')"
       ]
      },
      {
       "output_type": "stream",
       "stream": "stdout",
       "text": [
        " 12\n",
        "('20', '-120', 'left', 'directed') 0\n",
        "('20', '-120', 'left', 'directed') 1\n",
        "('20', '-120', 'left', 'directed') 2\n",
        "('20', '-120', 'left', 'directed') 3\n",
        "('20', '-120', 'left', 'directed') 4\n",
        "('20', '-120', 'left', 'directed') 5\n",
        "('20', '-120', 'left', 'directed') 6\n",
        "('20', '-120', 'left', 'directed') 7\n",
        "('20', '-120', 'left', 'directed') 8\n",
        "('20', '-120', 'left', 'directed') 9\n",
        "('20', '-120', 'left', 'directed') 10\n",
        "('20', '-120', 'left', 'directed') 11\n",
        "('20', '-120', 'left', 'directed') 12\n",
        "('20', '-120', 'right', 'directed') 0\n",
        "('20', '-120', 'right', 'directed') 1\n",
        "('20', '-120', 'right', 'directed') 2\n",
        "('20', '-120', 'right', 'directed') 3\n",
        "('20', '-120', 'right', 'directed') 4\n",
        "('20', '-120', 'right', 'directed') 5\n",
        "('20', '-120', 'right', 'directed') 6\n",
        "('20', '-120', 'right', 'directed') 7\n",
        "('20', '-120', 'right', 'directed') 8\n",
        "('20', '-120', 'right', 'directed') 9\n",
        "('20', '-120', 'right', 'directed') 10\n",
        "('20', '-120', 'right', 'directed') 11\n",
        "('20', '-120', 'right', 'directed') 12\n",
        "('20', '-30', 'left', 'flat') 0\n",
        "('20', '-30', 'left', 'flat')"
       ]
      },
      {
       "output_type": "stream",
       "stream": "stdout",
       "text": [
        " 1\n",
        "('20', '-30', 'left', 'flat') 2\n",
        "('20', '-30', 'left', 'flat')"
       ]
      },
      {
       "output_type": "stream",
       "stream": "stdout",
       "text": [
        " 3\n",
        "('20', '-30', 'left', 'flat') 4\n",
        "('20', '-30', 'left', 'flat') 5\n",
        "('20', '-30', 'left', 'flat')"
       ]
      },
      {
       "output_type": "stream",
       "stream": "stdout",
       "text": [
        " 6\n",
        "('20', '-30', 'left', 'flat') 7\n",
        "('20', '-30', 'left', 'flat')"
       ]
      },
      {
       "output_type": "stream",
       "stream": "stdout",
       "text": [
        " 8\n",
        "('20', '-30', 'left', 'flat') 9\n",
        "('20', '-30', 'left', 'flat') 10\n",
        "('20', '-30', 'left', 'flat') 11\n",
        "('20', '-30', 'left', 'flat') 12\n",
        "('20', '-30', 'right', 'flat') 0\n",
        "('20', '-30', 'right', 'flat')"
       ]
      },
      {
       "output_type": "stream",
       "stream": "stdout",
       "text": [
        " 1\n",
        "('20', '-30', 'right', 'flat')"
       ]
      },
      {
       "output_type": "stream",
       "stream": "stdout",
       "text": [
        " 2\n",
        "('20', '-30', 'right', 'flat')"
       ]
      },
      {
       "output_type": "stream",
       "stream": "stdout",
       "text": [
        " 3\n",
        "('20', '-30', 'right', 'flat') 4\n",
        "('20', '-30', 'right', 'flat') 5\n",
        "('20', '-30', 'right', 'flat')"
       ]
      },
      {
       "output_type": "stream",
       "stream": "stdout",
       "text": [
        " 6\n",
        "('20', '-30', 'right', 'flat') 7\n",
        "('20', '-30', 'right', 'flat')"
       ]
      },
      {
       "output_type": "stream",
       "stream": "stdout",
       "text": [
        " 8\n",
        "('20', '-30', 'right', 'flat')"
       ]
      },
      {
       "output_type": "stream",
       "stream": "stdout",
       "text": [
        " 9\n",
        "('20', '-30', 'right', 'flat')"
       ]
      },
      {
       "output_type": "stream",
       "stream": "stdout",
       "text": [
        " 10\n",
        "('20', '-30', 'right', 'flat') 11\n",
        "('20', '-30', 'right', 'flat') 12\n",
        "('20', '-30', 'left', 'directed') 0\n",
        "('20', '-30', 'left', 'directed') 1\n",
        "('20', '-30', 'left', 'directed') 2\n",
        "('20', '-30', 'left', 'directed') 3\n",
        "('20', '-30', 'left', 'directed') 4\n",
        "('20', '-30', 'left', 'directed') 5\n",
        "('20', '-30', 'left', 'directed') 6\n",
        "('20', '-30', 'left', 'directed') 7\n",
        "('20', '-30', 'left', 'directed') 8\n",
        "('20', '-30', 'left', 'directed') 9\n",
        "('20', '-30', 'left', 'directed') 10\n",
        "('20', '-30', 'left', 'directed') 11\n",
        "('20', '-30', 'left', 'directed') 12\n",
        "('20', '-30', 'right', 'directed') 0\n",
        "('20', '-30', 'right', 'directed') 1\n",
        "('20', '-30', 'right', 'directed') 2\n",
        "('20', '-30', 'right', 'directed') 3\n",
        "('20', '-30', 'right', 'directed') 4\n",
        "('20', '-30', 'right', 'directed') 5\n",
        "('20', '-30', 'right', 'directed') 6\n",
        "('20', '-30', 'right', 'directed') 7\n",
        "('20', '-30', 'right', 'directed') 8\n",
        "('20', '-30', 'right', 'directed') 9\n",
        "('20', '-30', 'right', 'directed') 10\n",
        "('20', '-30', 'right', 'directed') 11\n",
        "('20', '-30', 'right', 'directed') 12\n",
        "('20', '-60', 'left', 'flat') 0\n",
        "('20', '-60', 'left', 'flat')"
       ]
      },
      {
       "output_type": "stream",
       "stream": "stdout",
       "text": [
        " 1\n",
        "('20', '-60', 'left', 'flat')"
       ]
      },
      {
       "output_type": "stream",
       "stream": "stdout",
       "text": [
        " 2\n",
        "('20', '-60', 'left', 'flat')"
       ]
      },
      {
       "output_type": "stream",
       "stream": "stdout",
       "text": [
        " 3\n",
        "('20', '-60', 'left', 'flat') 4\n",
        "('20', '-60', 'left', 'flat') 5\n",
        "('20', '-60', 'left', 'flat') 6\n",
        "('20', '-60', 'left', 'flat')"
       ]
      },
      {
       "output_type": "stream",
       "stream": "stdout",
       "text": [
        " 7\n",
        "('20', '-60', 'left', 'flat') 8\n",
        "('20', '-60', 'left', 'flat')"
       ]
      },
      {
       "output_type": "stream",
       "stream": "stdout",
       "text": [
        " 9\n",
        "('20', '-60', 'left', 'flat') 10\n",
        "('20', '-60', 'left', 'flat') 11\n",
        "('20', '-60', 'left', 'flat') 12\n",
        "('20', '-60', 'right', 'flat')"
       ]
      },
      {
       "output_type": "stream",
       "stream": "stdout",
       "text": [
        " 0\n",
        "('20', '-60', 'right', 'flat') 1\n",
        "('20', '-60', 'right', 'flat')"
       ]
      },
      {
       "output_type": "stream",
       "stream": "stdout",
       "text": [
        " 2\n",
        "('20', '-60', 'right', 'flat') 3\n",
        "('20', '-60', 'right', 'flat')"
       ]
      },
      {
       "output_type": "stream",
       "stream": "stdout",
       "text": [
        " 4\n",
        "('20', '-60', 'right', 'flat')"
       ]
      },
      {
       "output_type": "stream",
       "stream": "stdout",
       "text": [
        " 5\n",
        "('20', '-60', 'right', 'flat') 6\n",
        "('20', '-60', 'right', 'flat')"
       ]
      },
      {
       "output_type": "stream",
       "stream": "stdout",
       "text": [
        " 7\n",
        "('20', '-60', 'right', 'flat') 8\n",
        "('20', '-60', 'right', 'flat') 9\n",
        "('20', '-60', 'right', 'flat')"
       ]
      },
      {
       "output_type": "stream",
       "stream": "stdout",
       "text": [
        " 10\n",
        "('20', '-60', 'right', 'flat') 11\n",
        "('20', '-60', 'right', 'flat')"
       ]
      },
      {
       "output_type": "stream",
       "stream": "stdout",
       "text": [
        " 12\n",
        "('20', '-60', 'left', 'directed') 0\n",
        "('20', '-60', 'left', 'directed') 1\n",
        "('20', '-60', 'left', 'directed') 2\n",
        "('20', '-60', 'left', 'directed') 3\n",
        "('20', '-60', 'left', 'directed') 4\n",
        "('20', '-60', 'left', 'directed') 5\n",
        "('20', '-60', 'left', 'directed') 6\n",
        "('20', '-60', 'left', 'directed') 7\n",
        "('20', '-60', 'left', 'directed') 8\n",
        "('20', '-60', 'left', 'directed') 9\n",
        "('20', '-60', 'left', 'directed') 10\n",
        "('20', '-60', 'left', 'directed') 11\n",
        "('20', '-60', 'left', 'directed') 12\n",
        "('20', '-60', 'right', 'directed') 0\n",
        "('20', '-60', 'right', 'directed') 1\n",
        "('20', '-60', 'right', 'directed') 2\n",
        "('20', '-60', 'right', 'directed') 3\n",
        "('20', '-60', 'right', 'directed') 4\n",
        "('20', '-60', 'right', 'directed') 5\n",
        "('20', '-60', 'right', 'directed') 6\n",
        "('20', '-60', 'right', 'directed') 7\n",
        "('20', '-60', 'right', 'directed') 8\n",
        "('20', '-60', 'right', 'directed') 9\n",
        "('20', '-60', 'right', 'directed') 10\n",
        "('20', '-60', 'right', 'directed') 11\n",
        "('20', '-60', 'right', 'directed') 12\n",
        "('20', '-90', 'left', 'flat') 0\n",
        "('20', '-90', 'left', 'flat') 1\n",
        "('20', '-90', 'left', 'flat') 2\n",
        "('20', '-90', 'left', 'flat') 3\n",
        "('20', '-90', 'left', 'flat')"
       ]
      },
      {
       "output_type": "stream",
       "stream": "stdout",
       "text": [
        " 4\n",
        "('20', '-90', 'left', 'flat') 5\n",
        "('20', '-90', 'left', 'flat') 6\n",
        "('20', '-90', 'left', 'flat')"
       ]
      },
      {
       "output_type": "stream",
       "stream": "stdout",
       "text": [
        " 7\n",
        "('20', '-90', 'left', 'flat') 8\n",
        "('20', '-90', 'left', 'flat')"
       ]
      },
      {
       "output_type": "stream",
       "stream": "stdout",
       "text": [
        " 9\n",
        "('20', '-90', 'left', 'flat') 10\n",
        "('20', '-90', 'left', 'flat') 11\n",
        "('20', '-90', 'left', 'flat') 12\n",
        "('20', '-90', 'right', 'flat') 0\n",
        "('20', '-90', 'right', 'flat')"
       ]
      },
      {
       "output_type": "stream",
       "stream": "stdout",
       "text": [
        " 1\n",
        "('20', '-90', 'right', 'flat')"
       ]
      },
      {
       "output_type": "stream",
       "stream": "stdout",
       "text": [
        " 2\n",
        "('20', '-90', 'right', 'flat') 3\n",
        "('20', '-90', 'right', 'flat')"
       ]
      },
      {
       "output_type": "stream",
       "stream": "stdout",
       "text": [
        " 4\n",
        "('20', '-90', 'right', 'flat') 5\n",
        "('20', '-90', 'right', 'flat') 6\n",
        "('20', '-90', 'right', 'flat')"
       ]
      },
      {
       "output_type": "stream",
       "stream": "stdout",
       "text": [
        " 7\n",
        "('20', '-90', 'right', 'flat') 8\n",
        "('20', '-90', 'right', 'flat')"
       ]
      },
      {
       "output_type": "stream",
       "stream": "stdout",
       "text": [
        " 9\n",
        "('20', '-90', 'right', 'flat') 10\n",
        "('20', '-90', 'right', 'flat') 11\n",
        "('20', '-90', 'right', 'flat')"
       ]
      },
      {
       "output_type": "stream",
       "stream": "stdout",
       "text": [
        " 12\n",
        "('20', '-90', 'left', 'directed') 0\n",
        "('20', '-90', 'left', 'directed') 1\n",
        "('20', '-90', 'left', 'directed') 2\n",
        "('20', '-90', 'left', 'directed') 3\n",
        "('20', '-90', 'left', 'directed') 4\n",
        "('20', '-90', 'left', 'directed') 5\n",
        "('20', '-90', 'left', 'directed') 6\n",
        "('20', '-90', 'left', 'directed') 7\n",
        "('20', '-90', 'left', 'directed') 8\n",
        "('20', '-90', 'left', 'directed') 9\n",
        "('20', '-90', 'left', 'directed') 10\n",
        "('20', '-90', 'left', 'directed') 11\n",
        "('20', '-90', 'left', 'directed') 12\n",
        "('20', '-90', 'right', 'directed') 0\n",
        "('20', '-90', 'right', 'directed') 1\n",
        "('20', '-90', 'right', 'directed') 2\n",
        "('20', '-90', 'right', 'directed') 3\n",
        "('20', '-90', 'right', 'directed') 4\n",
        "('20', '-90', 'right', 'directed') 5\n",
        "('20', '-90', 'right', 'directed') 6\n",
        "('20', '-90', 'right', 'directed') 7\n",
        "('20', '-90', 'right', 'directed') 8\n",
        "('20', '-90', 'right', 'directed') 9\n",
        "('20', '-90', 'right', 'directed') 10\n",
        "('20', '-90', 'right', 'directed') 11\n",
        "('20', '-90', 'right', 'directed') 12\n",
        "('20', '0', 'left', 'flat') 0\n",
        "('20', '0', 'left', 'flat') 1\n",
        "('20', '0', 'left', 'flat') 2\n",
        "('20', '0', 'left', 'flat')"
       ]
      },
      {
       "output_type": "stream",
       "stream": "stdout",
       "text": [
        " 3\n",
        "('20', '0', 'left', 'flat')"
       ]
      },
      {
       "output_type": "stream",
       "stream": "stdout",
       "text": [
        " 4\n",
        "('20', '0', 'left', 'flat') 5\n",
        "('20', '0', 'left', 'flat')"
       ]
      },
      {
       "output_type": "stream",
       "stream": "stdout",
       "text": [
        " 6\n",
        "('20', '0', 'left', 'flat') 7\n",
        "('20', '0', 'left', 'flat') 8\n",
        "('20', '0', 'left', 'flat')"
       ]
      },
      {
       "output_type": "stream",
       "stream": "stdout",
       "text": [
        " 9\n",
        "('20', '0', 'left', 'flat') 10\n",
        "('20', '0', 'left', 'flat') 11\n",
        "('20', '0', 'left', 'flat')"
       ]
      },
      {
       "output_type": "stream",
       "stream": "stdout",
       "text": [
        " 12\n",
        "('20', '0', 'right', 'flat')"
       ]
      },
      {
       "output_type": "stream",
       "stream": "stdout",
       "text": [
        " 0\n",
        "('20', '0', 'right', 'flat') 1\n",
        "('20', '0', 'right', 'flat') 2\n",
        "('20', '0', 'right', 'flat') 3\n",
        "('20', '0', 'right', 'flat')"
       ]
      },
      {
       "output_type": "stream",
       "stream": "stdout",
       "text": [
        " 4\n",
        "('20', '0', 'right', 'flat') 5\n",
        "('20', '0', 'right', 'flat')"
       ]
      },
      {
       "output_type": "stream",
       "stream": "stdout",
       "text": [
        " 6\n",
        "('20', '0', 'right', 'flat')"
       ]
      },
      {
       "output_type": "stream",
       "stream": "stdout",
       "text": [
        " 7\n",
        "('20', '0', 'right', 'flat') 8\n",
        "('20', '0', 'right', 'flat') 9\n",
        "('20', '0', 'right', 'flat')"
       ]
      },
      {
       "output_type": "stream",
       "stream": "stdout",
       "text": [
        " 10\n",
        "('20', '0', 'right', 'flat')"
       ]
      },
      {
       "output_type": "stream",
       "stream": "stdout",
       "text": [
        " 11\n",
        "('20', '0', 'right', 'flat')"
       ]
      },
      {
       "output_type": "stream",
       "stream": "stdout",
       "text": [
        " 12\n",
        "('20', '0', 'left', 'directed') 0\n",
        "('20', '0', 'left', 'directed') 1\n",
        "('20', '0', 'left', 'directed') 2\n",
        "('20', '0', 'left', 'directed') 3\n",
        "('20', '0', 'left', 'directed') 4\n",
        "('20', '0', 'left', 'directed') 5\n",
        "('20', '0', 'left', 'directed') 6\n",
        "('20', '0', 'left', 'directed') 7\n",
        "('20', '0', 'left', 'directed') 8\n",
        "('20', '0', 'left', 'directed') 9\n",
        "('20', '0', 'left', 'directed') 10\n",
        "('20', '0', 'left', 'directed') 11\n",
        "('20', '0', 'left', 'directed') 12\n",
        "('20', '0', 'right', 'directed') 0\n",
        "('20', '0', 'right', 'directed') 1\n",
        "('20', '0', 'right', 'directed') 2\n",
        "('20', '0', 'right', 'directed') 3\n",
        "('20', '0', 'right', 'directed') 4\n",
        "('20', '0', 'right', 'directed') 5\n",
        "('20', '0', 'right', 'directed') 6\n",
        "('20', '0', 'right', 'directed') 7\n",
        "('20', '0', 'right', 'directed') 8\n",
        "('20', '0', 'right', 'directed') 9\n",
        "('20', '0', 'right', 'directed') 10\n",
        "('20', '0', 'right', 'directed') 11\n",
        "('20', '0', 'right', 'directed') 12\n",
        "('20', '120', 'left', 'flat') 0\n",
        "('20', '120', 'left', 'flat')"
       ]
      },
      {
       "output_type": "stream",
       "stream": "stdout",
       "text": [
        " 1\n",
        "('20', '120', 'left', 'flat') 2\n",
        "('20', '120', 'left', 'flat') 3\n",
        "('20', '120', 'left', 'flat') 4\n",
        "('20', '120', 'left', 'flat')"
       ]
      },
      {
       "output_type": "stream",
       "stream": "stdout",
       "text": [
        " 5\n",
        "('20', '120', 'left', 'flat')"
       ]
      },
      {
       "output_type": "stream",
       "stream": "stdout",
       "text": [
        " 6\n",
        "('20', '120', 'left', 'flat') 7\n",
        "('20', '120', 'left', 'flat') 8\n",
        "('20', '120', 'left', 'flat')"
       ]
      },
      {
       "output_type": "stream",
       "stream": "stdout",
       "text": [
        " 9\n",
        "('20', '120', 'left', 'flat')"
       ]
      },
      {
       "output_type": "stream",
       "stream": "stdout",
       "text": [
        " 10\n",
        "('20', '120', 'left', 'flat')"
       ]
      },
      {
       "output_type": "stream",
       "stream": "stdout",
       "text": [
        " 11\n",
        "('20', '120', 'left', 'flat') 12\n",
        "('20', '120', 'right', 'flat') 0\n",
        "('20', '120', 'right', 'flat')"
       ]
      },
      {
       "output_type": "stream",
       "stream": "stdout",
       "text": [
        " 1\n",
        "('20', '120', 'right', 'flat') 2\n",
        "('20', '120', 'right', 'flat')"
       ]
      },
      {
       "output_type": "stream",
       "stream": "stdout",
       "text": [
        " 3\n",
        "('20', '120', 'right', 'flat')"
       ]
      },
      {
       "output_type": "stream",
       "stream": "stdout",
       "text": [
        " 4\n",
        "('20', '120', 'right', 'flat') 5\n",
        "('20', '120', 'right', 'flat')"
       ]
      },
      {
       "output_type": "stream",
       "stream": "stdout",
       "text": [
        " 6\n",
        "('20', '120', 'right', 'flat') 7\n",
        "('20', '120', 'right', 'flat') 8\n",
        "('20', '120', 'right', 'flat')"
       ]
      },
      {
       "output_type": "stream",
       "stream": "stdout",
       "text": [
        " 9\n",
        "('20', '120', 'right', 'flat') 10\n",
        "('20', '120', 'right', 'flat') 11\n",
        "('20', '120', 'right', 'flat')"
       ]
      },
      {
       "output_type": "stream",
       "stream": "stdout",
       "text": [
        " 12\n",
        "('20', '120', 'left', 'directed') 0\n",
        "('20', '120', 'left', 'directed') 1\n",
        "('20', '120', 'left', 'directed') 2\n",
        "('20', '120', 'left', 'directed') 3\n",
        "('20', '120', 'left', 'directed') 4\n",
        "('20', '120', 'left', 'directed') 5\n",
        "('20', '120', 'left', 'directed') 6\n",
        "('20', '120', 'left', 'directed') 7\n",
        "('20', '120', 'left', 'directed') 8\n",
        "('20', '120', 'left', 'directed') 9\n",
        "('20', '120', 'left', 'directed') 10\n",
        "('20', '120', 'left', 'directed') 11\n",
        "('20', '120', 'left', 'directed') 12\n",
        "('20', '120', 'right', 'directed') 0\n",
        "('20', '120', 'right', 'directed') 1\n",
        "('20', '120', 'right', 'directed') 2\n",
        "('20', '120', 'right', 'directed') 3\n",
        "('20', '120', 'right', 'directed') 4\n",
        "('20', '120', 'right', 'directed') 5\n",
        "('20', '120', 'right', 'directed') 6\n",
        "('20', '120', 'right', 'directed') 7\n",
        "('20', '120', 'right', 'directed') 8\n",
        "('20', '120', 'right', 'directed') 9\n",
        "('20', '120', 'right', 'directed') 10\n",
        "('20', '120', 'right', 'directed') 11\n",
        "('20', '120', 'right', 'directed') 12\n",
        "('20', '30', 'left', 'flat') 0\n",
        "('20', '30', 'left', 'flat') 1\n",
        "('20', '30', 'left', 'flat')"
       ]
      },
      {
       "output_type": "stream",
       "stream": "stdout",
       "text": [
        " 2\n",
        "('20', '30', 'left', 'flat')"
       ]
      },
      {
       "output_type": "stream",
       "stream": "stdout",
       "text": [
        " 3\n",
        "('20', '30', 'left', 'flat')"
       ]
      },
      {
       "output_type": "stream",
       "stream": "stdout",
       "text": [
        " 4\n",
        "('20', '30', 'left', 'flat') 5\n",
        "('20', '30', 'left', 'flat')"
       ]
      },
      {
       "output_type": "stream",
       "stream": "stdout",
       "text": [
        " 6\n",
        "('20', '30', 'left', 'flat') 7\n",
        "('20', '30', 'left', 'flat') 8\n",
        "('20', '30', 'left', 'flat')"
       ]
      },
      {
       "output_type": "stream",
       "stream": "stdout",
       "text": [
        " 9\n",
        "('20', '30', 'left', 'flat')"
       ]
      },
      {
       "output_type": "stream",
       "stream": "stdout",
       "text": [
        " 10\n",
        "('20', '30', 'left', 'flat') 11\n",
        "('20', '30', 'left', 'flat') 12\n",
        "('20', '30', 'right', 'flat')"
       ]
      },
      {
       "output_type": "stream",
       "stream": "stdout",
       "text": [
        " 0\n",
        "('20', '30', 'right', 'flat') 1\n",
        "('20', '30', 'right', 'flat')"
       ]
      },
      {
       "output_type": "stream",
       "stream": "stdout",
       "text": [
        " 2\n",
        "('20', '30', 'right', 'flat') 3\n",
        "('20', '30', 'right', 'flat')"
       ]
      },
      {
       "output_type": "stream",
       "stream": "stdout",
       "text": [
        " 4\n",
        "('20', '30', 'right', 'flat') 5\n",
        "('20', '30', 'right', 'flat') 6\n",
        "('20', '30', 'right', 'flat')"
       ]
      },
      {
       "output_type": "stream",
       "stream": "stdout",
       "text": [
        " 7\n",
        "('20', '30', 'right', 'flat')"
       ]
      },
      {
       "output_type": "stream",
       "stream": "stdout",
       "text": [
        " 8\n",
        "('20', '30', 'right', 'flat')"
       ]
      },
      {
       "output_type": "stream",
       "stream": "stdout",
       "text": [
        " 9\n",
        "('20', '30', 'right', 'flat') 10\n",
        "('20', '30', 'right', 'flat')"
       ]
      },
      {
       "output_type": "stream",
       "stream": "stdout",
       "text": [
        " 11\n",
        "('20', '30', 'right', 'flat') 12\n",
        "('20', '30', 'left', 'directed') 0\n",
        "('20', '30', 'left', 'directed') 1\n",
        "('20', '30', 'left', 'directed') 2\n",
        "('20', '30', 'left', 'directed') 3\n",
        "('20', '30', 'left', 'directed') 4\n",
        "('20', '30', 'left', 'directed') 5\n",
        "('20', '30', 'left', 'directed') 6\n",
        "('20', '30', 'left', 'directed') 7\n",
        "('20', '30', 'left', 'directed') 8\n",
        "('20', '30', 'left', 'directed') 9\n",
        "('20', '30', 'left', 'directed') 10\n",
        "('20', '30', 'left', 'directed') 11\n",
        "('20', '30', 'left', 'directed') 12\n",
        "('20', '30', 'right', 'directed') 0\n",
        "('20', '30', 'right', 'directed') 1\n",
        "('20', '30', 'right', 'directed') 2\n",
        "('20', '30', 'right', 'directed') 3\n",
        "('20', '30', 'right', 'directed') 4\n",
        "('20', '30', 'right', 'directed') 5\n",
        "('20', '30', 'right', 'directed') 6\n",
        "('20', '30', 'right', 'directed') 7\n",
        "('20', '30', 'right', 'directed') 8\n",
        "('20', '30', 'right', 'directed') 9\n",
        "('20', '30', 'right', 'directed') 10\n",
        "('20', '30', 'right', 'directed') 11\n",
        "('20', '30', 'right', 'directed') 12\n",
        "('20', '60', 'left', 'flat')"
       ]
      },
      {
       "output_type": "stream",
       "stream": "stdout",
       "text": [
        " 0\n",
        "('20', '60', 'left', 'flat') 1\n",
        "('20', '60', 'left', 'flat')"
       ]
      },
      {
       "output_type": "stream",
       "stream": "stdout",
       "text": [
        " 2\n",
        "('20', '60', 'left', 'flat') 3\n",
        "('20', '60', 'left', 'flat')"
       ]
      },
      {
       "output_type": "stream",
       "stream": "stdout",
       "text": [
        " 4\n",
        "('20', '60', 'left', 'flat')"
       ]
      },
      {
       "output_type": "stream",
       "stream": "stdout",
       "text": [
        " 5\n",
        "('20', '60', 'left', 'flat')"
       ]
      },
      {
       "output_type": "stream",
       "stream": "stdout",
       "text": [
        " 6\n",
        "('20', '60', 'left', 'flat') 7\n",
        "('20', '60', 'left', 'flat')"
       ]
      },
      {
       "output_type": "stream",
       "stream": "stdout",
       "text": [
        " 8\n",
        "('20', '60', 'left', 'flat') 9\n",
        "('20', '60', 'left', 'flat')"
       ]
      },
      {
       "output_type": "stream",
       "stream": "stdout",
       "text": [
        " 10\n",
        "('20', '60', 'left', 'flat') 11\n",
        "('20', '60', 'left', 'flat')"
       ]
      },
      {
       "output_type": "stream",
       "stream": "stdout",
       "text": [
        " 12\n",
        "('20', '60', 'right', 'flat') 0\n",
        "('20', '60', 'right', 'flat')"
       ]
      },
      {
       "output_type": "stream",
       "stream": "stdout",
       "text": [
        " 1\n",
        "('20', '60', 'right', 'flat')"
       ]
      },
      {
       "output_type": "stream",
       "stream": "stdout",
       "text": [
        " 2\n",
        "('20', '60', 'right', 'flat')"
       ]
      },
      {
       "output_type": "stream",
       "stream": "stdout",
       "text": [
        " 3\n",
        "('20', '60', 'right', 'flat') 4\n",
        "('20', '60', 'right', 'flat')"
       ]
      },
      {
       "output_type": "stream",
       "stream": "stdout",
       "text": [
        " 5\n",
        "('20', '60', 'right', 'flat') 6\n",
        "('20', '60', 'right', 'flat')"
       ]
      },
      {
       "output_type": "stream",
       "stream": "stdout",
       "text": [
        " 7\n",
        "('20', '60', 'right', 'flat') 8\n",
        "('20', '60', 'right', 'flat') 9\n",
        "('20', '60', 'right', 'flat')"
       ]
      },
      {
       "output_type": "stream",
       "stream": "stdout",
       "text": [
        " 10\n",
        "('20', '60', 'right', 'flat')"
       ]
      },
      {
       "output_type": "stream",
       "stream": "stdout",
       "text": [
        " 11\n",
        "('20', '60', 'right', 'flat')"
       ]
      },
      {
       "output_type": "stream",
       "stream": "stdout",
       "text": [
        " 12\n",
        "('20', '60', 'left', 'directed') 0\n",
        "('20', '60', 'left', 'directed') 1\n",
        "('20', '60', 'left', 'directed') 2\n",
        "('20', '60', 'left', 'directed') 3\n",
        "('20', '60', 'left', 'directed') 4\n",
        "('20', '60', 'left', 'directed') 5\n",
        "('20', '60', 'left', 'directed') 6\n",
        "('20', '60', 'left', 'directed') 7\n",
        "('20', '60', 'left', 'directed') 8\n",
        "('20', '60', 'left', 'directed') 9\n",
        "('20', '60', 'left', 'directed') 10\n",
        "('20', '60', 'left', 'directed') 11\n",
        "('20', '60', 'left', 'directed') 12\n",
        "('20', '60', 'right', 'directed') 0\n",
        "('20', '60', 'right', 'directed') 1\n",
        "('20', '60', 'right', 'directed') 2\n",
        "('20', '60', 'right', 'directed') 3\n",
        "('20', '60', 'right', 'directed') 4\n",
        "('20', '60', 'right', 'directed') 5\n",
        "('20', '60', 'right', 'directed') 6\n",
        "('20', '60', 'right', 'directed') 7\n",
        "('20', '60', 'right', 'directed') 8\n",
        "('20', '60', 'right', 'directed') 9\n",
        "('20', '60', 'right', 'directed') 10\n",
        "('20', '60', 'right', 'directed') 11\n",
        "('20', '60', 'right', 'directed') 12\n",
        "('20', '90', 'left', 'flat') 0\n",
        "('20', '90', 'left', 'flat') 1\n",
        "('20', '90', 'left', 'flat') 2\n",
        "('20', '90', 'left', 'flat')"
       ]
      },
      {
       "output_type": "stream",
       "stream": "stdout",
       "text": [
        " 3\n",
        "('20', '90', 'left', 'flat') 4\n",
        "('20', '90', 'left', 'flat') 5\n",
        "('20', '90', 'left', 'flat')"
       ]
      },
      {
       "output_type": "stream",
       "stream": "stdout",
       "text": [
        " 6\n",
        "('20', '90', 'left', 'flat')"
       ]
      },
      {
       "output_type": "stream",
       "stream": "stdout",
       "text": [
        " 7\n",
        "('20', '90', 'left', 'flat') 8\n",
        "('20', '90', 'left', 'flat') 9\n",
        "('20', '90', 'left', 'flat')"
       ]
      },
      {
       "output_type": "stream",
       "stream": "stdout",
       "text": [
        " 10\n",
        "('20', '90', 'left', 'flat') 11\n",
        "('20', '90', 'left', 'flat') 12\n",
        "('20', '90', 'right', 'flat')"
       ]
      },
      {
       "output_type": "stream",
       "stream": "stdout",
       "text": [
        " 0\n",
        "('20', '90', 'right', 'flat') 1\n",
        "('20', '90', 'right', 'flat')"
       ]
      },
      {
       "output_type": "stream",
       "stream": "stdout",
       "text": [
        " 2\n",
        "('20', '90', 'right', 'flat') 3\n",
        "('20', '90', 'right', 'flat')"
       ]
      },
      {
       "output_type": "stream",
       "stream": "stdout",
       "text": [
        " 4\n",
        "('20', '90', 'right', 'flat')"
       ]
      },
      {
       "output_type": "stream",
       "stream": "stdout",
       "text": [
        " 5\n",
        "('20', '90', 'right', 'flat') 6\n",
        "('20', '90', 'right', 'flat') 7\n",
        "('20', '90', 'right', 'flat')"
       ]
      },
      {
       "output_type": "stream",
       "stream": "stdout",
       "text": [
        " 8\n",
        "('20', '90', 'right', 'flat')"
       ]
      },
      {
       "output_type": "stream",
       "stream": "stdout",
       "text": [
        " 9\n",
        "('20', '90', 'right', 'flat')"
       ]
      },
      {
       "output_type": "stream",
       "stream": "stdout",
       "text": [
        " 10\n",
        "('20', '90', 'right', 'flat') 11\n",
        "('20', '90', 'right', 'flat') 12\n",
        "('20', '90', 'left', 'directed') 0\n",
        "('20', '90', 'left', 'directed') 1\n",
        "('20', '90', 'left', 'directed') 2\n",
        "('20', '90', 'left', 'directed') 3\n",
        "('20', '90', 'left', 'directed') 4\n",
        "('20', '90', 'left', 'directed') 5\n",
        "('20', '90', 'left', 'directed') 6\n",
        "('20', '90', 'left', 'directed') 7\n",
        "('20', '90', 'left', 'directed') 8\n",
        "('20', '90', 'left', 'directed') 9\n",
        "('20', '90', 'left', 'directed') 10\n",
        "('20', '90', 'left', 'directed') 11\n",
        "('20', '90', 'left', 'directed') 12\n",
        "('20', '90', 'right', 'directed') 0\n",
        "('20', '90', 'right', 'directed') 1\n",
        "('20', '90', 'right', 'directed') 2\n",
        "('20', '90', 'right', 'directed') 3\n",
        "('20', '90', 'right', 'directed') 4\n",
        "('20', '90', 'right', 'directed') 5\n",
        "('20', '90', 'right', 'directed') 6\n",
        "('20', '90', 'right', 'directed') 7\n",
        "('20', '90', 'right', 'directed') 8\n",
        "('20', '90', 'right', 'directed') 9\n",
        "('20', '90', 'right', 'directed') 10\n",
        "('20', '90', 'right', 'directed') 11\n",
        "('20', '90', 'right', 'directed') 12\n",
        "('68', '-120', 'left', 'flat') 0\n",
        "('68', '-120', 'left', 'flat') 1\n",
        "('68', '-120', 'left', 'flat')"
       ]
      },
      {
       "output_type": "stream",
       "stream": "stdout",
       "text": [
        " 2\n",
        "('68', '-120', 'left', 'flat') 3\n",
        "('68', '-120', 'left', 'flat')"
       ]
      },
      {
       "output_type": "stream",
       "stream": "stdout",
       "text": [
        " 4\n",
        "('68', '-120', 'left', 'flat') 5\n",
        "('68', '-120', 'left', 'flat')"
       ]
      },
      {
       "output_type": "stream",
       "stream": "stdout",
       "text": [
        " 6\n",
        "('68', '-120', 'left', 'flat') 7\n",
        "('68', '-120', 'left', 'flat') 8\n",
        "('68', '-120', 'left', 'flat')"
       ]
      },
      {
       "output_type": "stream",
       "stream": "stdout",
       "text": [
        " 9\n",
        "('68', '-120', 'left', 'flat') 10\n",
        "('68', '-120', 'left', 'flat')"
       ]
      },
      {
       "output_type": "stream",
       "stream": "stdout",
       "text": [
        " 11\n",
        "('68', '-120', 'left', 'flat')"
       ]
      },
      {
       "output_type": "stream",
       "stream": "stdout",
       "text": [
        " 12\n",
        "('68', '-120', 'right', 'flat') 0\n",
        "('68', '-120', 'right', 'flat')"
       ]
      },
      {
       "output_type": "stream",
       "stream": "stdout",
       "text": [
        " 1\n",
        "('68', '-120', 'right', 'flat') 2\n",
        "('68', '-120', 'right', 'flat') 3\n",
        "('68', '-120', 'right', 'flat')"
       ]
      },
      {
       "output_type": "stream",
       "stream": "stdout",
       "text": [
        " 4\n",
        "('68', '-120', 'right', 'flat') 5\n",
        "('68', '-120', 'right', 'flat') 6\n",
        "('68', '-120', 'right', 'flat')"
       ]
      },
      {
       "output_type": "stream",
       "stream": "stdout",
       "text": [
        " 7\n",
        "('68', '-120', 'right', 'flat') 8\n",
        "('68', '-120', 'right', 'flat')"
       ]
      },
      {
       "output_type": "stream",
       "stream": "stdout",
       "text": [
        " 9\n",
        "('68', '-120', 'right', 'flat')"
       ]
      },
      {
       "output_type": "stream",
       "stream": "stdout",
       "text": [
        " 10\n",
        "('68', '-120', 'right', 'flat') 11\n",
        "('68', '-120', 'right', 'flat') 12\n",
        "('68', '-120', 'left', 'directed') 0\n",
        "('68', '-120', 'left', 'directed') 1\n",
        "('68', '-120', 'left', 'directed') 2\n",
        "('68', '-120', 'left', 'directed') 3\n",
        "('68', '-120', 'left', 'directed') 4\n",
        "('68', '-120', 'left', 'directed') 5\n",
        "('68', '-120', 'left', 'directed') 6\n",
        "('68', '-120', 'left', 'directed') 7\n",
        "('68', '-120', 'left', 'directed') 8\n",
        "('68', '-120', 'left', 'directed') 9\n",
        "('68', '-120', 'left', 'directed') 10\n",
        "('68', '-120', 'left', 'directed') 11\n",
        "('68', '-120', 'left', 'directed') 12\n",
        "('68', '-120', 'right', 'directed') 0\n",
        "('68', '-120', 'right', 'directed') 1\n",
        "('68', '-120', 'right', 'directed') 2\n",
        "('68', '-120', 'right', 'directed') 3\n",
        "('68', '-120', 'right', 'directed') 4\n",
        "('68', '-120', 'right', 'directed') 5\n",
        "('68', '-120', 'right', 'directed') 6\n",
        "('68', '-120', 'right', 'directed') 7\n",
        "('68', '-120', 'right', 'directed') 8\n",
        "('68', '-120', 'right', 'directed') 9\n",
        "('68', '-120', 'right', 'directed') 10\n",
        "('68', '-120', 'right', 'directed') 11\n",
        "('68', '-120', 'right', 'directed') 12\n",
        "('68', '-30', 'left', 'flat') 0\n",
        "('68', '-30', 'left', 'flat') 1\n",
        "('68', '-30', 'left', 'flat')"
       ]
      },
      {
       "output_type": "stream",
       "stream": "stdout",
       "text": [
        " 2\n",
        "('68', '-30', 'left', 'flat') 3\n",
        "('68', '-30', 'left', 'flat')"
       ]
      },
      {
       "output_type": "stream",
       "stream": "stdout",
       "text": [
        " 4\n",
        "('68', '-30', 'left', 'flat')"
       ]
      },
      {
       "output_type": "stream",
       "stream": "stdout",
       "text": [
        " 5\n",
        "('68', '-30', 'left', 'flat') 6\n",
        "('68', '-30', 'left', 'flat') 7\n",
        "('68', '-30', 'left', 'flat') 8\n",
        "('68', '-30', 'left', 'flat')"
       ]
      },
      {
       "output_type": "stream",
       "stream": "stdout",
       "text": [
        " 9\n",
        "('68', '-30', 'left', 'flat') 10\n",
        "('68', '-30', 'left', 'flat')"
       ]
      },
      {
       "output_type": "stream",
       "stream": "stdout",
       "text": [
        " 11\n",
        "('68', '-30', 'left', 'flat') 12\n",
        "('68', '-30', 'right', 'flat') 0\n",
        "('68', '-30', 'right', 'flat')"
       ]
      },
      {
       "output_type": "stream",
       "stream": "stdout",
       "text": [
        " 1\n",
        "('68', '-30', 'right', 'flat') 2\n",
        "('68', '-30', 'right', 'flat') 3\n",
        "('68', '-30', 'right', 'flat') 4\n",
        "('68', '-30', 'right', 'flat')"
       ]
      },
      {
       "output_type": "stream",
       "stream": "stdout",
       "text": [
        " 5\n",
        "('68', '-30', 'right', 'flat')"
       ]
      },
      {
       "output_type": "stream",
       "stream": "stdout",
       "text": [
        " 6\n",
        "('68', '-30', 'right', 'flat')"
       ]
      },
      {
       "output_type": "stream",
       "stream": "stdout",
       "text": [
        " 7\n",
        "('68', '-30', 'right', 'flat') 8\n",
        "('68', '-30', 'right', 'flat') 9\n",
        "('68', '-30', 'right', 'flat') 10\n",
        "('68', '-30', 'right', 'flat') 11\n",
        "('68', '-30', 'right', 'flat') 12\n",
        "('68', '-30', 'left', 'directed') 0\n",
        "('68', '-30', 'left', 'directed') 1\n",
        "('68', '-30', 'left', 'directed') 2\n",
        "('68', '-30', 'left', 'directed') 3\n",
        "('68', '-30', 'left', 'directed') 4\n",
        "('68', '-30', 'left', 'directed') 5\n",
        "('68', '-30', 'left', 'directed') 6\n",
        "('68', '-30', 'left', 'directed') 7\n",
        "('68', '-30', 'left', 'directed') 8\n",
        "('68', '-30', 'left', 'directed') 9\n",
        "('68', '-30', 'left', 'directed') 10\n",
        "('68', '-30', 'left', 'directed') 11\n",
        "('68', '-30', 'left', 'directed') 12\n",
        "('68', '-30', 'right', 'directed') 0\n",
        "('68', '-30', 'right', 'directed') 1\n",
        "('68', '-30', 'right', 'directed') 2\n",
        "('68', '-30', 'right', 'directed') 3\n",
        "('68', '-30', 'right', 'directed') 4\n",
        "('68', '-30', 'right', 'directed') 5\n",
        "('68', '-30', 'right', 'directed') 6\n",
        "('68', '-30', 'right', 'directed') 7\n",
        "('68', '-30', 'right', 'directed') 8\n",
        "('68', '-30', 'right', 'directed') 9\n",
        "('68', '-30', 'right', 'directed') 10\n",
        "('68', '-30', 'right', 'directed') 11\n",
        "('68', '-30', 'right', 'directed') 12\n",
        "('68', '-60', 'left', 'flat')"
       ]
      },
      {
       "output_type": "stream",
       "stream": "stdout",
       "text": [
        " 0\n",
        "('68', '-60', 'left', 'flat') 1\n",
        "('68', '-60', 'left', 'flat') 2\n",
        "('68', '-60', 'left', 'flat') 3\n",
        "('68', '-60', 'left', 'flat')"
       ]
      },
      {
       "output_type": "stream",
       "stream": "stdout",
       "text": [
        " 4\n",
        "('68', '-60', 'left', 'flat') 5\n",
        "('68', '-60', 'left', 'flat') 6\n",
        "('68', '-60', 'left', 'flat') 7\n",
        "('68', '-60', 'left', 'flat')"
       ]
      },
      {
       "output_type": "stream",
       "stream": "stdout",
       "text": [
        " 8\n",
        "('68', '-60', 'left', 'flat') 9\n",
        "('68', '-60', 'left', 'flat')"
       ]
      },
      {
       "output_type": "stream",
       "stream": "stdout",
       "text": [
        " 10\n",
        "('68', '-60', 'left', 'flat') 11\n",
        "('68', '-60', 'left', 'flat')"
       ]
      },
      {
       "output_type": "stream",
       "stream": "stdout",
       "text": [
        " 12\n",
        "('68', '-60', 'right', 'flat') 0\n",
        "('68', '-60', 'right', 'flat') 1\n",
        "('68', '-60', 'right', 'flat') 2\n",
        "('68', '-60', 'right', 'flat') 3\n",
        "('68', '-60', 'right', 'flat')"
       ]
      },
      {
       "output_type": "stream",
       "stream": "stdout",
       "text": [
        " 4\n",
        "('68', '-60', 'right', 'flat')"
       ]
      },
      {
       "output_type": "stream",
       "stream": "stdout",
       "text": [
        " 5\n",
        "('68', '-60', 'right', 'flat')"
       ]
      },
      {
       "output_type": "stream",
       "stream": "stdout",
       "text": [
        " 6\n",
        "('68', '-60', 'right', 'flat') 7\n",
        "('68', '-60', 'right', 'flat') 8\n",
        "('68', '-60', 'right', 'flat') 9\n",
        "('68', '-60', 'right', 'flat') 10\n",
        "('68', '-60', 'right', 'flat')"
       ]
      },
      {
       "output_type": "stream",
       "stream": "stdout",
       "text": [
        " 11\n",
        "('68', '-60', 'right', 'flat') 12\n",
        "('68', '-60', 'left', 'directed') 0\n",
        "('68', '-60', 'left', 'directed') 1\n",
        "('68', '-60', 'left', 'directed') 2\n",
        "('68', '-60', 'left', 'directed') 3\n",
        "('68', '-60', 'left', 'directed') 4\n",
        "('68', '-60', 'left', 'directed') 5\n",
        "('68', '-60', 'left', 'directed') 6\n",
        "('68', '-60', 'left', 'directed') 7\n",
        "('68', '-60', 'left', 'directed') 8\n",
        "('68', '-60', 'left', 'directed') 9\n",
        "('68', '-60', 'left', 'directed') 10\n",
        "('68', '-60', 'left', 'directed') 11\n",
        "('68', '-60', 'left', 'directed') 12\n",
        "('68', '-60', 'right', 'directed') 0\n",
        "('68', '-60', 'right', 'directed') 1\n",
        "('68', '-60', 'right', 'directed') 2\n",
        "('68', '-60', 'right', 'directed') 3\n",
        "('68', '-60', 'right', 'directed') 4\n",
        "('68', '-60', 'right', 'directed') 5\n",
        "('68', '-60', 'right', 'directed') 6\n",
        "('68', '-60', 'right', 'directed') 7\n",
        "('68', '-60', 'right', 'directed') 8\n",
        "('68', '-60', 'right', 'directed') 9\n",
        "('68', '-60', 'right', 'directed') 10\n",
        "('68', '-60', 'right', 'directed') 11\n",
        "('68', '-60', 'right', 'directed') 12\n",
        "('68', '-90', 'left', 'flat')"
       ]
      },
      {
       "output_type": "stream",
       "stream": "stdout",
       "text": [
        " 0\n",
        "('68', '-90', 'left', 'flat') 1\n",
        "('68', '-90', 'left', 'flat') 2\n",
        "('68', '-90', 'left', 'flat') 3\n",
        "('68', '-90', 'left', 'flat') 4\n",
        "('68', '-90', 'left', 'flat') 5\n",
        "('68', '-90', 'left', 'flat')"
       ]
      },
      {
       "output_type": "stream",
       "stream": "stdout",
       "text": [
        " 6\n",
        "('68', '-90', 'left', 'flat')"
       ]
      },
      {
       "output_type": "stream",
       "stream": "stdout",
       "text": [
        " 7\n",
        "('68', '-90', 'left', 'flat') 8\n",
        "('68', '-90', 'left', 'flat') 9\n",
        "('68', '-90', 'left', 'flat') 10\n",
        "('68', '-90', 'left', 'flat')"
       ]
      },
      {
       "output_type": "stream",
       "stream": "stdout",
       "text": [
        " 11\n",
        "('68', '-90', 'left', 'flat') 12\n",
        "('68', '-90', 'right', 'flat')"
       ]
      },
      {
       "output_type": "stream",
       "stream": "stdout",
       "text": [
        " 0\n",
        "('68', '-90', 'right', 'flat') 1\n",
        "('68', '-90', 'right', 'flat') 2\n",
        "('68', '-90', 'right', 'flat') 3\n",
        "('68', '-90', 'right', 'flat') 4\n",
        "('68', '-90', 'right', 'flat') 5\n",
        "('68', '-90', 'right', 'flat')"
       ]
      },
      {
       "output_type": "stream",
       "stream": "stdout",
       "text": [
        " 6\n",
        "('68', '-90', 'right', 'flat')"
       ]
      },
      {
       "output_type": "stream",
       "stream": "stdout",
       "text": [
        " 7\n",
        "('68', '-90', 'right', 'flat') 8\n",
        "('68', '-90', 'right', 'flat') 9\n",
        "('68', '-90', 'right', 'flat') 10\n",
        "('68', '-90', 'right', 'flat') 11\n",
        "('68', '-90', 'right', 'flat')"
       ]
      },
      {
       "output_type": "stream",
       "stream": "stdout",
       "text": [
        " 12\n",
        "('68', '-90', 'left', 'directed') 0\n",
        "('68', '-90', 'left', 'directed') 1\n",
        "('68', '-90', 'left', 'directed') 2\n",
        "('68', '-90', 'left', 'directed') 3\n",
        "('68', '-90', 'left', 'directed') 4\n",
        "('68', '-90', 'left', 'directed') 5\n",
        "('68', '-90', 'left', 'directed') 6\n",
        "('68', '-90', 'left', 'directed') 7\n",
        "('68', '-90', 'left', 'directed') 8\n",
        "('68', '-90', 'left', 'directed') 9\n",
        "('68', '-90', 'left', 'directed') 10\n",
        "('68', '-90', 'left', 'directed') 11\n",
        "('68', '-90', 'left', 'directed') 12\n",
        "('68', '-90', 'right', 'directed') 0\n",
        "('68', '-90', 'right', 'directed') 1\n",
        "('68', '-90', 'right', 'directed') 2\n",
        "('68', '-90', 'right', 'directed') 3\n",
        "('68', '-90', 'right', 'directed') 4\n",
        "('68', '-90', 'right', 'directed') 5\n",
        "('68', '-90', 'right', 'directed') 6\n",
        "('68', '-90', 'right', 'directed') 7\n",
        "('68', '-90', 'right', 'directed') 8\n",
        "('68', '-90', 'right', 'directed') 9\n",
        "('68', '-90', 'right', 'directed') 10\n",
        "('68', '-90', 'right', 'directed') 11\n",
        "('68', '-90', 'right', 'directed') 12\n",
        "('68', '0', 'left', 'flat') 0\n",
        "('68', '0', 'left', 'flat') 1\n",
        "('68', '0', 'left', 'flat')"
       ]
      },
      {
       "output_type": "stream",
       "stream": "stdout",
       "text": [
        " 2\n",
        "('68', '0', 'left', 'flat') 3\n",
        "('68', '0', 'left', 'flat') 4\n",
        "('68', '0', 'left', 'flat')"
       ]
      },
      {
       "output_type": "stream",
       "stream": "stdout",
       "text": [
        " 5\n",
        "('68', '0', 'left', 'flat')"
       ]
      },
      {
       "output_type": "stream",
       "stream": "stdout",
       "text": [
        " 6\n",
        "('68', '0', 'left', 'flat')"
       ]
      },
      {
       "output_type": "stream",
       "stream": "stdout",
       "text": [
        " 7\n",
        "('68', '0', 'left', 'flat') 8\n",
        "('68', '0', 'left', 'flat') 9\n",
        "('68', '0', 'left', 'flat')"
       ]
      },
      {
       "output_type": "stream",
       "stream": "stdout",
       "text": [
        " 10\n",
        "('68', '0', 'left', 'flat') 11\n",
        "('68', '0', 'left', 'flat')"
       ]
      },
      {
       "output_type": "stream",
       "stream": "stdout",
       "text": [
        " 12\n",
        "('68', '0', 'right', 'flat')"
       ]
      },
      {
       "output_type": "stream",
       "stream": "stdout",
       "text": [
        " 0\n",
        "('68', '0', 'right', 'flat') 1\n",
        "('68', '0', 'right', 'flat')"
       ]
      },
      {
       "output_type": "stream",
       "stream": "stdout",
       "text": [
        " 2\n",
        "('68', '0', 'right', 'flat') 3\n",
        "('68', '0', 'right', 'flat')"
       ]
      },
      {
       "output_type": "stream",
       "stream": "stdout",
       "text": [
        " 4\n",
        "('68', '0', 'right', 'flat') 5\n",
        "('68', '0', 'right', 'flat')"
       ]
      },
      {
       "output_type": "stream",
       "stream": "stdout",
       "text": [
        " 6\n",
        "('68', '0', 'right', 'flat') 7\n",
        "('68', '0', 'right', 'flat')"
       ]
      },
      {
       "output_type": "stream",
       "stream": "stdout",
       "text": [
        " 8\n",
        "('68', '0', 'right', 'flat') 9\n",
        "('68', '0', 'right', 'flat')"
       ]
      },
      {
       "output_type": "stream",
       "stream": "stdout",
       "text": [
        " 10\n",
        "('68', '0', 'right', 'flat') 11\n",
        "('68', '0', 'right', 'flat')"
       ]
      },
      {
       "output_type": "stream",
       "stream": "stdout",
       "text": [
        " 12\n",
        "('68', '0', 'left', 'directed') 0\n",
        "('68', '0', 'left', 'directed') 1\n",
        "('68', '0', 'left', 'directed') 2\n",
        "('68', '0', 'left', 'directed') 3\n",
        "('68', '0', 'left', 'directed') 4\n",
        "('68', '0', 'left', 'directed') 5\n",
        "('68', '0', 'left', 'directed') 6\n",
        "('68', '0', 'left', 'directed') 7\n",
        "('68', '0', 'left', 'directed') 8\n",
        "('68', '0', 'left', 'directed') 9\n",
        "('68', '0', 'left', 'directed') 10\n",
        "('68', '0', 'left', 'directed') 11\n",
        "('68', '0', 'left', 'directed') 12\n",
        "('68', '0', 'right', 'directed') 0\n",
        "('68', '0', 'right', 'directed') 1\n",
        "('68', '0', 'right', 'directed') 2\n",
        "('68', '0', 'right', 'directed') 3\n",
        "('68', '0', 'right', 'directed') 4\n",
        "('68', '0', 'right', 'directed') 5\n",
        "('68', '0', 'right', 'directed') 6\n",
        "('68', '0', 'right', 'directed') 7\n",
        "('68', '0', 'right', 'directed') 8\n",
        "('68', '0', 'right', 'directed') 9\n",
        "('68', '0', 'right', 'directed') 10\n",
        "('68', '0', 'right', 'directed') 11\n",
        "('68', '0', 'right', 'directed') 12\n",
        "('68', '120', 'left', 'flat')"
       ]
      },
      {
       "output_type": "stream",
       "stream": "stdout",
       "text": [
        " 0\n",
        "('68', '120', 'left', 'flat') 1\n",
        "('68', '120', 'left', 'flat') 2\n",
        "('68', '120', 'left', 'flat')"
       ]
      },
      {
       "output_type": "stream",
       "stream": "stdout",
       "text": [
        " 3\n",
        "('68', '120', 'left', 'flat') 4\n",
        "('68', '120', 'left', 'flat')"
       ]
      },
      {
       "output_type": "stream",
       "stream": "stdout",
       "text": [
        " 5\n",
        "('68', '120', 'left', 'flat') 6\n",
        "('68', '120', 'left', 'flat')"
       ]
      },
      {
       "output_type": "stream",
       "stream": "stdout",
       "text": [
        " 7\n",
        "('68', '120', 'left', 'flat')"
       ]
      },
      {
       "output_type": "stream",
       "stream": "stdout",
       "text": [
        " 8\n",
        "('68', '120', 'left', 'flat') 9\n",
        "('68', '120', 'left', 'flat') 10\n",
        "('68', '120', 'left', 'flat')"
       ]
      },
      {
       "output_type": "stream",
       "stream": "stdout",
       "text": [
        " 11\n",
        "('68', '120', 'left', 'flat') 12\n",
        "('68', '120', 'right', 'flat')"
       ]
      },
      {
       "output_type": "stream",
       "stream": "stdout",
       "text": [
        " 0\n",
        "('68', '120', 'right', 'flat')"
       ]
      },
      {
       "output_type": "stream",
       "stream": "stdout",
       "text": [
        " 1\n",
        "('68', '120', 'right', 'flat') 2\n",
        "('68', '120', 'right', 'flat') 3\n",
        "('68', '120', 'right', 'flat')"
       ]
      },
      {
       "output_type": "stream",
       "stream": "stdout",
       "text": [
        " 4\n",
        "('68', '120', 'right', 'flat')"
       ]
      },
      {
       "output_type": "stream",
       "stream": "stdout",
       "text": [
        " 5\n",
        "('68', '120', 'right', 'flat')"
       ]
      },
      {
       "output_type": "stream",
       "stream": "stdout",
       "text": [
        " 6\n",
        "('68', '120', 'right', 'flat') 7\n",
        "('68', '120', 'right', 'flat') 8\n",
        "('68', '120', 'right', 'flat') 9\n",
        "('68', '120', 'right', 'flat') 10\n",
        "('68', '120', 'right', 'flat')"
       ]
      },
      {
       "output_type": "stream",
       "stream": "stdout",
       "text": [
        " 11\n",
        "('68', '120', 'right', 'flat') 12\n",
        "('68', '120', 'left', 'directed') 0\n",
        "('68', '120', 'left', 'directed') 1\n",
        "('68', '120', 'left', 'directed') 2\n",
        "('68', '120', 'left', 'directed') 3\n",
        "('68', '120', 'left', 'directed') 4\n",
        "('68', '120', 'left', 'directed') 5\n",
        "('68', '120', 'left', 'directed') 6\n",
        "('68', '120', 'left', 'directed') 7\n",
        "('68', '120', 'left', 'directed') 8\n",
        "('68', '120', 'left', 'directed') 9\n",
        "('68', '120', 'left', 'directed') 10\n",
        "('68', '120', 'left', 'directed') 11\n",
        "('68', '120', 'left', 'directed') 12\n",
        "('68', '120', 'right', 'directed') 0\n",
        "('68', '120', 'right', 'directed') 1\n",
        "('68', '120', 'right', 'directed') 2\n",
        "('68', '120', 'right', 'directed') 3\n",
        "('68', '120', 'right', 'directed') 4\n",
        "('68', '120', 'right', 'directed') 5\n",
        "('68', '120', 'right', 'directed') 6\n",
        "('68', '120', 'right', 'directed') 7\n",
        "('68', '120', 'right', 'directed') 8\n",
        "('68', '120', 'right', 'directed') 9\n",
        "('68', '120', 'right', 'directed') 10\n",
        "('68', '120', 'right', 'directed') 11\n",
        "('68', '120', 'right', 'directed') 12\n",
        "('68', '30', 'left', 'flat') 0\n",
        "('68', '30', 'left', 'flat')"
       ]
      },
      {
       "output_type": "stream",
       "stream": "stdout",
       "text": [
        " 1\n",
        "('68', '30', 'left', 'flat')"
       ]
      },
      {
       "output_type": "stream",
       "stream": "stdout",
       "text": [
        " 2\n",
        "('68', '30', 'left', 'flat') 3\n",
        "('68', '30', 'left', 'flat') 4\n",
        "('68', '30', 'left', 'flat') 5\n",
        "('68', '30', 'left', 'flat') 6\n",
        "('68', '30', 'left', 'flat')"
       ]
      },
      {
       "output_type": "stream",
       "stream": "stdout",
       "text": [
        " 7\n",
        "('68', '30', 'left', 'flat') 8\n",
        "('68', '30', 'left', 'flat') 9\n",
        "('68', '30', 'left', 'flat')"
       ]
      },
      {
       "output_type": "stream",
       "stream": "stdout",
       "text": [
        " 10\n",
        "('68', '30', 'left', 'flat') 11\n",
        "('68', '30', 'left', 'flat') 12\n",
        "('68', '30', 'right', 'flat') 0\n",
        "('68', '30', 'right', 'flat') 1\n",
        "('68', '30', 'right', 'flat')"
       ]
      },
      {
       "output_type": "stream",
       "stream": "stdout",
       "text": [
        " 2\n",
        "('68', '30', 'right', 'flat')"
       ]
      },
      {
       "output_type": "stream",
       "stream": "stdout",
       "text": [
        " 3\n",
        "('68', '30', 'right', 'flat')"
       ]
      },
      {
       "output_type": "stream",
       "stream": "stdout",
       "text": [
        " 4\n",
        "('68', '30', 'right', 'flat') 5\n",
        "('68', '30', 'right', 'flat') 6\n",
        "('68', '30', 'right', 'flat')"
       ]
      },
      {
       "output_type": "stream",
       "stream": "stdout",
       "text": [
        " 7\n",
        "('68', '30', 'right', 'flat') 8\n",
        "('68', '30', 'right', 'flat') 9\n",
        "('68', '30', 'right', 'flat') 10\n",
        "('68', '30', 'right', 'flat')"
       ]
      },
      {
       "output_type": "stream",
       "stream": "stdout",
       "text": [
        " 11\n",
        "('68', '30', 'right', 'flat') 12\n",
        "('68', '30', 'left', 'directed') 0\n",
        "('68', '30', 'left', 'directed') 1\n",
        "('68', '30', 'left', 'directed') 2\n",
        "('68', '30', 'left', 'directed') 3\n",
        "('68', '30', 'left', 'directed') 4\n",
        "('68', '30', 'left', 'directed') 5\n",
        "('68', '30', 'left', 'directed') 6\n",
        "('68', '30', 'left', 'directed') 7\n",
        "('68', '30', 'left', 'directed') 8\n",
        "('68', '30', 'left', 'directed') 9\n",
        "('68', '30', 'left', 'directed') 10\n",
        "('68', '30', 'left', 'directed') 11\n",
        "('68', '30', 'left', 'directed') 12\n",
        "('68', '30', 'right', 'directed') 0\n",
        "('68', '30', 'right', 'directed') 1\n",
        "('68', '30', 'right', 'directed') 2\n",
        "('68', '30', 'right', 'directed') 3\n",
        "('68', '30', 'right', 'directed') 4\n",
        "('68', '30', 'right', 'directed') 5\n",
        "('68', '30', 'right', 'directed') 6\n",
        "('68', '30', 'right', 'directed') 7\n",
        "('68', '30', 'right', 'directed') 8\n",
        "('68', '30', 'right', 'directed') 9\n",
        "('68', '30', 'right', 'directed') 10\n",
        "('68', '30', 'right', 'directed') 11\n",
        "('68', '30', 'right', 'directed') 12\n",
        "('68', '60', 'left', 'flat')"
       ]
      },
      {
       "output_type": "stream",
       "stream": "stdout",
       "text": [
        " 0\n",
        "('68', '60', 'left', 'flat')"
       ]
      },
      {
       "output_type": "stream",
       "stream": "stdout",
       "text": [
        " 1\n",
        "('68', '60', 'left', 'flat') 2\n",
        "('68', '60', 'left', 'flat')"
       ]
      },
      {
       "output_type": "stream",
       "stream": "stdout",
       "text": [
        " 3\n",
        "('68', '60', 'left', 'flat') 4\n",
        "('68', '60', 'left', 'flat')"
       ]
      },
      {
       "output_type": "stream",
       "stream": "stdout",
       "text": [
        " 5\n",
        "('68', '60', 'left', 'flat') 6\n",
        "('68', '60', 'left', 'flat')"
       ]
      },
      {
       "output_type": "stream",
       "stream": "stdout",
       "text": [
        " 7\n",
        "('68', '60', 'left', 'flat')"
       ]
      },
      {
       "output_type": "stream",
       "stream": "stdout",
       "text": [
        " 8\n",
        "('68', '60', 'left', 'flat') 9\n",
        "('68', '60', 'left', 'flat') 10\n",
        "('68', '60', 'left', 'flat')"
       ]
      },
      {
       "output_type": "stream",
       "stream": "stdout",
       "text": [
        " 11\n",
        "('68', '60', 'left', 'flat') 12\n",
        "('68', '60', 'right', 'flat') 0\n",
        "('68', '60', 'right', 'flat')"
       ]
      },
      {
       "output_type": "stream",
       "stream": "stdout",
       "text": [
        " 1\n",
        "('68', '60', 'right', 'flat') 2\n",
        "('68', '60', 'right', 'flat')"
       ]
      },
      {
       "output_type": "stream",
       "stream": "stdout",
       "text": [
        " 3\n",
        "('68', '60', 'right', 'flat')"
       ]
      },
      {
       "output_type": "stream",
       "stream": "stdout",
       "text": [
        " 4\n",
        "('68', '60', 'right', 'flat')"
       ]
      },
      {
       "output_type": "stream",
       "stream": "stdout",
       "text": [
        " 5\n",
        "('68', '60', 'right', 'flat')"
       ]
      },
      {
       "output_type": "stream",
       "stream": "stdout",
       "text": [
        " 6\n",
        "('68', '60', 'right', 'flat')"
       ]
      },
      {
       "output_type": "stream",
       "stream": "stdout",
       "text": [
        " 7\n",
        "('68', '60', 'right', 'flat') 8\n",
        "('68', '60', 'right', 'flat') 9\n",
        "('68', '60', 'right', 'flat')"
       ]
      },
      {
       "output_type": "stream",
       "stream": "stdout",
       "text": [
        " 10\n",
        "('68', '60', 'right', 'flat') 11\n",
        "('68', '60', 'right', 'flat')"
       ]
      },
      {
       "output_type": "stream",
       "stream": "stdout",
       "text": [
        " 12\n",
        "('68', '60', 'left', 'directed') 0\n",
        "('68', '60', 'left', 'directed') 1\n",
        "('68', '60', 'left', 'directed') 2\n",
        "('68', '60', 'left', 'directed') 3\n",
        "('68', '60', 'left', 'directed') 4\n",
        "('68', '60', 'left', 'directed') 5\n",
        "('68', '60', 'left', 'directed') 6\n",
        "('68', '60', 'left', 'directed') 7\n",
        "('68', '60', 'left', 'directed') 8\n",
        "('68', '60', 'left', 'directed') 9\n",
        "('68', '60', 'left', 'directed') 10\n",
        "('68', '60', 'left', 'directed') 11\n",
        "('68', '60', 'left', 'directed') 12\n",
        "('68', '60', 'right', 'directed') 0\n",
        "('68', '60', 'right', 'directed') 1\n",
        "('68', '60', 'right', 'directed') 2\n",
        "('68', '60', 'right', 'directed') 3\n",
        "('68', '60', 'right', 'directed') 4\n",
        "('68', '60', 'right', 'directed') 5\n",
        "('68', '60', 'right', 'directed') 6\n",
        "('68', '60', 'right', 'directed') 7\n",
        "('68', '60', 'right', 'directed') 8\n",
        "('68', '60', 'right', 'directed') 9\n",
        "('68', '60', 'right', 'directed') 10\n",
        "('68', '60', 'right', 'directed') 11\n",
        "('68', '60', 'right', 'directed') 12\n",
        "('68', '90', 'left', 'flat') 0\n",
        "('68', '90', 'left', 'flat')"
       ]
      },
      {
       "output_type": "stream",
       "stream": "stdout",
       "text": [
        " 1\n",
        "('68', '90', 'left', 'flat') 2\n",
        "('68', '90', 'left', 'flat')"
       ]
      },
      {
       "output_type": "stream",
       "stream": "stdout",
       "text": [
        " 3\n",
        "('68', '90', 'left', 'flat') 4\n",
        "('68', '90', 'left', 'flat') 5\n",
        "('68', '90', 'left', 'flat')"
       ]
      },
      {
       "output_type": "stream",
       "stream": "stdout",
       "text": [
        " 6\n",
        "('68', '90', 'left', 'flat') 7\n",
        "('68', '90', 'left', 'flat') 8\n",
        "('68', '90', 'left', 'flat')"
       ]
      },
      {
       "output_type": "stream",
       "stream": "stdout",
       "text": [
        " 9\n",
        "('68', '90', 'left', 'flat') 10\n",
        "('68', '90', 'left', 'flat') 11\n",
        "('68', '90', 'left', 'flat') 12\n",
        "('68', '90', 'right', 'flat')"
       ]
      },
      {
       "output_type": "stream",
       "stream": "stdout",
       "text": [
        " 0\n",
        "('68', '90', 'right', 'flat') 1\n",
        "('68', '90', 'right', 'flat')"
       ]
      },
      {
       "output_type": "stream",
       "stream": "stdout",
       "text": [
        " 2\n",
        "('68', '90', 'right', 'flat')"
       ]
      },
      {
       "output_type": "stream",
       "stream": "stdout",
       "text": [
        " 3\n",
        "('68', '90', 'right', 'flat')"
       ]
      },
      {
       "output_type": "stream",
       "stream": "stdout",
       "text": [
        " 4\n",
        "('68', '90', 'right', 'flat') 5\n",
        "('68', '90', 'right', 'flat') 6\n",
        "('68', '90', 'right', 'flat') 7\n",
        "('68', '90', 'right', 'flat') 8\n",
        "('68', '90', 'right', 'flat') 9\n",
        "('68', '90', 'right', 'flat')"
       ]
      },
      {
       "output_type": "stream",
       "stream": "stdout",
       "text": [
        " 10\n",
        "('68', '90', 'right', 'flat') 11\n",
        "('68', '90', 'right', 'flat')"
       ]
      },
      {
       "output_type": "stream",
       "stream": "stdout",
       "text": [
        " 12\n",
        "('68', '90', 'left', 'directed') 0\n",
        "('68', '90', 'left', 'directed') 1\n",
        "('68', '90', 'left', 'directed') 2\n",
        "('68', '90', 'left', 'directed') 3\n",
        "('68', '90', 'left', 'directed') 4\n",
        "('68', '90', 'left', 'directed') 5\n",
        "('68', '90', 'left', 'directed') 6\n",
        "('68', '90', 'left', 'directed') 7\n",
        "('68', '90', 'left', 'directed') 8\n",
        "('68', '90', 'left', 'directed') 9\n",
        "('68', '90', 'left', 'directed') 10\n",
        "('68', '90', 'left', 'directed') 11\n",
        "('68', '90', 'left', 'directed') 12\n",
        "('68', '90', 'right', 'directed') 0\n",
        "('68', '90', 'right', 'directed') 1\n",
        "('68', '90', 'right', 'directed') 2\n",
        "('68', '90', 'right', 'directed') 3\n",
        "('68', '90', 'right', 'directed') 4\n",
        "('68', '90', 'right', 'directed') 5\n",
        "('68', '90', 'right', 'directed') 6\n",
        "('68', '90', 'right', 'directed') 7\n",
        "('68', '90', 'right', 'directed') 8\n",
        "('68', '90', 'right', 'directed') 9\n",
        "('68', '90', 'right', 'directed') 10\n",
        "('68', '90', 'right', 'directed') 11\n",
        "('68', '90', 'right', 'directed') 12\n"
       ]
      }
     ],
     "prompt_number": 97
    },
    {
     "cell_type": "code",
     "collapsed": false,
     "input": [],
     "language": "python",
     "metadata": {},
     "outputs": [],
     "prompt_number": 86
    },
    {
     "cell_type": "code",
     "collapsed": false,
     "input": [
      "plot1 = '68:90'\n",
      "plot2 = '0:90'\n",
      "figsize(14,10)\n",
      "plot(means[plot1][5:])\n",
      "plt.hold(True)\n",
      "plot(means[plot2][5:])\n",
      "#plt.hold(True)\n",
      "#plot(means['0:120'][30:])\n",
      "legend([plot1,plot2])\n",
      "plt.show()"
     ],
     "language": "python",
     "metadata": {},
     "outputs": [
      {
       "metadata": {},
       "output_type": "display_data",
       "png": "[encoded data removed]",
       "text": [
        "<matplotlib.figure.Figure at 0x112a345d0>"
       ]
      }
     ],
     "prompt_number": 103
    },
    {
     "cell_type": "code",
     "collapsed": false,
     "input": [],
     "language": "python",
     "metadata": {},
     "outputs": []
    }
   ],
   "metadata": {}
  }
 ]
}