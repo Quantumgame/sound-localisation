{
 "metadata": {
  "name": ""
 },
 "nbformat": 3,
 "nbformat_minor": 0,
 "worksheets": [
  {
   "cells": [
    {
     "cell_type": "code",
     "collapsed": false,
     "input": [
      "import time\n",
      "from brian.globalprefs import *\n",
      "import pygame\n",
      "\n",
      "from brian import *\n",
      "from brian.hears import *\n",
      "set_global_preferences(useweave=True, brianhears_usegpu = True, openmp = True, magic_useframes = False)\n"
     ],
     "language": "python",
     "metadata": {},
     "outputs": [],
     "prompt_number": 3
    },
    {
     "cell_type": "code",
     "collapsed": false,
     "input": [
      "from brian.globalprefs import *\n",
      "import pygame\n",
      "\n",
      "from brian import *\n",
      "from brian.hears import *\n",
      "\n",
      "# Download the IRCAM database, and replace this filename with the location\n",
      "# you downloaded it to\n",
      "set_global_preferences(useweave=True, brianhears_usegpu = True, openmp = True, magic_useframes = False)\n",
      "\n",
      "hrtfdb = IRCAM_LISTEN('ICAM/')\n",
      "subject = 1002\n",
      "hrtfset = hrtfdb.load_subject(subject)\n",
      "# This gives the number of spatial locations in the set of HRTFs\n",
      "num_indices = hrtfset.num_indices\n",
      "# Choose a random location for the sound to come from\n",
      "index = randint(hrtfset.num_indices)\n",
      "# A sound to test the model with\n",
      "sound = Sound.whitenoise(500*ms)\n",
      "#sound = Sound('sounds/playback Playback.wav').left[441000:441000+22050]\n",
      "# This is the specific HRTF for the chosen location\n",
      "hrtf = hrtfset.hrtf[index]\n",
      "# We apply the chosen HRTF to the sound, the output has 2 channels\n",
      "hrtf_fb = hrtf.filterbank(sound)\n",
      "# We swap these channels (equivalent to swapping the channels in the\n",
      "# subsequent filters, but simpler to do it with the inputs)\n",
      "swapped_channels = RestructureFilterbank(hrtf_fb, indexmapping=[1, 0])\n",
      "# Now we apply all of the possible pairs of HRTFs in the set to these\n",
      "# swapped channels, which means repeating them num_indices times first\n",
      "hrtfset_fb = hrtfset.filterbank(Repeat(swapped_channels, num_indices))\n",
      "# Now we apply cochlear filtering (logically, this comes before the HRTF\n",
      "# filtering, but since convolution is commutative it is more efficient to\n",
      "# do the cochlear filtering afterwards\n",
      "cfmin, cfmax, cfN = 150*Hz, 5*kHz, 40\n",
      "cf = erbspace(cfmin, cfmax, cfN)\n",
      "# We repeat each of the HRTFSet filterbank channels cfN times, so that\n",
      "# for each location we will apply each possible cochlear frequency\n",
      "gfb = Gammatone(Repeat(hrtfset_fb, cfN),\n",
      "                tile(cf, hrtfset_fb.nchannels))\n",
      "# Half wave rectification and compression\n",
      "cochlea = FunctionFilterbank(gfb, lambda x:15*clip(x, 0, Inf)**(1.0/3.0))"
     ],
     "language": "python",
     "metadata": {},
     "outputs": [],
     "prompt_number": 170
    },
    {
     "cell_type": "code",
     "collapsed": false,
     "input": [
      "# Leaky integrate and fire neuron model\n",
      "eqs = '''\n",
      "dV/dt = (I-V)/(1*ms)+0.1*xi/(0.5*ms)**.5 : 1\n",
      "I : 1\n",
      "'''\n",
      "G = FilterbankGroup(cochlea, 'I', eqs, reset=0, threshold=1, refractory=5*ms)\n",
      "# The coincidence detector (cd) neurons\n",
      "cd = NeuronGroup(num_indices*cfN, eqs, reset=0, threshold=1, clock=G.clock)\n",
      "# Each CD neuron receives precisely two inputs, one from the left ear and\n",
      "# one from the right, for each location and each cochlear frequency\n",
      "C = Connection(G, cd, 'V')\n",
      "for i in xrange(num_indices*cfN):\n",
      "    C[i, i] = 0.5                 # from right ear\n",
      "    C[i+num_indices*cfN, i] = 0.5 # from left ear\n",
      "# We want to just count the number of CD spikes\n",
      "counter = SpikeCounter(cd)\n",
      "# Run the simulation, giving a report on how long it will take as we run\n",
      "run(sound.duration, report='stderr')\n",
      "# We take the array of counts, and reshape them into a 2D array which we sum\n",
      "# across frequencies to get the spike count of each location-specific assembly\n",
      "count = counter.count\n",
      "count.shape = (num_indices, cfN)\n",
      "count = sum(count, axis=1)\n",
      "count = array(count, dtype=float)/amax(count)\n",
      "# Our guess of the location is the index of the strongest firing assembly\n",
      "index_guess = argmax(count)\n",
      "# Now we plot the output, using the coordinates of the HRTFSet\n",
      "coords = hrtfset.coordinates\n",
      "azim, elev = coords['azim'], coords['elev']\n",
      "scatter(azim, elev, 100*count)\n",
      "plot([azim[index]], [elev[index]], '+r', ms=15, mew=2)\n",
      "plot([azim[index_guess]], [elev[index_guess]], 'xg', ms=15, mew=2)\n",
      "xlabel('Azimuth (deg)')\n",
      "ylabel('Elevation (deg)')\n",
      "xlim(-5, 350)\n",
      "ylim(-50, 95)\n",
      "show()"
     ],
     "language": "python",
     "metadata": {},
     "outputs": [
      {
       "output_type": "stream",
       "stream": "stderr",
       "text": [
        "7% complete, 10s elapsed, approximately 2m 10s remaining.\n"
       ]
      },
      {
       "output_type": "stream",
       "stream": "stderr",
       "text": [
        "16% complete, 20s elapsed, approximately 1m 38s remaining.\n"
       ]
      },
      {
       "output_type": "stream",
       "stream": "stderr",
       "text": [
        "26% complete, 30s elapsed, approximately 1m 23s remaining.\n"
       ]
      },
      {
       "output_type": "stream",
       "stream": "stderr",
       "text": [
        "36% complete, 40s elapsed, approximately 1m 10s remaining.\n"
       ]
      },
      {
       "output_type": "stream",
       "stream": "stderr",
       "text": [
        "46% complete, 50s elapsed, approximately 58s remaining.\n"
       ]
      },
      {
       "output_type": "stream",
       "stream": "stderr",
       "text": [
        "55% complete, 1m 0s elapsed, approximately 47s remaining.\n"
       ]
      },
      {
       "output_type": "stream",
       "stream": "stderr",
       "text": [
        "65% complete, 1m 10s elapsed, approximately 36s remaining.\n"
       ]
      },
      {
       "output_type": "stream",
       "stream": "stderr",
       "text": [
        "75% complete, 1m 20s elapsed, approximately 25s remaining.\n"
       ]
      },
      {
       "output_type": "stream",
       "stream": "stderr",
       "text": [
        "85% complete, 1m 30s elapsed, approximately 15s remaining.\n"
       ]
      },
      {
       "output_type": "stream",
       "stream": "stderr",
       "text": [
        "95% complete, 1m 40s elapsed, approximately 4s remaining.\n"
       ]
      },
      {
       "output_type": "stream",
       "stream": "stderr",
       "text": [
        "100% complete, 1m 45s elapsed, approximately 0s remaining.\n"
       ]
      },
      {
       "metadata": {},
       "output_type": "display_data",
       "png": "[encoded data removed]",
       "text": [
        "<matplotlib.figure.Figure at 0x1210765d0>"
       ]
      }
     ],
     "prompt_number": 171
    },
    {
     "cell_type": "markdown",
     "metadata": {},
     "source": [
      "#Machine Learning approach - Naive Bayes test"
     ]
    },
    {
     "cell_type": "markdown",
     "metadata": {},
     "source": [
      "Start by calculating the cochlea output:"
     ]
    },
    {
     "cell_type": "code",
     "collapsed": false,
     "input": [
      "cochleaout = cochlea.process()"
     ],
     "language": "python",
     "metadata": {},
     "outputs": [],
     "prompt_number": 25
    },
    {
     "cell_type": "markdown",
     "metadata": {},
     "source": [
      "Transform matrix into workable form:"
     ]
    },
    {
     "cell_type": "code",
     "collapsed": false,
     "input": [
      "averaging = 150\n",
      "\n",
      "def colave(inpt, ncol):\n",
      "    shp = list(inpt.shape)\n",
      "    return reshape(mean(reshape(inpt, [inpt.size/ncol,ncol]),axis =1), [shp[0],shp[1]/ncol])\n",
      "\n",
      "def rowave(inpt, nrow):\n",
      "    shp = list(inpt.shape)\n",
      "    return reshape(mean(reshape(inpt.T, [inpt.size/nrow,nrow]),axis =1).T, [shp[1],shp[0]/nrow]).T\n",
      "\n",
      "x = reshape(cochleaout, [22050*num_indices,2*40])\n",
      "xave = rowave(x,averaging) "
     ],
     "language": "python",
     "metadata": {},
     "outputs": [
      {
       "output_type": "stream",
       "stream": "stdout",
       "text": [
        "(22050, 14960)\n",
        "(4123350, 80)\n",
        "(4123350,)"
       ]
      },
      {
       "output_type": "stream",
       "stream": "stdout",
       "text": [
        "\n"
       ]
      }
     ],
     "prompt_number": 150
    },
    {
     "cell_type": "code",
     "collapsed": false,
     "input": [
      "yave = repeat(range(0,num_indices),22050/averaging)\n",
      "from sklearn import svm\n",
      "clf = svm.LinearSVC()\n",
      "clf.fit(xave, yave)"
     ],
     "language": "python",
     "metadata": {},
     "outputs": [
      {
       "metadata": {},
       "output_type": "pyout",
       "prompt_number": 167,
       "text": [
        "LinearSVC(C=1.0, class_weight=None, dual=True, fit_intercept=True,\n",
        "     intercept_scaling=1, loss='l2', multi_class='ovr', penalty='l2',\n",
        "     random_state=None, tol=0.0001, verbose=0)"
       ]
      }
     ],
     "prompt_number": 167
    },
    {
     "cell_type": "markdown",
     "metadata": {},
     "source": [
      "## Calculate the proportion of correct predictions on the training set"
     ]
    },
    {
     "cell_type": "code",
     "collapsed": false,
     "input": [
      "from sklearn.metrics import accuracy_score\n",
      "ypred = array([clf.predict(xave[idx]) for idx in range(0,len(yave))])\n",
      "correct = ypred == yave\n",
      "accuracy_score(yave, ypred)"
     ],
     "language": "python",
     "metadata": {},
     "outputs": [
      {
       "metadata": {},
       "output_type": "pyout",
       "prompt_number": 168,
       "text": [
        "0.96449488886463675"
       ]
      }
     ],
     "prompt_number": 168
    },
    {
     "cell_type": "code",
     "collapsed": false,
     "input": [
      "num_indices"
     ],
     "language": "python",
     "metadata": {},
     "outputs": [
      {
       "metadata": {},
       "output_type": "pyout",
       "prompt_number": 172,
       "text": [
        "187"
       ]
      }
     ],
     "prompt_number": 172
    },
    {
     "cell_type": "markdown",
     "metadata": {},
     "source": [
      "# Plot of predicted vs true value"
     ]
    },
    {
     "cell_type": "code",
     "collapsed": false,
     "input": [
      "idx = 9430\n",
      "predicted = clf.predict(xave[idx])\n",
      "true = yave[idx]\n",
      "probs = clf.predict_proba(xave[idx])\n",
      "coords = hrtfset.coordinates\n",
      "azim, elev = coords['azim'], coords['elev']\n",
      "scatter(azim, elev, 1000*probs)\n",
      "plot([azim[true]], [elev[true]], '+r', ms=15, mew=2)\n",
      "plot([azim[predicted]], [elev[predicted]], 'xg', ms=15, mew=2)\n",
      "xlabel('Azimuth (deg)')\n",
      "ylabel('Elevation (deg)')\n",
      "xlim(-5, 350)\n",
      "ylim(-50, 95)"
     ],
     "language": "python",
     "metadata": {},
     "outputs": [
      {
       "ename": "AttributeError",
       "evalue": "'LinearSVC' object has no attribute 'predict_proba'",
       "output_type": "pyerr",
       "traceback": [
        "\u001b[0;31m---------------------------------------------------------------------------\u001b[0m\n\u001b[0;31mAttributeError\u001b[0m                            Traceback (most recent call last)",
        "\u001b[0;32m<ipython-input-169-957c07e5e52d>\u001b[0m in \u001b[0;36m<module>\u001b[0;34m()\u001b[0m\n\u001b[1;32m      2\u001b[0m \u001b[0mpredicted\u001b[0m \u001b[0;34m=\u001b[0m \u001b[0mclf\u001b[0m\u001b[0;34m.\u001b[0m\u001b[0mpredict\u001b[0m\u001b[0;34m(\u001b[0m\u001b[0mxave\u001b[0m\u001b[0;34m[\u001b[0m\u001b[0midx\u001b[0m\u001b[0;34m]\u001b[0m\u001b[0;34m)\u001b[0m\u001b[0;34m\u001b[0m\u001b[0m\n\u001b[1;32m      3\u001b[0m \u001b[0mtrue\u001b[0m \u001b[0;34m=\u001b[0m \u001b[0myave\u001b[0m\u001b[0;34m[\u001b[0m\u001b[0midx\u001b[0m\u001b[0;34m]\u001b[0m\u001b[0;34m\u001b[0m\u001b[0m\n\u001b[0;32m----> 4\u001b[0;31m \u001b[0mprobs\u001b[0m \u001b[0;34m=\u001b[0m \u001b[0mclf\u001b[0m\u001b[0;34m.\u001b[0m\u001b[0mpredict_proba\u001b[0m\u001b[0;34m(\u001b[0m\u001b[0mxave\u001b[0m\u001b[0;34m[\u001b[0m\u001b[0midx\u001b[0m\u001b[0;34m]\u001b[0m\u001b[0;34m)\u001b[0m\u001b[0;34m\u001b[0m\u001b[0m\n\u001b[0m\u001b[1;32m      5\u001b[0m \u001b[0mcoords\u001b[0m \u001b[0;34m=\u001b[0m \u001b[0mhrtfset\u001b[0m\u001b[0;34m.\u001b[0m\u001b[0mcoordinates\u001b[0m\u001b[0;34m\u001b[0m\u001b[0m\n\u001b[1;32m      6\u001b[0m \u001b[0mazim\u001b[0m\u001b[0;34m,\u001b[0m \u001b[0melev\u001b[0m \u001b[0;34m=\u001b[0m \u001b[0mcoords\u001b[0m\u001b[0;34m[\u001b[0m\u001b[0;34m'azim'\u001b[0m\u001b[0;34m]\u001b[0m\u001b[0;34m,\u001b[0m \u001b[0mcoords\u001b[0m\u001b[0;34m[\u001b[0m\u001b[0;34m'elev'\u001b[0m\u001b[0;34m]\u001b[0m\u001b[0;34m\u001b[0m\u001b[0m\n",
        "\u001b[0;31mAttributeError\u001b[0m: 'LinearSVC' object has no attribute 'predict_proba'"
       ]
      }
     ],
     "prompt_number": 169
    },
    {
     "cell_type": "code",
     "collapsed": false,
     "input": [
      "print reshape(x, [8,3])\n",
      "print x"
     ],
     "language": "python",
     "metadata": {},
     "outputs": [
      {
       "output_type": "stream",
       "stream": "stdout",
       "text": [
        "[[1 1 1]\n",
        " [2 2 2]\n",
        " [3 3 3]\n",
        " [4 4 4]\n",
        " [1 1 1]\n",
        " [2 2 2]\n",
        " [3 3 3]\n",
        " [4 4 4]]\n",
        "[[1 1 1 2 2 2 3 3 3 4 4 4]\n",
        " [1 1 1 2 2 2 3 3 3 4 4 4]]\n"
       ]
      }
     ],
     "prompt_number": 21
    },
    {
     "cell_type": "code",
     "collapsed": false,
     "input": [
      "2*40*187\n",
      "22050/50"
     ],
     "language": "python",
     "metadata": {},
     "outputs": [
      {
       "metadata": {},
       "output_type": "pyout",
       "prompt_number": 108,
       "text": [
        "441"
       ]
      }
     ],
     "prompt_number": 108
    },
    {
     "cell_type": "code",
     "collapsed": false,
     "input": [
      "play(sound)"
     ],
     "language": "python",
     "metadata": {},
     "outputs": [],
     "prompt_number": 26
    },
    {
     "cell_type": "code",
     "collapsed": false,
     "input": [
      "hrtfset_fb.nchannels"
     ],
     "language": "python",
     "metadata": {},
     "outputs": [
      {
       "ename": "NameError",
       "evalue": "name 'hrtfset_fb' is not defined",
       "output_type": "pyerr",
       "traceback": [
        "\u001b[0;31m---------------------------------------------------------------------------\u001b[0m\n\u001b[0;31mNameError\u001b[0m                                 Traceback (most recent call last)",
        "\u001b[0;32m<ipython-input-11-baa170e69170>\u001b[0m in \u001b[0;36m<module>\u001b[0;34m()\u001b[0m\n\u001b[0;32m----> 1\u001b[0;31m \u001b[0mhrtfset_fb\u001b[0m\u001b[0;34m.\u001b[0m\u001b[0mnchannels\u001b[0m\u001b[0;34m\u001b[0m\u001b[0m\n\u001b[0m",
        "\u001b[0;31mNameError\u001b[0m: name 'hrtfset_fb' is not defined"
       ]
      }
     ],
     "prompt_number": 11
    },
    {
     "cell_type": "code",
     "collapsed": false,
     "input": [
      "a = hrtfdb.load_subject(1002)"
     ],
     "language": "python",
     "metadata": {},
     "outputs": [],
     "prompt_number": 17
    },
    {
     "cell_type": "markdown",
     "metadata": {},
     "source": [
      "## Experiment with the HRTF database"
     ]
    },
    {
     "cell_type": "code",
     "collapsed": false,
     "input": [
      "for i in range(0,15):\n",
      "    coord = i*12\n",
      "    subject = hrtfdb.load_subject(1002)\n",
      "    src = subject[coord].filterbank(sound)\n",
      "    snd = src.process()\n",
      "    play(Sound(snd))\n",
      "    subject.coordinates[coord]\n",
      "    pause(0.5)"
     ],
     "language": "python",
     "metadata": {},
     "outputs": [
      {
       "ename": "NameError",
       "evalue": "name 'hrtfdb' is not defined",
       "output_type": "pyerr",
       "traceback": [
        "\u001b[0;31m---------------------------------------------------------------------------\u001b[0m\n\u001b[0;31mNameError\u001b[0m                                 Traceback (most recent call last)",
        "\u001b[0;32m<ipython-input-1-17a2e21c09b3>\u001b[0m in \u001b[0;36m<module>\u001b[0;34m()\u001b[0m\n\u001b[1;32m      1\u001b[0m \u001b[0;32mfor\u001b[0m \u001b[0mi\u001b[0m \u001b[0;32min\u001b[0m \u001b[0mrange\u001b[0m\u001b[0;34m(\u001b[0m\u001b[0;36m0\u001b[0m\u001b[0;34m,\u001b[0m\u001b[0;36m15\u001b[0m\u001b[0;34m)\u001b[0m\u001b[0;34m:\u001b[0m\u001b[0;34m\u001b[0m\u001b[0m\n\u001b[1;32m      2\u001b[0m     \u001b[0mcoord\u001b[0m \u001b[0;34m=\u001b[0m \u001b[0mi\u001b[0m\u001b[0;34m*\u001b[0m\u001b[0;36m12\u001b[0m\u001b[0;34m\u001b[0m\u001b[0m\n\u001b[0;32m----> 3\u001b[0;31m     \u001b[0msubject\u001b[0m \u001b[0;34m=\u001b[0m \u001b[0mhrtfdb\u001b[0m\u001b[0;34m.\u001b[0m\u001b[0mload_subject\u001b[0m\u001b[0;34m(\u001b[0m\u001b[0;36m1002\u001b[0m\u001b[0;34m)\u001b[0m\u001b[0;34m\u001b[0m\u001b[0m\n\u001b[0m\u001b[1;32m      4\u001b[0m     \u001b[0msrc\u001b[0m \u001b[0;34m=\u001b[0m \u001b[0msubject\u001b[0m\u001b[0;34m[\u001b[0m\u001b[0mcoord\u001b[0m\u001b[0;34m]\u001b[0m\u001b[0;34m.\u001b[0m\u001b[0mfilterbank\u001b[0m\u001b[0;34m(\u001b[0m\u001b[0msound\u001b[0m\u001b[0;34m)\u001b[0m\u001b[0;34m\u001b[0m\u001b[0m\n\u001b[1;32m      5\u001b[0m     \u001b[0msnd\u001b[0m \u001b[0;34m=\u001b[0m \u001b[0msrc\u001b[0m\u001b[0;34m.\u001b[0m\u001b[0mprocess\u001b[0m\u001b[0;34m(\u001b[0m\u001b[0;34m)\u001b[0m\u001b[0;34m\u001b[0m\u001b[0m\n",
        "\u001b[0;31mNameError\u001b[0m: name 'hrtfdb' is not defined"
       ]
      }
     ],
     "prompt_number": 1
    },
    {
     "cell_type": "code",
     "collapsed": false,
     "input": [
      "len(subject.coordinates)*2"
     ],
     "language": "python",
     "metadata": {},
     "outputs": [
      {
       "metadata": {},
       "output_type": "pyout",
       "prompt_number": 83,
       "text": [
        "374"
       ]
      }
     ],
     "prompt_number": 83
    },
    {
     "cell_type": "code",
     "collapsed": false,
     "input": [
      "test = swapped_channels.process()\n",
      "test2 = hrtf_fb.process()"
     ],
     "language": "python",
     "metadata": {},
     "outputs": [],
     "prompt_number": 74
    },
    {
     "cell_type": "code",
     "collapsed": false,
     "input": [
      "print test.shape, test2.shape"
     ],
     "language": "python",
     "metadata": {},
     "outputs": [
      {
       "output_type": "stream",
       "stream": "stdout",
       "text": [
        "(22050, 2) (22050, 2)\n"
       ]
      }
     ],
     "prompt_number": 75
    },
    {
     "cell_type": "code",
     "collapsed": false,
     "input": [
      "test"
     ],
     "language": "python",
     "metadata": {},
     "outputs": [
      {
       "metadata": {},
       "output_type": "pyout",
       "prompt_number": 76,
       "text": [
        "array([[  2.29089674e-05,  -7.33359411e-05],\n",
        "       [  5.17560729e-05,  -3.75656018e-05],\n",
        "       [  9.58362580e-06,   7.43313285e-06],\n",
        "       ..., \n",
        "       [  1.42198772e-03,  -3.76868134e-04],\n",
        "       [  4.18273430e-03,   3.78654479e-03],\n",
        "       [ -3.42316474e-04,   6.57254871e-03]])"
       ]
      }
     ],
     "prompt_number": 76
    },
    {
     "cell_type": "code",
     "collapsed": false,
     "input": [
      "Repeat(swapped_channels, num_indices)"
     ],
     "language": "python",
     "metadata": {},
     "outputs": [
      {
       "metadata": {},
       "output_type": "pyout",
       "prompt_number": 78,
       "text": [
        "<brian.hears.filtering.filterbank.Repeat at 0x12217c7d0>"
       ]
      }
     ],
     "prompt_number": 78
    },
    {
     "cell_type": "code",
     "collapsed": false,
     "input": [
      "test = hrtfset_fb.process()\n",
      "test.shape"
     ],
     "language": "python",
     "metadata": {},
     "outputs": [
      {
       "metadata": {},
       "output_type": "pyout",
       "prompt_number": 82,
       "text": [
        "(22050, 374)"
       ]
      }
     ],
     "prompt_number": 82
    },
    {
     "cell_type": "code",
     "collapsed": false,
     "input": [],
     "language": "python",
     "metadata": {},
     "outputs": []
    }
   ],
   "metadata": {}
  }
 ]
}