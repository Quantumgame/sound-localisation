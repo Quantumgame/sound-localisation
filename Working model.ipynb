{
 "metadata": {
  "name": ""
 },
 "nbformat": 3,
 "nbformat_minor": 0,
 "worksheets": [
  {
   "cells": [
    {
     "cell_type": "code",
     "collapsed": false,
     "input": [
      "from brian.globalprefs import *\n",
      "import pygame\n",
      "from brian import *\n",
      "from brian.hears import *\n",
      "set_global_preferences(useweave=True, brianhears_usegpu = True, openmp = True, magic_useframes = False)\n",
      "from sklearn import svm\n",
      "from sklearn import cross_validation\n",
      "import time\n",
      "from StringIO import StringIO\n",
      "from sklearn.ensemble import RandomForestClassifier\n",
      "from sklearn.cross_validation import cross_val_score\n",
      "from numpy import *\n",
      "import matplotlib.pyplot as plt\n",
      "import cPickle as pickle\n",
      "%matplotlib inline"
     ],
     "language": "python",
     "metadata": {},
     "outputs": [],
     "prompt_number": 2
    },
    {
     "cell_type": "code",
     "collapsed": false,
     "input": [
      "samplerate = 44100\n",
      "sampletime = 0.5\n",
      "averaging = 1050   # needs to be a factor of 0.5*44100 = 22050\n",
      "samples = int(sampletime * samplerate)\n",
      "\n",
      "n_filters = 40\n",
      "hrtfdb = IRCAM_LISTEN('ICAM/')\n",
      "subject = 1002\n",
      "hrtfset = hrtfdb.load_subject(subject)\n",
      "def colave(inpt, ncol):\n",
      "    shp = list(inpt.shape)\n",
      "    return reshape(mean(reshape(inpt, [inpt.size/ncol,ncol]),axis =1), [shp[0],shp[1]/ncol])\n",
      "\n",
      "def rowave(inpt, nrow):\n",
      "    shp = list(inpt.shape)\n",
      "    return reshape(mean(reshape(inpt.T, [inpt.size/nrow,nrow]),axis =1).T, [shp[1],shp[0]/nrow]).T\n",
      "\n",
      "def preprocess(x, samples, num_indices, n_filters, averaging):\n",
      "    a = reshape(x, [samples*num_indices,2*n_filters])\n",
      "    return rowave(a,averaging)\n",
      "\n",
      "def bpm_to_index(bpm, sample_rate, start, bars):\n",
      "    seconds_per_bar = 60.0/bpm*4\n",
      "    start_index = int(seconds_per_bar*sample_rate*start)\n",
      "    end_index = start_index + int(sample_rate*seconds_per_bar*bars)\n",
      "    return (start_index, end_index)\n",
      "\n",
      "def process_sound(sound, indx, offset = 0, time = 0.5, subject = 1002, samplerate=44100):\n",
      "    subject = hrtfdb.load_subject(subject)\n",
      "    src = subject[indx].filterbank(sound[int(samplerate*offset):int(samplerate*offset+samplerate*time)])\n",
      "    snd = src.process()\n",
      "    return snd\n",
      "    \n",
      "def playback_index(sound, indx, offset = 0, time = 0.5, subject = 1002, samplerate = 44100):\n",
      "    play(Sound(process_sound(sound,indx, offset, time, subject, samplerate)))\n",
      "\n",
      "def smooth(x,window_len=11,window='hanning'):\n",
      "    if x.ndim != 1:\n",
      "        raise ValueError, \"smooth only accepts 1 dimension arrays.\"\n",
      "\n",
      "    if x.size < window_len:\n",
      "        raise ValueError, \"Input vector needs to be bigger than window size.\"\n",
      "        \n",
      "    if window_len<3:\n",
      "        return x\n",
      "\n",
      "    if not window in ['flat', 'hanning', 'hamming', 'bartlett', 'blackman']:\n",
      "        raise ValueError, \"Window is on of 'flat', 'hanning', 'hamming', 'bartlett', 'blackman'\"\n",
      "\n",
      "    s=r_[x[window_len-1:0:-1],x,x[-1:-window_len:-1]]\n",
      "    #print(len(s))\n",
      "    if window == 'flat': #moving average\n",
      "        w=ones(window_len,'d')\n",
      "    else:\n",
      "        w=eval(window+'(window_len)')\n",
      "\n",
      "    y=convolve(w/w.sum(),s,mode='valid')\n",
      "    return y\n",
      "    \n",
      "\n",
      "n = 24\n",
      "num_indices = hrtfset.num_indices\n",
      "sound = Sound('sounds/playback Playback.wav')"
     ],
     "language": "python",
     "metadata": {},
     "outputs": [],
     "prompt_number": 3
    },
    {
     "cell_type": "code",
     "collapsed": false,
     "input": [
      "snd = process_sound(sound, 50, offset = 7.1,time= 1.85)\n",
      "len(snd)\n",
      "azims = hrtfset.coordinates['azim']"
     ],
     "language": "python",
     "metadata": {},
     "outputs": [],
     "prompt_number": 58
    },
    {
     "cell_type": "code",
     "collapsed": false,
     "input": [
      "def leveldiff(left,right):\n",
      "    maxl = max([max(left),max(right)])\n",
      "    return (mean(left)-mean(right))/maxl\n",
      "\n",
      "def genmaxcorr(snd, samplerate=44100, headdelta=660):\n",
      "    n = int(ceil(headdelta/(1.0/samplerate*1e6))) #max difference in number of samples\n",
      "    offset = 0\n",
      "    corr = correlate(snd[offset:offset+n,0],snd[offset:offset+n,1],\"full\")\n",
      "    itrs = len(snd)/n\n",
      "    for i in range(0, itrs):\n",
      "        offset = i*n\n",
      "        corr = corr + correlate(snd[offset:offset+n,0],snd[offset:offset+n,1],\"full\")\n",
      "    return corr/itrs\n",
      "\n",
      "def getiid(snd, samplerate=44100, headdelta=660):\n",
      "    n = int(ceil(headdelta/(1.0/samplerate*1e6))) # match n for cross correlation\n",
      "    offset = 0\n",
      "    diff = leveldiff(snd[offset:offset+n,0],snd[offset:offset+n,1])\n",
      "    itrs = len(snd)/n\n",
      "    for i in range(0, itrs):\n",
      "        offset = i*n\n",
      "        diff = diff + leveldiff(snd[offset:offset+n,0],snd[offset:offset+n,1])\n",
      "    return diff/itrs\n",
      "\n",
      "before = time.time()\n",
      "xcor = getiid(snd)\n",
      "print time.time() - before\n",
      "print xcor\n",
      "#plot(arange(0, len(xcor))-len(xcor)/2, xcor)"
     ],
     "language": "python",
     "metadata": {},
     "outputs": [
      {
       "ename": "NameError",
       "evalue": "name 'snd' is not defined",
       "output_type": "pyerr",
       "traceback": [
        "\u001b[0;31m---------------------------------------------------------------------------\u001b[0m\n\u001b[0;31mNameError\u001b[0m                                 Traceback (most recent call last)",
        "\u001b[0;32m<ipython-input-10-cc15adfaf167>\u001b[0m in \u001b[0;36m<module>\u001b[0;34m()\u001b[0m\n\u001b[1;32m     24\u001b[0m \u001b[0;34m\u001b[0m\u001b[0m\n\u001b[1;32m     25\u001b[0m \u001b[0mbefore\u001b[0m \u001b[0;34m=\u001b[0m \u001b[0mtime\u001b[0m\u001b[0;34m.\u001b[0m\u001b[0mtime\u001b[0m\u001b[0;34m(\u001b[0m\u001b[0;34m)\u001b[0m\u001b[0;34m\u001b[0m\u001b[0m\n\u001b[0;32m---> 26\u001b[0;31m \u001b[0mxcor\u001b[0m \u001b[0;34m=\u001b[0m \u001b[0mgetiid\u001b[0m\u001b[0;34m(\u001b[0m\u001b[0msnd\u001b[0m\u001b[0;34m)\u001b[0m\u001b[0;34m\u001b[0m\u001b[0m\n\u001b[0m\u001b[1;32m     27\u001b[0m \u001b[0;32mprint\u001b[0m \u001b[0mtime\u001b[0m\u001b[0;34m.\u001b[0m\u001b[0mtime\u001b[0m\u001b[0;34m(\u001b[0m\u001b[0;34m)\u001b[0m \u001b[0;34m-\u001b[0m \u001b[0mbefore\u001b[0m\u001b[0;34m\u001b[0m\u001b[0m\n\u001b[1;32m     28\u001b[0m \u001b[0;32mprint\u001b[0m \u001b[0mxcor\u001b[0m\u001b[0;34m\u001b[0m\u001b[0m\n",
        "\u001b[0;31mNameError\u001b[0m: name 'snd' is not defined"
       ]
      }
     ],
     "prompt_number": 10
    },
    {
     "cell_type": "code",
     "collapsed": false,
     "input": [
      "sounds = {}\n",
      "for i in range(0,187):\n",
      "    sounds[i] = process_sound(sound, i, offset = 0,time= 25)"
     ],
     "language": "python",
     "metadata": {},
     "outputs": [],
     "prompt_number": 127
    },
    {
     "cell_type": "code",
     "collapsed": false,
     "input": [
      "with open(r'sounds.pkl','wb') as f: #moved to ~/programming/sound_localisation/sounds.pkl\n",
      "    pickle.dump(sounds,f)"
     ],
     "language": "python",
     "metadata": {},
     "outputs": [],
     "prompt_number": 146
    },
    {
     "cell_type": "code",
     "collapsed": false,
     "input": [
      "inputsound = Sound('sounds/playback Playback.wav').left\n",
      "sampletime = 0.5\n",
      "samples = int(sampletime * 44100)\n",
      "num_indices = hrtfset.num_indices\n",
      "\n",
      "correlations = None\n",
      "\n",
      "for j in range(0, n):\n",
      "    offset = j*44100\n",
      "    \n",
      "    print \"Iteration - %d, samples = %d : %d\" %(j, offset,offset+samples)\n",
      "    #sound = inputsound[offset:(offset+samples)]\n",
      "    b = arange(0,187)\n",
      "    for i in range(0,187):\n",
      "        xcor = genmaxcorr(sounds[i][offset:(offset+samples)])\n",
      "        b[i] = xcor.argmax(0)-len(xcor)/2\n",
      "    \n",
      "    if correlations == None:\n",
      "        correlations = repeat(b,samples/averaging)\n",
      "    else:\n",
      "        correlations = hstack((correlations, repeat(b,samples/averaging)))"
     ],
     "language": "python",
     "metadata": {},
     "outputs": [
      {
       "output_type": "stream",
       "stream": "stdout",
       "text": [
        "Iteration - 0, samples = 0 : 22050\n",
        "Iteration - 1, samples = 44100 : 66150"
       ]
      },
      {
       "output_type": "stream",
       "stream": "stdout",
       "text": [
        "\n",
        "Iteration - 2, samples = 88200 : 110250"
       ]
      },
      {
       "output_type": "stream",
       "stream": "stdout",
       "text": [
        "\n",
        "Iteration - 3, samples = 132300 : 154350"
       ]
      },
      {
       "output_type": "stream",
       "stream": "stdout",
       "text": [
        "\n",
        "Iteration - 4, samples = 176400 : 198450"
       ]
      },
      {
       "output_type": "stream",
       "stream": "stdout",
       "text": [
        "\n",
        "Iteration - 5, samples = 220500 : 242550"
       ]
      },
      {
       "output_type": "stream",
       "stream": "stdout",
       "text": [
        "\n",
        "Iteration - 6, samples = 264600 : 286650"
       ]
      },
      {
       "output_type": "stream",
       "stream": "stdout",
       "text": [
        "\n",
        "Iteration - 7, samples = 308700 : 330750"
       ]
      },
      {
       "output_type": "stream",
       "stream": "stdout",
       "text": [
        "\n",
        "Iteration - 8, samples = 352800 : 374850"
       ]
      },
      {
       "output_type": "stream",
       "stream": "stdout",
       "text": [
        "\n",
        "Iteration - 9, samples = 396900 : 418950"
       ]
      },
      {
       "output_type": "stream",
       "stream": "stdout",
       "text": [
        "\n",
        "Iteration - 10, samples = 441000 : 463050"
       ]
      },
      {
       "output_type": "stream",
       "stream": "stdout",
       "text": [
        "\n",
        "Iteration - 11, samples = 485100 : 507150"
       ]
      },
      {
       "output_type": "stream",
       "stream": "stdout",
       "text": [
        "\n",
        "Iteration - 12, samples = 529200 : 551250"
       ]
      },
      {
       "output_type": "stream",
       "stream": "stdout",
       "text": [
        "\n",
        "Iteration - 13, samples = 573300 : 595350"
       ]
      },
      {
       "output_type": "stream",
       "stream": "stdout",
       "text": [
        "\n",
        "Iteration - 14, samples = 617400 : 639450"
       ]
      },
      {
       "output_type": "stream",
       "stream": "stdout",
       "text": [
        "\n",
        "Iteration - 15, samples = 661500 : 683550"
       ]
      },
      {
       "output_type": "stream",
       "stream": "stdout",
       "text": [
        "\n",
        "Iteration - 16, samples = 705600 : 727650"
       ]
      },
      {
       "output_type": "stream",
       "stream": "stdout",
       "text": [
        "\n",
        "Iteration - 17, samples = 749700 : 771750"
       ]
      },
      {
       "output_type": "stream",
       "stream": "stdout",
       "text": [
        "\n",
        "Iteration - 18, samples = 793800 : 815850"
       ]
      },
      {
       "output_type": "stream",
       "stream": "stdout",
       "text": [
        "\n",
        "Iteration - 19, samples = 837900 : 859950"
       ]
      },
      {
       "output_type": "stream",
       "stream": "stdout",
       "text": [
        "\n",
        "Iteration - 20, samples = 882000 : 904050"
       ]
      },
      {
       "output_type": "stream",
       "stream": "stdout",
       "text": [
        "\n",
        "Iteration - 21, samples = 926100 : 948150"
       ]
      },
      {
       "output_type": "stream",
       "stream": "stdout",
       "text": [
        "\n",
        "Iteration - 22, samples = 970200 : 992250"
       ]
      },
      {
       "output_type": "stream",
       "stream": "stdout",
       "text": [
        "\n",
        "Iteration - 23, samples = 1014300 : 1036350"
       ]
      },
      {
       "output_type": "stream",
       "stream": "stdout",
       "text": [
        "\n"
       ]
      }
     ],
     "prompt_number": 128
    },
    {
     "cell_type": "code",
     "collapsed": false,
     "input": [
      "with open(r'correlations.pkl','wb') as f: #moved to ~/programming/sound_localisation/sounds.pkl\n",
      "    pickle.dump(correlations,f)"
     ],
     "language": "python",
     "metadata": {},
     "outputs": [],
     "prompt_number": 147
    },
    {
     "cell_type": "code",
     "collapsed": false,
     "input": [
      "print range(0,num_indices)\n",
      "print arange(0,187)\n",
      "print correlations.shape[0]"
     ],
     "language": "python",
     "metadata": {},
     "outputs": [
      {
       "output_type": "stream",
       "stream": "stdout",
       "text": [
        "[0, 1, 2, 3, 4, 5, 6, 7, 8, 9, 10, 11, 12, 13, 14, 15, 16, 17, 18, 19, 20, 21, 22, 23, 24, 25, 26, 27, 28, 29, 30, 31, 32, 33, 34, 35, 36, 37, 38, 39, 40, 41, 42, 43, 44, 45, 46, 47, 48, 49, 50, 51, 52, 53, 54, 55, 56, 57, 58, 59, 60, 61, 62, 63, 64, 65, 66, 67, 68, 69, 70, 71, 72, 73, 74, 75, 76, 77, 78, 79, 80, 81, 82, 83, 84, 85, 86, 87, 88, 89, 90, 91, 92, 93, 94, 95, 96, 97, 98, 99, 100, 101, 102, 103, 104, 105, 106, 107, 108, 109, 110, 111, 112, 113, 114, 115, 116, 117, 118, 119, 120, 121, 122, 123, 124, 125, 126, 127, 128, 129, 130, 131, 132, 133, 134, 135, 136, 137, 138, 139, 140, 141, 142, 143, 144, 145, 146, 147, 148, 149, 150, 151, 152, 153, 154, 155, 156, 157, 158, 159, 160, 161, 162, 163, 164, 165, 166, 167, 168, 169, 170, 171, 172, 173, 174, 175, 176, 177, 178, 179, 180, 181, 182, 183, 184, 185, 186]\n",
        "[  0   1   2   3   4   5   6   7   8   9  10  11  12  13  14  15  16  17\n",
        "  18  19  20  21  22  23  24  25  26  27  28  29  30  31  32  33  34  35\n",
        "  36  37  38  39  40  41  42  43  44  45  46  47  48  49  50  51  52  53\n",
        "  54  55  56  57  58  59  60  61  62  63  64  65  66  67  68  69  70  71\n",
        "  72  73  74  75  76  77  78  79  80  81  82  83  84  85  86  87  88  89\n",
        "  90  91  92  93  94  95  96  97  98  99 100 101 102 103 104 105 106 107\n",
        " 108 109 110 111 112 113 114 115 116 117 118 119 120 121 122 123 124 125\n",
        " 126 127 128 129 130 131 132 133 134 135 136 137 138 139 140 141 142 143\n",
        " 144 145 146 147 148 149 150 151 152 153 154 155 156 157 158 159 160 161\n",
        " 162 163 164 165 166 167 168 169 170 171 172 173 174 175 176 177 178 179\n",
        " 180 181 182 183 184 185 186]\n",
        "94248\n"
       ]
      }
     ],
     "prompt_number": 129
    },
    {
     "cell_type": "code",
     "collapsed": false,
     "input": [
      "b = arange(0,187)\n",
      "for i in range(0,187):\n",
      "    xcor = genmaxcorr(sounds[i])\n",
      "    b[i] = xcor.argmax(0)-len(xcor)/2"
     ],
     "language": "python",
     "metadata": {},
     "outputs": [],
     "prompt_number": 92
    },
    {
     "cell_type": "code",
     "collapsed": false,
     "input": [
      "c = arange(0,187)\n",
      "for i in range(0,187):\n",
      "    c[i] = getiid(sounds[i])"
     ],
     "language": "python",
     "metadata": {},
     "outputs": [],
     "prompt_number": 46
    },
    {
     "cell_type": "code",
     "collapsed": false,
     "input": [
      "plot(smooth(snd[1000:100000,0],window_len=5000))\n",
      "plot(smooth(snd[1000:100000,1], window_len=5000))"
     ],
     "language": "python",
     "metadata": {},
     "outputs": [
      {
       "metadata": {},
       "output_type": "pyout",
       "prompt_number": 90,
       "text": [
        "[<matplotlib.lines.Line2D at 0x12d811150>]"
       ]
      },
      {
       "metadata": {},
       "output_type": "display_data",
       "png": "[encoded data removed]",
       "text": [
        "<matplotlib.figure.Figure at 0x12d811b50>"
       ]
      }
     ],
     "prompt_number": 90
    },
    {
     "cell_type": "code",
     "collapsed": false,
     "input": [
      "plot(smooth(snd[1000:10000,0],window_len=5000) - smooth(snd[1000:10000,1],window_len=5000))"
     ],
     "language": "python",
     "metadata": {},
     "outputs": [
      {
       "metadata": {},
       "output_type": "pyout",
       "prompt_number": 88,
       "text": [
        "[<matplotlib.lines.Line2D at 0x13133d550>]"
       ]
      },
      {
       "metadata": {},
       "output_type": "display_data",
       "png": "[encoded data removed]",
       "text": [
        "<matplotlib.figure.Figure at 0x11b2d9110>"
       ]
      }
     ],
     "prompt_number": 88
    },
    {
     "cell_type": "code",
     "collapsed": false,
     "input": [
      "plt.rc('text', usetex=False)\n",
      "plt.rc('font', family='serif')\n",
      "plt.plot(azims, b*1.0/44100*1e6, marker='o', linestyle='None')\n",
      "plt.title(r\"Cross correlations\")\n",
      "plt.ylabel(r\"Time Difference us\")\n",
      "plt.xlabel(r\"Azimunth angle\")\n",
      "#plt.savefig('tex_demo')\n",
      "plt.show()"
     ],
     "language": "python",
     "metadata": {},
     "outputs": [
      {
       "metadata": {},
       "output_type": "display_data",
       "png": "[encoded data removed]",
       "text": [
        "<matplotlib.figure.Figure at 0x131a61890>"
       ]
      }
     ],
     "prompt_number": 91
    },
    {
     "cell_type": "code",
     "collapsed": false,
     "input": [
      "with open('x.pkl') as xfile:\n",
      "    xave = pickle.load(xfile)\n",
      "\n",
      "with open('y.pkl') as yfile:\n",
      "    yave = pickle.load(yfile)\n",
      "\n",
      "print \"Imported from pickle\"\n",
      "print xave.shape, yave.shape"
     ],
     "language": "python",
     "metadata": {},
     "outputs": [
      {
       "output_type": "stream",
       "stream": "stdout",
       "text": [
        "Imported from pickle\n",
        "(94248, 80) (94248,)\n"
       ]
      }
     ],
     "prompt_number": 94
    },
    {
     "cell_type": "code",
     "collapsed": false,
     "input": [
      "print yave[0:94248/187]\n",
      "print 44100/1050"
     ],
     "language": "python",
     "metadata": {},
     "outputs": [
      {
       "output_type": "stream",
       "stream": "stdout",
       "text": [
        "[ 0  0  0  0  0  0  0  0  0  0  0  0  0  0  0  0  0  0  0  0  0  1  1  1  1\n",
        "  1  1  1  1  1  1  1  1  1  1  1  1  1  1  1  1  1  2  2  2  2  2  2  2  2\n",
        "  2  2  2  2  2  2  2  2  2  2  2  2  2  3  3  3  3  3  3  3  3  3  3  3  3\n",
        "  3  3  3  3  3  3  3  3  3  4  4  4  4  4  4  4  4  4  4  4  4  4  4  4  4\n",
        "  4  4  4  4  4  5  5  5  5  5  5  5  5  5  5  5  5  5  5  5  5  5  5  5  5\n",
        "  5  6  6  6  6  6  6  6  6  6  6  6  6  6  6  6  6  6  6  6  6  6  7  7  7\n",
        "  7  7  7  7  7  7  7  7  7  7  7  7  7  7  7  7  7  7  8  8  8  8  8  8  8\n",
        "  8  8  8  8  8  8  8  8  8  8  8  8  8  8  9  9  9  9  9  9  9  9  9  9  9\n",
        "  9  9  9  9  9  9  9  9  9  9 10 10 10 10 10 10 10 10 10 10 10 10 10 10 10\n",
        " 10 10 10 10 10 10 11 11 11 11 11 11 11 11 11 11 11 11 11 11 11 11 11 11 11\n",
        " 11 11 12 12 12 12 12 12 12 12 12 12 12 12 12 12 12 12 12 12 12 12 12 13 13\n",
        " 13 13 13 13 13 13 13 13 13 13 13 13 13 13 13 13 13 13 13 14 14 14 14 14 14\n",
        " 14 14 14 14 14 14 14 14 14 14 14 14 14 14 14 15 15 15 15 15 15 15 15 15 15\n",
        " 15 15 15 15 15 15 15 15 15 15 15 16 16 16 16 16 16 16 16 16 16 16 16 16 16\n",
        " 16 16 16 16 16 16 16 17 17 17 17 17 17 17 17 17 17 17 17 17 17 17 17 17 17\n",
        " 17 17 17 18 18 18 18 18 18 18 18 18 18 18 18 18 18 18 18 18 18 18 18 18 19\n",
        " 19 19 19 19 19 19 19 19 19 19 19 19 19 19 19 19 19 19 19 19 20 20 20 20 20\n",
        " 20 20 20 20 20 20 20 20 20 20 20 20 20 20 20 20 21 21 21 21 21 21 21 21 21\n",
        " 21 21 21 21 21 21 21 21 21 21 21 21 22 22 22 22 22 22 22 22 22 22 22 22 22\n",
        " 22 22 22 22 22 22 22 22 23 23 23 23 23 23 23 23 23 23 23 23 23 23 23 23 23\n",
        " 23 23 23 23]\n",
        "42\n"
       ]
      }
     ],
     "prompt_number": 111
    },
    {
     "cell_type": "code",
     "collapsed": false,
     "input": [
      "#(left, left_sample_rate, left_bits) = audio.wavread(\"sounds/Recordings/out/playback 0 120-left.wav\")\n",
      "#(right, right_sample_rate, right_bits) = audio.wavread(\"sounds/Recordings/out/playback 0 120-right.wav\")\n",
      "#left_fft = numpy.fft.rfft(left)\n",
      "#right_fft = numpy.fft.rfft(right)\n",
      "left = snd[:,0]\n",
      "right = snd[:,1]\n",
      "time_array = arange(0, len(left)/samplerate, 1.0/samplerate)\n",
      "nsamples = 2000\n",
      "offset = 2000\n",
      "rightoffest = -16\n",
      "fig, ax = plt.subplots(1)\n",
      "fig.set_size_inches(14,7)\n",
      "#ax.plot(time_array[offset:offset+nsamples], right[offset:offset+nsamples],\n",
      "#        label = \"Right Channel - no offset\", color=\"black\", alpha = 0.2)\n",
      "ax.plot(time_array[offset:offset+nsamples], right[offset+rightoffest:offset+nsamples+rightoffest],\n",
      "        label = \"Right Channel - offset by %d samples\"%(rightoffest), color=\"red\", alpha = 0.6)\n",
      "\n",
      "ax.plot(time_array[offset:offset+nsamples], left[offset:offset+nsamples],\n",
      "        label = \"Left Channel\", color=\"blue\", alpha = 0.6)\n",
      "\n",
      "ax.axhline()\n",
      "ax.set_title(\"Channel Plots\")\n",
      "ax.set_xlabel(\"Time (sec)\")\n",
      "ax.set_ylabel(\"Amplitude\")\n",
      "ax.legend(loc='upper left')"
     ],
     "language": "python",
     "metadata": {},
     "outputs": [
      {
       "metadata": {},
       "output_type": "pyout",
       "prompt_number": 58,
       "text": [
        "<matplotlib.legend.Legend at 0x1151bc810>"
       ]
      },
      {
       "metadata": {},
       "output_type": "display_data",
       "png": "[encoded data removed]",
       "text": [
        "<matplotlib.figure.Figure at 0x1102bb150>"
       ]
      }
     ],
     "prompt_number": 58
    },
    {
     "cell_type": "code",
     "collapsed": false,
     "input": [
      "X = vstack((xave.T,correlations)).T"
     ],
     "language": "python",
     "metadata": {},
     "outputs": [],
     "prompt_number": 139
    },
    {
     "cell_type": "code",
     "collapsed": false,
     "input": [
      "correlations.shape"
     ],
     "language": "python",
     "metadata": {},
     "outputs": [
      {
       "metadata": {},
       "output_type": "pyout",
       "prompt_number": 133,
       "text": [
        "(94248,)"
       ]
      }
     ],
     "prompt_number": 133
    },
    {
     "cell_type": "code",
     "collapsed": false,
     "input": [
      "xave.shape"
     ],
     "language": "python",
     "metadata": {},
     "outputs": [
      {
       "metadata": {},
       "output_type": "pyout",
       "prompt_number": 132,
       "text": [
        "(94248, 80)"
       ]
      }
     ],
     "prompt_number": 132
    },
    {
     "cell_type": "code",
     "collapsed": false,
     "input": [
      "with open(r'X.pkl','wb') as f: \n",
      "    pickle.dump(X,f)"
     ],
     "language": "python",
     "metadata": {},
     "outputs": [],
     "prompt_number": 148
    },
    {
     "cell_type": "code",
     "collapsed": false,
     "input": [
      "xave = None\n",
      "yave = None\n",
      "\n",
      "for i in range(0, n):\n",
      "    starttime = time.time()\n",
      "    offset = i*44100\n",
      "    # This gives the number of spatial locations in the set of HRTFs\n",
      "    num_indices = hrtfset.num_indices\n",
      "    # A sound to test the model with\n",
      "    #sound = Sound.whitenoise(500*ms)\n",
      "    sound = Sound('sounds/playback Playback.wav').left[offset:(offset+samples)]\n",
      "    # We apply the chosen HRTF to the sound, the output has 2 channels\n",
      "    hrtf_fb = hrtfset.filterbank(sound)\n",
      "    # We swap these channels (equivalent to swapping the channels in the\n",
      "    # subsequent filters, but simpler to do it with the inputs)\n",
      "    swapped_channels = RestructureFilterbank(hrtf_fb, indexmapping=[1, 0])\n",
      "    # Now we apply all of the possible pairs of HRTFs in the set to these\n",
      "    # swapped channels, which means repeating them num_indices times first\n",
      "    hrtfset_fb = hrtfset.filterbank(Repeat(swapped_channels, num_indices))\n",
      "    # Now we apply cochlear filtering (logically, this comes before the HRTF\n",
      "    # filtering, but since convolution is commutative it is more efficient to\n",
      "    # do the cochlear filtering afterwards\n",
      "    cfmin, cfmax, cfN = 150*Hz, 5*kHz, n_filters\n",
      "    cf = erbspace(cfmin, cfmax, cfN)\n",
      "    # We repeat each of the HRTFSet filterbank channels cfN times, so that\n",
      "    # for each location we will apply each possible cochlear frequency\n",
      "    gfb = Gammatone(Repeat(hrtfset_fb, cfN),\n",
      "                    tile(cf, hrtfset_fb.nchannels))\n",
      "    # Half wave rectification and compression\n",
      "    cochlea = FunctionFilterbank(gfb, lambda x:15*clip(x, 0, Inf)**(1.0/3.0))\n",
      "    cochleaout = cochlea.process()\n",
      "    \n",
      "    x = reshape(cochleaout, [samples*num_indices,2*n_filters])\n",
      "    if xave == None:\n",
      "        xave = rowave(x,averaging) \n",
      "        yave = repeat(range(0,num_indices),samples/averaging)\n",
      "    else:\n",
      "        xave = vstack((xave, rowave(x,averaging)))\n",
      "        yave = hstack((yave, repeat(range(0,num_indices),samples/averaging)))\n",
      "        \n",
      "    endtime = time.time()\n",
      "    print(\"Completed: %0.2f percent\" % ((i+1.0)/n*100))\n",
      "    print(\"Elapsed: %0.2f seconds. Est remaining time: %0.2f minutes\" % ((endtime - starttime),(endtime - starttime)*(n-i) / 60))\n",
      "    savetxt('xave1.csv',xave,delimiter=\",\")\n",
      "    savetxt('yave.csv',yave,delimiter=\",\")\n"
     ],
     "language": "python",
     "metadata": {},
     "outputs": [
      {
       "ename": "KeyboardInterrupt",
       "evalue": "",
       "output_type": "pyerr",
       "traceback": [
        "\u001b[0;31m---------------------------------------------------------------------------\u001b[0m\n\u001b[0;31mKeyboardInterrupt\u001b[0m                         Traceback (most recent call last)",
        "\u001b[0;32m<ipython-input-22-0dca2d2e4733>\u001b[0m in \u001b[0;36m<module>\u001b[0;34m()\u001b[0m\n\u001b[1;32m     30\u001b[0m     \u001b[0;31m# Half wave rectification and compression\u001b[0m\u001b[0;34m\u001b[0m\u001b[0;34m\u001b[0m\u001b[0m\n\u001b[1;32m     31\u001b[0m     \u001b[0mcochlea\u001b[0m \u001b[0;34m=\u001b[0m \u001b[0mFunctionFilterbank\u001b[0m\u001b[0;34m(\u001b[0m\u001b[0mgfb\u001b[0m\u001b[0;34m,\u001b[0m \u001b[0;32mlambda\u001b[0m \u001b[0mx\u001b[0m\u001b[0;34m:\u001b[0m\u001b[0;36m15\u001b[0m\u001b[0;34m*\u001b[0m\u001b[0mclip\u001b[0m\u001b[0;34m(\u001b[0m\u001b[0mx\u001b[0m\u001b[0;34m,\u001b[0m \u001b[0;36m0\u001b[0m\u001b[0;34m,\u001b[0m \u001b[0mInf\u001b[0m\u001b[0;34m)\u001b[0m\u001b[0;34m**\u001b[0m\u001b[0;34m(\u001b[0m\u001b[0;36m1.0\u001b[0m\u001b[0;34m/\u001b[0m\u001b[0;36m3.0\u001b[0m\u001b[0;34m)\u001b[0m\u001b[0;34m)\u001b[0m\u001b[0;34m\u001b[0m\u001b[0m\n\u001b[0;32m---> 32\u001b[0;31m     \u001b[0mcochleaout\u001b[0m \u001b[0;34m=\u001b[0m \u001b[0mcochlea\u001b[0m\u001b[0;34m.\u001b[0m\u001b[0mprocess\u001b[0m\u001b[0;34m(\u001b[0m\u001b[0;34m)\u001b[0m\u001b[0;34m\u001b[0m\u001b[0m\n\u001b[0m\u001b[1;32m     33\u001b[0m \u001b[0;34m\u001b[0m\u001b[0m\n\u001b[1;32m     34\u001b[0m     \u001b[0mx\u001b[0m \u001b[0;34m=\u001b[0m \u001b[0mreshape\u001b[0m\u001b[0;34m(\u001b[0m\u001b[0mcochleaout\u001b[0m\u001b[0;34m,\u001b[0m \u001b[0;34m[\u001b[0m\u001b[0msamples\u001b[0m\u001b[0;34m*\u001b[0m\u001b[0mnum_indices\u001b[0m\u001b[0;34m,\u001b[0m\u001b[0;36m2\u001b[0m\u001b[0;34m*\u001b[0m\u001b[0mn_filters\u001b[0m\u001b[0;34m]\u001b[0m\u001b[0;34m)\u001b[0m\u001b[0;34m\u001b[0m\u001b[0m\n",
        "\u001b[0;32m/Users/jollyhotte/anaconda/lib/python2.7/site-packages/brian/hears/filtering/filterbank.pyc\u001b[0m in \u001b[0;36mprocess\u001b[0;34m(self, func, duration, buffersize)\u001b[0m\n\u001b[1;32m    209\u001b[0m         \u001b[0;31m#sizes = diff(endpoints)\u001b[0m\u001b[0;34m\u001b[0m\u001b[0;34m\u001b[0m\u001b[0m\n\u001b[1;32m    210\u001b[0m         \u001b[0;32mif\u001b[0m \u001b[0mfunc\u001b[0m \u001b[0;32mis\u001b[0m \u001b[0mNone\u001b[0m\u001b[0;34m:\u001b[0m\u001b[0;34m\u001b[0m\u001b[0m\n\u001b[0;32m--> 211\u001b[0;31m             \u001b[0;32mreturn\u001b[0m \u001b[0mvstack\u001b[0m\u001b[0;34m(\u001b[0m\u001b[0mtuple\u001b[0m\u001b[0;34m(\u001b[0m\u001b[0mself\u001b[0m\u001b[0;34m.\u001b[0m\u001b[0mbuffer_fetch\u001b[0m\u001b[0;34m(\u001b[0m\u001b[0mstart\u001b[0m\u001b[0;34m,\u001b[0m \u001b[0mend\u001b[0m\u001b[0;34m)\u001b[0m \u001b[0;32mfor\u001b[0m \u001b[0mstart\u001b[0m\u001b[0;34m,\u001b[0m \u001b[0mend\u001b[0m \u001b[0;32min\u001b[0m \u001b[0mzendpoints\u001b[0m\u001b[0;34m)\u001b[0m\u001b[0;34m)\u001b[0m\u001b[0;34m\u001b[0m\u001b[0m\n\u001b[0m\u001b[1;32m    212\u001b[0m         \u001b[0;32melse\u001b[0m\u001b[0;34m:\u001b[0m\u001b[0;34m\u001b[0m\u001b[0m\n\u001b[1;32m    213\u001b[0m             \u001b[0;32mif\u001b[0m \u001b[0mfunc\u001b[0m\u001b[0;34m.\u001b[0m\u001b[0mfunc_code\u001b[0m\u001b[0;34m.\u001b[0m\u001b[0mco_argcount\u001b[0m\u001b[0;34m==\u001b[0m\u001b[0;36m1\u001b[0m\u001b[0;34m:\u001b[0m\u001b[0;34m\u001b[0m\u001b[0m\n",
        "\u001b[0;32m/Users/jollyhotte/anaconda/lib/python2.7/site-packages/brian/hears/filtering/filterbank.pyc\u001b[0m in \u001b[0;36m<genexpr>\u001b[0;34m((start, end))\u001b[0m\n\u001b[1;32m    209\u001b[0m         \u001b[0;31m#sizes = diff(endpoints)\u001b[0m\u001b[0;34m\u001b[0m\u001b[0;34m\u001b[0m\u001b[0m\n\u001b[1;32m    210\u001b[0m         \u001b[0;32mif\u001b[0m \u001b[0mfunc\u001b[0m \u001b[0;32mis\u001b[0m \u001b[0mNone\u001b[0m\u001b[0;34m:\u001b[0m\u001b[0;34m\u001b[0m\u001b[0m\n\u001b[0;32m--> 211\u001b[0;31m             \u001b[0;32mreturn\u001b[0m \u001b[0mvstack\u001b[0m\u001b[0;34m(\u001b[0m\u001b[0mtuple\u001b[0m\u001b[0;34m(\u001b[0m\u001b[0mself\u001b[0m\u001b[0;34m.\u001b[0m\u001b[0mbuffer_fetch\u001b[0m\u001b[0;34m(\u001b[0m\u001b[0mstart\u001b[0m\u001b[0;34m,\u001b[0m \u001b[0mend\u001b[0m\u001b[0;34m)\u001b[0m \u001b[0;32mfor\u001b[0m \u001b[0mstart\u001b[0m\u001b[0;34m,\u001b[0m \u001b[0mend\u001b[0m \u001b[0;32min\u001b[0m \u001b[0mzendpoints\u001b[0m\u001b[0;34m)\u001b[0m\u001b[0;34m)\u001b[0m\u001b[0;34m\u001b[0m\u001b[0m\n\u001b[0m\u001b[1;32m    212\u001b[0m         \u001b[0;32melse\u001b[0m\u001b[0;34m:\u001b[0m\u001b[0;34m\u001b[0m\u001b[0m\n\u001b[1;32m    213\u001b[0m             \u001b[0;32mif\u001b[0m \u001b[0mfunc\u001b[0m\u001b[0;34m.\u001b[0m\u001b[0mfunc_code\u001b[0m\u001b[0;34m.\u001b[0m\u001b[0mco_argcount\u001b[0m\u001b[0;34m==\u001b[0m\u001b[0;36m1\u001b[0m\u001b[0;34m:\u001b[0m\u001b[0;34m\u001b[0m\u001b[0m\n",
        "\u001b[0;32m/Users/jollyhotte/anaconda/lib/python2.7/site-packages/brian/hears/bufferable.pyc\u001b[0m in \u001b[0;36mbuffer_fetch\u001b[0;34m(self, start, end)\u001b[0m\n\u001b[1;32m     68\u001b[0m             \u001b[0;32mreturn\u001b[0m \u001b[0mself\u001b[0m\u001b[0;34m.\u001b[0m\u001b[0mcached_buffer_output\u001b[0m\u001b[0;34m\u001b[0m\u001b[0m\n\u001b[1;32m     69\u001b[0m         \u001b[0;32mif\u001b[0m \u001b[0mstart\u001b[0m\u001b[0;34m==\u001b[0m\u001b[0mself\u001b[0m\u001b[0;34m.\u001b[0m\u001b[0mcached_buffer_end\u001b[0m \u001b[0;32mand\u001b[0m \u001b[0mend\u001b[0m\u001b[0;34m-\u001b[0m\u001b[0mstart\u001b[0m\u001b[0;34m==\u001b[0m\u001b[0mself\u001b[0m\u001b[0;34m.\u001b[0m\u001b[0mcached_buffer_output\u001b[0m\u001b[0;34m.\u001b[0m\u001b[0mshape\u001b[0m\u001b[0;34m[\u001b[0m\u001b[0;36m0\u001b[0m\u001b[0;34m]\u001b[0m\u001b[0;34m:\u001b[0m\u001b[0;34m\u001b[0m\u001b[0m\n\u001b[0;32m---> 70\u001b[0;31m             \u001b[0mself\u001b[0m\u001b[0;34m.\u001b[0m\u001b[0mcached_buffer_output\u001b[0m \u001b[0;34m=\u001b[0m \u001b[0mself\u001b[0m\u001b[0;34m.\u001b[0m\u001b[0m_buffer_fetch_next\u001b[0m\u001b[0;34m(\u001b[0m\u001b[0mend\u001b[0m\u001b[0;34m-\u001b[0m\u001b[0mstart\u001b[0m\u001b[0;34m)\u001b[0m\u001b[0;34m\u001b[0m\u001b[0m\n\u001b[0m\u001b[1;32m     71\u001b[0m             \u001b[0mself\u001b[0m\u001b[0;34m.\u001b[0m\u001b[0mcached_buffer_start\u001b[0m \u001b[0;34m=\u001b[0m \u001b[0mstart\u001b[0m\u001b[0;34m\u001b[0m\u001b[0m\n\u001b[1;32m     72\u001b[0m             \u001b[0mself\u001b[0m\u001b[0;34m.\u001b[0m\u001b[0mcached_buffer_end\u001b[0m \u001b[0;34m=\u001b[0m \u001b[0mend\u001b[0m\u001b[0;34m\u001b[0m\u001b[0m\n",
        "\u001b[0;32m/Users/jollyhotte/anaconda/lib/python2.7/site-packages/brian/hears/bufferable.pyc\u001b[0m in \u001b[0;36m_buffer_fetch_next\u001b[0;34m(self, samples)\u001b[0m\n\u001b[1;32m    114\u001b[0m         \u001b[0;31m# splits the buffer_fetch_next into multiple pieces of at most this size\u001b[0m\u001b[0;34m\u001b[0m\u001b[0;34m\u001b[0m\u001b[0m\n\u001b[1;32m    115\u001b[0m         \u001b[0;32mif\u001b[0m \u001b[0;32mnot\u001b[0m \u001b[0mhasattr\u001b[0m\u001b[0;34m(\u001b[0m\u001b[0mself\u001b[0m\u001b[0;34m,\u001b[0m \u001b[0;34m'maximum_buffer_size'\u001b[0m\u001b[0;34m)\u001b[0m\u001b[0;34m:\u001b[0m\u001b[0;34m\u001b[0m\u001b[0m\n\u001b[0;32m--> 116\u001b[0;31m             \u001b[0;32mreturn\u001b[0m \u001b[0mself\u001b[0m\u001b[0;34m.\u001b[0m\u001b[0mbuffer_fetch_next\u001b[0m\u001b[0;34m(\u001b[0m\u001b[0msamples\u001b[0m\u001b[0;34m)\u001b[0m\u001b[0;34m\u001b[0m\u001b[0m\n\u001b[0m\u001b[1;32m    117\u001b[0m         \u001b[0mbufsize\u001b[0m \u001b[0;34m=\u001b[0m \u001b[0mself\u001b[0m\u001b[0;34m.\u001b[0m\u001b[0mmaximum_buffer_size\u001b[0m\u001b[0;34m\u001b[0m\u001b[0m\n\u001b[1;32m    118\u001b[0m         \u001b[0mendpoints\u001b[0m \u001b[0;34m=\u001b[0m \u001b[0mhstack\u001b[0m\u001b[0;34m(\u001b[0m\u001b[0;34m(\u001b[0m\u001b[0marange\u001b[0m\u001b[0;34m(\u001b[0m\u001b[0;36m0\u001b[0m\u001b[0;34m,\u001b[0m \u001b[0msamples\u001b[0m\u001b[0;34m,\u001b[0m \u001b[0mbufsize\u001b[0m\u001b[0;34m)\u001b[0m\u001b[0;34m,\u001b[0m \u001b[0msamples\u001b[0m\u001b[0;34m)\u001b[0m\u001b[0;34m)\u001b[0m\u001b[0;34m\u001b[0m\u001b[0m\n",
        "\u001b[0;32m/Users/jollyhotte/anaconda/lib/python2.7/site-packages/brian/hears/filtering/filterbank.pyc\u001b[0m in \u001b[0;36mbuffer_fetch_next\u001b[0;34m(self, samples)\u001b[0m\n\u001b[1;32m    538\u001b[0m         \u001b[0minputs\u001b[0m \u001b[0;34m=\u001b[0m \u001b[0mtuple\u001b[0m\u001b[0;34m(\u001b[0m\u001b[0ms\u001b[0m\u001b[0;34m.\u001b[0m\u001b[0mbuffer_fetch\u001b[0m\u001b[0;34m(\u001b[0m\u001b[0mstart\u001b[0m\u001b[0;34m,\u001b[0m \u001b[0mend\u001b[0m\u001b[0;34m)\u001b[0m \u001b[0;32mfor\u001b[0m \u001b[0ms\u001b[0m \u001b[0;32min\u001b[0m \u001b[0mself\u001b[0m\u001b[0;34m.\u001b[0m\u001b[0msource\u001b[0m\u001b[0;34m)\u001b[0m\u001b[0;34m\u001b[0m\u001b[0m\n\u001b[1;32m    539\u001b[0m \u001b[0;31m#        print inputs,self.params\u001b[0m\u001b[0;34m\u001b[0m\u001b[0;34m\u001b[0m\u001b[0m\n\u001b[0;32m--> 540\u001b[0;31m         \u001b[0;32mreturn\u001b[0m \u001b[0mself\u001b[0m\u001b[0;34m.\u001b[0m\u001b[0mfunc\u001b[0m\u001b[0;34m(\u001b[0m\u001b[0;34m*\u001b[0m\u001b[0minputs\u001b[0m\u001b[0;34m,\u001b[0m\u001b[0;34m**\u001b[0m\u001b[0mself\u001b[0m\u001b[0;34m.\u001b[0m\u001b[0mparams\u001b[0m\u001b[0;34m)\u001b[0m\u001b[0;34m\u001b[0m\u001b[0m\n\u001b[0m\u001b[1;32m    541\u001b[0m \u001b[0;34m\u001b[0m\u001b[0m\n\u001b[1;32m    542\u001b[0m \u001b[0;34m\u001b[0m\u001b[0m\n",
        "\u001b[0;32m<ipython-input-22-0dca2d2e4733>\u001b[0m in \u001b[0;36m<lambda>\u001b[0;34m(x)\u001b[0m\n\u001b[1;32m     29\u001b[0m                     tile(cf, hrtfset_fb.nchannels))\n\u001b[1;32m     30\u001b[0m     \u001b[0;31m# Half wave rectification and compression\u001b[0m\u001b[0;34m\u001b[0m\u001b[0;34m\u001b[0m\u001b[0m\n\u001b[0;32m---> 31\u001b[0;31m     \u001b[0mcochlea\u001b[0m \u001b[0;34m=\u001b[0m \u001b[0mFunctionFilterbank\u001b[0m\u001b[0;34m(\u001b[0m\u001b[0mgfb\u001b[0m\u001b[0;34m,\u001b[0m \u001b[0;32mlambda\u001b[0m \u001b[0mx\u001b[0m\u001b[0;34m:\u001b[0m\u001b[0;36m15\u001b[0m\u001b[0;34m*\u001b[0m\u001b[0mclip\u001b[0m\u001b[0;34m(\u001b[0m\u001b[0mx\u001b[0m\u001b[0;34m,\u001b[0m \u001b[0;36m0\u001b[0m\u001b[0;34m,\u001b[0m \u001b[0mInf\u001b[0m\u001b[0;34m)\u001b[0m\u001b[0;34m**\u001b[0m\u001b[0;34m(\u001b[0m\u001b[0;36m1.0\u001b[0m\u001b[0;34m/\u001b[0m\u001b[0;36m3.0\u001b[0m\u001b[0;34m)\u001b[0m\u001b[0;34m)\u001b[0m\u001b[0;34m\u001b[0m\u001b[0m\n\u001b[0m\u001b[1;32m     32\u001b[0m     \u001b[0mcochleaout\u001b[0m \u001b[0;34m=\u001b[0m \u001b[0mcochlea\u001b[0m\u001b[0;34m.\u001b[0m\u001b[0mprocess\u001b[0m\u001b[0;34m(\u001b[0m\u001b[0;34m)\u001b[0m\u001b[0;34m\u001b[0m\u001b[0m\n\u001b[1;32m     33\u001b[0m \u001b[0;34m\u001b[0m\u001b[0m\n",
        "\u001b[0;31mKeyboardInterrupt\u001b[0m: "
       ]
      }
     ],
     "prompt_number": 22
    },
    {
     "cell_type": "code",
     "collapsed": false,
     "input": [
      "yave = repeat(range(0,num_indices),samples/averaging)\n",
      "y = yave\n",
      "for i in range(0,23):\n",
      "    y = hstack((y, yave))"
     ],
     "language": "python",
     "metadata": {},
     "outputs": [],
     "prompt_number": 9
    },
    {
     "cell_type": "code",
     "collapsed": false,
     "input": [
      "print xave.shape\n",
      "print y.shape"
     ],
     "language": "python",
     "metadata": {},
     "outputs": [
      {
       "output_type": "stream",
       "stream": "stdout",
       "text": [
        "(94248, 80)\n",
        "(94248,)\n"
       ]
      }
     ],
     "prompt_number": 13
    },
    {
     "cell_type": "markdown",
     "metadata": {},
     "source": [
      "#Machine Learning approach"
     ]
    },
    {
     "cell_type": "markdown",
     "metadata": {},
     "source": [
      "### SVM"
     ]
    },
    {
     "cell_type": "code",
     "collapsed": false,
     "input": [
      "a = 10000\n",
      "b = 10000\n",
      "#X_train, X_test, y_train, y_test = cross_validation.train_test_split(xave, yave, test_size=0.4, random_state=0)\n",
      "clf = svm.LinearSVC(verbose = True)\n",
      "scores = cross_validation.cross_val_score(clf, xave[a:a+b], yave[a:a+b], cv=4, verbose=True)\n",
      "print(\"Accuracy: %0.2f (+/- %0.2f)\" % (scores.mean(), scores.std() * 2))\n",
      "#clf.fit(X_train, y_train)\n",
      "#clf.score(X_test, y_test) "
     ],
     "language": "python",
     "metadata": {},
     "outputs": [
      {
       "output_type": "stream",
       "stream": "stderr",
       "text": [
        "[Parallel(n_jobs=1)]: Done   1 jobs       | elapsed:  1.8min\n"
       ]
      },
      {
       "output_type": "stream",
       "stream": "stdout",
       "text": [
        "Accuracy: 0.79 (+/- 0.00)\n"
       ]
      },
      {
       "output_type": "stream",
       "stream": "stderr",
       "text": [
        "[Parallel(n_jobs=1)]: Done   4 out of   4 | elapsed:  7.7min finished\n"
       ]
      }
     ],
     "prompt_number": 41
    },
    {
     "cell_type": "markdown",
     "metadata": {},
     "source": [
      "### Random Forest"
     ]
    },
    {
     "cell_type": "code",
     "collapsed": false,
     "input": [
      "from sklearn.cross_validation import cross_val_score\n",
      "\n",
      "clf = RandomForestClassifier(n_estimators=100, max_depth=None, min_samples_split=1, random_state=0, n_jobs=8)\n",
      "scores = cross_val_score(clf, xave, yave)\n",
      "scores.mean()"
     ],
     "language": "python",
     "metadata": {},
     "outputs": [
      {
       "metadata": {},
       "output_type": "pyout",
       "prompt_number": 44,
       "text": [
        "0.77015957898310849"
       ]
      }
     ],
     "prompt_number": 44
    },
    {
     "cell_type": "markdown",
     "metadata": {},
     "source": [
      "### Extra Randomised Trees"
     ]
    },
    {
     "cell_type": "code",
     "collapsed": false,
     "input": [
      "with open('x.pkl') as xfile:\n",
      "    X = pickle.load(xfile)\n",
      "\n",
      "with open('y.pkl') as yfile:\n",
      "    yave = pickle.load(yfile)"
     ],
     "language": "python",
     "metadata": {},
     "outputs": [],
     "prompt_number": 4
    },
    {
     "cell_type": "code",
     "collapsed": false,
     "input": [
      "from sklearn.ensemble import ExtraTreesClassifier\n",
      "\n",
      "clf_extra = ExtraTreesClassifier(n_estimators=90, max_depth=None,min_samples_split=1, random_state=0, n_jobs=8)\n",
      "clf_extra.fit(X, yave)\n",
      "with open('extratrees_fit.pkl','wb') as f:\n",
      "    pickle.dump(clf_extra,f)\n",
      "scores_extra = cross_val_score(clf_extra, X, yave)\n",
      "scores_extra.mean()"
     ],
     "language": "python",
     "metadata": {},
     "outputs": [
      {
       "metadata": {},
       "output_type": "pyout",
       "prompt_number": 6,
       "text": [
        "0.90826330532212884"
       ]
      }
     ],
     "prompt_number": 6
    },
    {
     "cell_type": "code",
     "collapsed": false,
     "input": [
      "from sklearn.ensemble import ExtraTreesClassifier\n",
      "\n",
      "clf_extra = ExtraTreesClassifier(n_estimators=110, max_depth=None,min_samples_split=1, random_state=0, n_jobs=8)\n",
      "scores_extra = cross_val_score(clf_extra, xave, y)\n",
      "scores_extra.mean()"
     ],
     "language": "python",
     "metadata": {},
     "outputs": [
      {
       "metadata": {},
       "output_type": "pyout",
       "prompt_number": 16,
       "text": [
        "0.8581190051778288"
       ]
      }
     ],
     "prompt_number": 16
    },
    {
     "cell_type": "code",
     "collapsed": false,
     "input": [
      "from sklearn.ensemble import AdaBoostClassifier\n",
      "\n",
      "clf_ada = AdaBoostClassifier(n_estimators=100)\n",
      "scores_ada = cross_val_score(clf_ada, xave, yave)\n",
      "scores_ada.mean()  "
     ],
     "language": "python",
     "metadata": {},
     "outputs": [
      {
       "metadata": {},
       "output_type": "pyout",
       "prompt_number": 47,
       "text": [
        "0.010769459298871064"
       ]
      }
     ],
     "prompt_number": 47
    },
    {
     "cell_type": "markdown",
     "metadata": {},
     "source": [
      "## Calculate the proportion of correct predictions on the training set"
     ]
    },
    {
     "cell_type": "code",
     "collapsed": false,
     "input": [
      "from sklearn.metrics import accuracy_score\n",
      "ypred = array([clf.predict(xave[idx]) for idx in range(0,len(yave))])\n",
      "correct = ypred == yave\n",
      "accuracy_score(yave, ypred)"
     ],
     "language": "python",
     "metadata": {},
     "outputs": [
      {
       "metadata": {},
       "output_type": "pyout",
       "prompt_number": 27,
       "text": [
        "0.94645130779584563"
       ]
      }
     ],
     "prompt_number": 27
    },
    {
     "cell_type": "code",
     "collapsed": false,
     "input": [
      "num_indices = hrtfset.num_indices\n",
      "# Choose a random location for the sound to come from\n",
      "index = randint(hrtfset.num_indices)\n",
      "# A sound to test the model with\n",
      "soundtest =  Sound('sounds/playback Playback.wav').left[offset:(offset+150)]\n",
      "hrtftest = hrtfset.hrtf[index]\n",
      "hrtf_fbtest = hrtftest.filterbank(soundtest)\n",
      "swapped_channelstest = Interleave(hrtf_fbtest, 1)\n",
      "#hrtfset_fbtest = hrtfset.filterbank(Repeat(swapped_channelstest, num_indices))\n",
      "\n",
      "hrtfset_fb = hrtfset.filterbank(swapped_channelstest)\n",
      "\n",
      "cfmin, cfmax, cfN = 150*Hz, 5*kHz, n_filters\n",
      "cf = erbspace(cfmin, cfmax, cfN)\n",
      "\n",
      "gfbtest = Gammatone(Repeat(hrtfset_fb, cfN),\n",
      "                tile(cf, hrtfset_fb.nchannels))\n",
      "\n",
      "cochleatest = FunctionFilterbank(gfbtest, lambda x:15*clip(x, 0, Inf)**(1.0/3.0))\n",
      "c= cochleatest.process()"
     ],
     "language": "python",
     "metadata": {},
     "outputs": [
      {
       "ename": "TypeError",
       "evalue": "'int' object is not iterable",
       "output_type": "pyerr",
       "traceback": [
        "\u001b[0;31m---------------------------------------------------------------------------\u001b[0m\n\u001b[0;31mTypeError\u001b[0m                                 Traceback (most recent call last)",
        "\u001b[0;32m<ipython-input-112-6bba45e1d72c>\u001b[0m in \u001b[0;36m<module>\u001b[0;34m()\u001b[0m\n\u001b[1;32m      6\u001b[0m \u001b[0mhrtftest\u001b[0m \u001b[0;34m=\u001b[0m \u001b[0mhrtfset\u001b[0m\u001b[0;34m.\u001b[0m\u001b[0mhrtf\u001b[0m\u001b[0;34m[\u001b[0m\u001b[0mindex\u001b[0m\u001b[0;34m]\u001b[0m\u001b[0;34m\u001b[0m\u001b[0m\n\u001b[1;32m      7\u001b[0m \u001b[0mhrtf_fbtest\u001b[0m \u001b[0;34m=\u001b[0m \u001b[0mhrtftest\u001b[0m\u001b[0;34m.\u001b[0m\u001b[0mfilterbank\u001b[0m\u001b[0;34m(\u001b[0m\u001b[0msoundtest\u001b[0m\u001b[0;34m)\u001b[0m\u001b[0;34m\u001b[0m\u001b[0m\n\u001b[0;32m----> 8\u001b[0;31m \u001b[0mswapped_channelstest\u001b[0m \u001b[0;34m=\u001b[0m \u001b[0mInterleave\u001b[0m\u001b[0;34m(\u001b[0m\u001b[0mhrtf_fbtest\u001b[0m\u001b[0;34m,\u001b[0m \u001b[0;36m1\u001b[0m\u001b[0;34m)\u001b[0m\u001b[0;34m\u001b[0m\u001b[0m\n\u001b[0m\u001b[1;32m      9\u001b[0m \u001b[0;31m#hrtfset_fbtest = hrtfset.filterbank(Repeat(swapped_channelstest, num_indices))\u001b[0m\u001b[0;34m\u001b[0m\u001b[0;34m\u001b[0m\u001b[0m\n\u001b[1;32m     10\u001b[0m \u001b[0;34m\u001b[0m\u001b[0m\n",
        "\u001b[0;32m/Users/jollyhotte/anaconda/lib/python2.7/site-packages/brian/hears/filtering/filterbank.pyc\u001b[0m in \u001b[0;36m__init__\u001b[0;34m(self, *sources)\u001b[0m\n\u001b[1;32m    495\u001b[0m                 \u001b[0msource\u001b[0m\u001b[0;34m.\u001b[0m\u001b[0mappend\u001b[0m\u001b[0;34m(\u001b[0m\u001b[0ms\u001b[0m\u001b[0;34m)\u001b[0m\u001b[0;34m\u001b[0m\u001b[0m\n\u001b[1;32m    496\u001b[0m             \u001b[0;32melse\u001b[0m\u001b[0;34m:\u001b[0m\u001b[0;34m\u001b[0m\u001b[0m\n\u001b[0;32m--> 497\u001b[0;31m                 \u001b[0msource\u001b[0m\u001b[0;34m.\u001b[0m\u001b[0mextend\u001b[0m\u001b[0;34m(\u001b[0m\u001b[0ms\u001b[0m\u001b[0;34m)\u001b[0m\u001b[0;34m\u001b[0m\u001b[0m\n\u001b[0m\u001b[1;32m    498\u001b[0m         \u001b[0mRestructureFilterbank\u001b[0m\u001b[0;34m.\u001b[0m\u001b[0m__init__\u001b[0m\u001b[0;34m(\u001b[0m\u001b[0mself\u001b[0m\u001b[0;34m,\u001b[0m \u001b[0mtuple\u001b[0m\u001b[0;34m(\u001b[0m\u001b[0msource\u001b[0m\u001b[0;34m)\u001b[0m\u001b[0;34m,\u001b[0m \u001b[0mtype\u001b[0m\u001b[0;34m=\u001b[0m\u001b[0;34m'interleave'\u001b[0m\u001b[0;34m)\u001b[0m\u001b[0;34m\u001b[0m\u001b[0m\n\u001b[1;32m    499\u001b[0m \u001b[0;34m\u001b[0m\u001b[0m\n",
        "\u001b[0;31mTypeError\u001b[0m: 'int' object is not iterable"
       ]
      }
     ],
     "prompt_number": 112
    },
    {
     "cell_type": "code",
     "collapsed": false,
     "input": [
      "def preprocess(x, samples, num_indices, n_filters, averaging):\n",
      "    a = reshape(x, [samples*num_indices,2*n_filters])\n",
      "    return rowave(a,averaging)\n",
      "\n",
      "print c.shape\n",
      "\n",
      "xtest = preprocess(c, 150, 187, n_filters, averaging)\n",
      "print xtest.shape\n",
      "#print xtest[2]\n",
      "swapped_channelstest.nchannels"
     ],
     "language": "python",
     "metadata": {},
     "outputs": [
      {
       "output_type": "stream",
       "stream": "stdout",
       "text": [
        "(150, 14960)\n",
        "(187, 80)\n"
       ]
      },
      {
       "metadata": {},
       "output_type": "pyout",
       "prompt_number": 113,
       "text": [
        "4"
       ]
      }
     ],
     "prompt_number": 113
    },
    {
     "cell_type": "markdown",
     "metadata": {},
     "source": [
      "# Plot of predicted vs true value"
     ]
    },
    {
     "cell_type": "code",
     "collapsed": false,
     "input": [
      "0.5*44100/1000"
     ],
     "language": "python",
     "metadata": {},
     "outputs": [
      {
       "metadata": {},
       "output_type": "pyout",
       "prompt_number": 8,
       "text": [
        "22.05"
       ]
      }
     ],
     "prompt_number": 8
    },
    {
     "cell_type": "code",
     "collapsed": false,
     "input": [
      "idx = 9430\n",
      "predicted = clf.predict(xave[idx])\n",
      "true = yave[idx]\n",
      "probs = clf.predict_proba(xave[idx])\n",
      "coords = hrtfset.coordinates\n",
      "azim, elev = coords['azim'], coords['elev']\n",
      "scatter(azim, elev, 1000*probs)\n",
      "plot([azim[true]], [elev[true]], '+r', ms=15, mew=2)\n",
      "plot([azim[predicted]], [elev[predicted]], 'xg', ms=15, mew=2)\n",
      "xlabel('Azimuth (deg)')\n",
      "ylabel('Elevation (deg)')\n",
      "xlim(-5, 350)\n",
      "ylim(-50, 95)"
     ],
     "language": "python",
     "metadata": {},
     "outputs": [
      {
       "ename": "AttributeError",
       "evalue": "'function' object has no attribute 'predict'",
       "output_type": "pyerr",
       "traceback": [
        "\u001b[0;31m---------------------------------------------------------------------------\u001b[0m\n\u001b[0;31mAttributeError\u001b[0m                            Traceback (most recent call last)",
        "\u001b[0;32m<ipython-input-23-957c07e5e52d>\u001b[0m in \u001b[0;36m<module>\u001b[0;34m()\u001b[0m\n\u001b[1;32m      1\u001b[0m \u001b[0midx\u001b[0m \u001b[0;34m=\u001b[0m \u001b[0;36m9430\u001b[0m\u001b[0;34m\u001b[0m\u001b[0m\n\u001b[0;32m----> 2\u001b[0;31m \u001b[0mpredicted\u001b[0m \u001b[0;34m=\u001b[0m \u001b[0mclf\u001b[0m\u001b[0;34m.\u001b[0m\u001b[0mpredict\u001b[0m\u001b[0;34m(\u001b[0m\u001b[0mxave\u001b[0m\u001b[0;34m[\u001b[0m\u001b[0midx\u001b[0m\u001b[0;34m]\u001b[0m\u001b[0;34m)\u001b[0m\u001b[0;34m\u001b[0m\u001b[0m\n\u001b[0m\u001b[1;32m      3\u001b[0m \u001b[0mtrue\u001b[0m \u001b[0;34m=\u001b[0m \u001b[0myave\u001b[0m\u001b[0;34m[\u001b[0m\u001b[0midx\u001b[0m\u001b[0;34m]\u001b[0m\u001b[0;34m\u001b[0m\u001b[0m\n\u001b[1;32m      4\u001b[0m \u001b[0mprobs\u001b[0m \u001b[0;34m=\u001b[0m \u001b[0mclf\u001b[0m\u001b[0;34m.\u001b[0m\u001b[0mpredict_proba\u001b[0m\u001b[0;34m(\u001b[0m\u001b[0mxave\u001b[0m\u001b[0;34m[\u001b[0m\u001b[0midx\u001b[0m\u001b[0;34m]\u001b[0m\u001b[0;34m)\u001b[0m\u001b[0;34m\u001b[0m\u001b[0m\n\u001b[1;32m      5\u001b[0m \u001b[0mcoords\u001b[0m \u001b[0;34m=\u001b[0m \u001b[0mhrtfset\u001b[0m\u001b[0;34m.\u001b[0m\u001b[0mcoordinates\u001b[0m\u001b[0;34m\u001b[0m\u001b[0m\n",
        "\u001b[0;31mAttributeError\u001b[0m: 'function' object has no attribute 'predict'"
       ]
      }
     ],
     "prompt_number": 23
    },
    {
     "cell_type": "code",
     "collapsed": false,
     "input": [
      "yave.shape"
     ],
     "language": "python",
     "metadata": {},
     "outputs": [
      {
       "metadata": {},
       "output_type": "pyout",
       "prompt_number": 31,
       "text": [
        "(24, 27489)"
       ]
      }
     ],
     "prompt_number": 31
    },
    {
     "cell_type": "code",
     "collapsed": false,
     "input": [
      "xave.shape"
     ],
     "language": "python",
     "metadata": {},
     "outputs": [
      {
       "metadata": {},
       "output_type": "pyout",
       "prompt_number": 32,
       "text": [
        "(659736, 80)"
       ]
      }
     ],
     "prompt_number": 32
    },
    {
     "cell_type": "code",
     "collapsed": false,
     "input": [
      "24* 27489"
     ],
     "language": "python",
     "metadata": {},
     "outputs": [
      {
       "metadata": {},
       "output_type": "pyout",
       "prompt_number": 33,
       "text": [
        "659736"
       ]
      }
     ],
     "prompt_number": 33
    },
    {
     "cell_type": "code",
     "collapsed": false,
     "input": [
      "(150.0*7)"
     ],
     "language": "python",
     "metadata": {},
     "outputs": [
      {
       "metadata": {},
       "output_type": "pyout",
       "prompt_number": 23,
       "text": [
        "1050.0"
       ]
      }
     ],
     "prompt_number": 23
    },
    {
     "cell_type": "code",
     "collapsed": false,
     "input": [
      "qwe.shape\n"
     ],
     "language": "python",
     "metadata": {},
     "outputs": [
      {
       "metadata": {},
       "output_type": "pyout",
       "prompt_number": 35,
       "text": [
        "(27489,)"
       ]
      }
     ],
     "prompt_number": 35
    },
    {
     "cell_type": "code",
     "collapsed": false,
     "input": [
      "qwe = array([1,2,3])"
     ],
     "language": "python",
     "metadata": {},
     "outputs": [],
     "prompt_number": 47
    },
    {
     "cell_type": "code",
     "collapsed": false,
     "input": [
      "bpm_to_index(100, 44100, 0, 0.5)"
     ],
     "language": "python",
     "metadata": {},
     "outputs": [
      {
       "metadata": {},
       "output_type": "pyout",
       "prompt_number": 20,
       "text": [
        "(0, 52920)"
       ]
      }
     ],
     "prompt_number": 20
    },
    {
     "cell_type": "code",
     "collapsed": false,
     "input": [
      "def preprocess(soundlocation, hrtfset, n=6, samplerate = 44100, verbose=False, \n",
      "               n_filters = 40, averaging = 1260, sampletime = 0.4, debug=False):\n",
      "    samples = int(sampletime * 44100)\n",
      "    num_indices = hrtfset.num_indices\n",
      "    cfmin, cfmax, cfN = 150*Hz, 5*kHz, n_filters\n",
      "    cf = erbspace(cfmin, cfmax, cfN)\n",
      "    X = None\n",
      "    y = None\n",
      "    for i in range(0, n):\n",
      "        if (verbose):\n",
      "            starttime = time.time()\n",
      "        offset = i*samples\n",
      "        sound = Sound(soundlocation).left[offset:(offset+samples)]\n",
      "        if (debug):\n",
      "            print sampletime*i\n",
      "            print offset\n",
      "        hrtf_fb = hrtfset.filterbank(sound)\n",
      "        swapped_channels = RestructureFilterbank(hrtf_fb, indexmapping=[1, 0])\n",
      "        hrtfset_fb = hrtfset.filterbank(Repeat(swapped_channels, num_indices))\n",
      "        gfb = Gammatone(Repeat(hrtfset_fb, cfN),\n",
      "                        tile(cf, hrtfset_fb.nchannels))\n",
      "        cochlea = FunctionFilterbank(gfb, lambda x:15*clip(x, 0, Inf)**(1.0/3.0))\n",
      "        cochleaout = cochlea.process()\n",
      "        if debug:\n",
      "            print 'Cochlea shape:'\n",
      "            print cochleaout.shape\n",
      "        x = reshape(cochleaout, [samples*num_indices,2*n_filters])\n",
      "        if debug:\n",
      "            print 'x shape:'\n",
      "            print x.shape\n",
      "        if X == None:\n",
      "            X = rowave(x,averaging) \n",
      "            y = repeat(range(0,num_indices),samples/averaging)\n",
      "        else:\n",
      "            X = vstack((X, rowave(x,averaging)))\n",
      "            y = hstack((y, repeat(range(0,num_indices),samples/averaging)))\n",
      "            \n",
      "        if (verbose):\n",
      "            endtime = time.time()\n",
      "            print(\"Completed: %0.2f percent\" % ((i+1.0)/n*100))\n",
      "            print(\"Elapsed: %0.2f seconds. Est remaining time: %0.2f minutes\" % ((endtime - starttime),(endtime - starttime)*(n-i) / 60))\n",
      "    return X,y"
     ],
     "language": "python",
     "metadata": {},
     "outputs": [],
     "prompt_number": 8
    },
    {
     "cell_type": "code",
     "collapsed": false,
     "input": [
      "Xtest, ytest = preprocess('sounds/netlix.wav',hrtfset, averaging=1050, verbose=True, sampletime = 0.5, n=4)"
     ],
     "language": "python",
     "metadata": {},
     "outputs": [
      {
       "output_type": "stream",
       "stream": "stdout",
       "text": [
        "Completed: 25.00 percent\n",
        "Elapsed: 85.77 seconds. Est remaining time: 5.72 minutes\n",
        "Completed: 50.00 percent"
       ]
      },
      {
       "output_type": "stream",
       "stream": "stdout",
       "text": [
        "\n",
        "Elapsed: 76.86 seconds. Est remaining time: 3.84 minutes\n",
        "Completed: 75.00 percent"
       ]
      },
      {
       "output_type": "stream",
       "stream": "stdout",
       "text": [
        "\n",
        "Elapsed: 72.74 seconds. Est remaining time: 2.42 minutes\n",
        "Completed: 100.00 percent"
       ]
      },
      {
       "output_type": "stream",
       "stream": "stdout",
       "text": [
        "\n",
        "Elapsed: 74.39 seconds. Est remaining time: 1.24 minutes\n"
       ]
      }
     ],
     "prompt_number": 9
    },
    {
     "cell_type": "code",
     "collapsed": false,
     "input": [
      "sound = Sound('sounds/netlix.wav').left\n",
      "sounds = {}\n",
      "for i in range(0,187):\n",
      "    sounds[i] = process_sound(sound, i, offset = 0,time= 7)\n",
      "sampletime = 0.5\n",
      "samples = int(sampletime * 44100)\n",
      "num_indices = hrtfset.num_indices"
     ],
     "language": "python",
     "metadata": {},
     "outputs": [],
     "prompt_number": 18
    },
    {
     "cell_type": "code",
     "collapsed": false,
     "input": [
      "correlations = None\n",
      "sampletime = 0.5\n",
      "samples = int(sampletime * 44100)\n",
      "for j in range(0, 4):\n",
      "    offset = j*44100\n",
      "    \n",
      "    print \"Iteration - %d, samples = %d : %d\" %(j, offset,offset+samples)\n",
      "    #sound = inputsound[offset:(offset+samples)]\n",
      "    b = arange(0,187)\n",
      "    for i in range(0,187):\n",
      "        xcor = genmaxcorr(sounds[i][offset:(offset+samples)])\n",
      "        b[i] = xcor.argmax(0)-len(xcor)/2\n",
      "    \n",
      "    if correlations == None:\n",
      "        correlations = repeat(b,samples/averaging)\n",
      "    else:\n",
      "        correlations = hstack((correlations, repeat(b,samples/averaging)))"
     ],
     "language": "python",
     "metadata": {},
     "outputs": [
      {
       "output_type": "stream",
       "stream": "stdout",
       "text": [
        "Iteration - 0, samples = 0 : 22050\n",
        "Iteration - 1, samples = 44100 : 66150"
       ]
      },
      {
       "output_type": "stream",
       "stream": "stdout",
       "text": [
        "\n",
        "Iteration - 2, samples = 88200 : 110250"
       ]
      },
      {
       "output_type": "stream",
       "stream": "stdout",
       "text": [
        "\n",
        "Iteration - 3, samples = 132300 : 154350"
       ]
      },
      {
       "output_type": "stream",
       "stream": "stdout",
       "text": [
        "\n"
       ]
      }
     ],
     "prompt_number": 24
    },
    {
     "cell_type": "code",
     "collapsed": false,
     "input": [
      "Xtest1 = vstack((Xtest.T,correlations)).T\n",
      "clf_extra.predict(Xtest1[0:100])\n",
      "print Xtest.shape\n",
      "print correlations.shape"
     ],
     "language": "python",
     "metadata": {},
     "outputs": [
      {
       "output_type": "stream",
       "stream": "stdout",
       "text": [
        "(15708, 80)\n",
        "(15708,)\n"
       ]
      }
     ],
     "prompt_number": 26
    },
    {
     "cell_type": "code",
     "collapsed": false,
     "input": [
      "cross_val_score(clf_extra, xave, y)"
     ],
     "language": "python",
     "metadata": {},
     "outputs": [
      {
       "metadata": {},
       "output_type": "pyout",
       "prompt_number": 94,
       "text": [
        "array([ 0.85905271,  0.85558314,  0.85972116])"
       ]
      }
     ],
     "prompt_number": 94
    },
    {
     "cell_type": "code",
     "collapsed": false,
     "input": [
      "clf_extra = ExtraTreesClassifier(n_estimators=120, max_depth=None,min_samples_split=1, random_state=0, n_jobs=6)\n",
      "clf_extra.fit(xave, y)"
     ],
     "language": "python",
     "metadata": {},
     "outputs": [],
     "prompt_number": "*"
    },
    {
     "cell_type": "code",
     "collapsed": false,
     "input": [
      "ypred = clf_extra.predict(Xtest1)"
     ],
     "language": "python",
     "metadata": {},
     "outputs": [],
     "prompt_number": 30
    },
    {
     "cell_type": "code",
     "collapsed": false,
     "input": [
      "sum(ypred == ytest)/15708.0*100"
     ],
     "language": "python",
     "metadata": {},
     "outputs": [
      {
       "metadata": {},
       "output_type": "pyout",
       "prompt_number": 31,
       "text": [
        "3.0366692131398016"
       ]
      }
     ],
     "prompt_number": 31
    },
    {
     "cell_type": "code",
     "collapsed": false,
     "input": [
      "ytest.shape"
     ],
     "language": "python",
     "metadata": {},
     "outputs": [
      {
       "metadata": {},
       "output_type": "pyout",
       "prompt_number": 118,
       "text": [
        "(15708,)"
       ]
      }
     ],
     "prompt_number": 118
    },
    {
     "cell_type": "code",
     "collapsed": false,
     "input": [
      "1.0/187*100"
     ],
     "language": "python",
     "metadata": {},
     "outputs": [
      {
       "metadata": {},
       "output_type": "pyout",
       "prompt_number": 122,
       "text": [
        "0.53475935828877"
       ]
      }
     ],
     "prompt_number": 122
    },
    {
     "cell_type": "code",
     "collapsed": false,
     "input": [
      "a = randn(10,5)\n",
      "b = randn(10,2)"
     ],
     "language": "python",
     "metadata": {},
     "outputs": [],
     "prompt_number": 94
    },
    {
     "cell_type": "code",
     "collapsed": false,
     "input": [
      "from sklearn.ensemble import GradientBoostingRegressor\n",
      "from sklearn.metrics import mean_squared_error\n",
      "\n",
      "clf = GradientBoostingRegressor(n_estimators=100, learning_rate=1.0,\n",
      "                                      max_depth=1, random_state=0, loss='ls').fit(a, b)\n",
      "mean_squared_error(b, clf.predict(a))"
     ],
     "language": "python",
     "metadata": {},
     "outputs": [
      {
       "ename": "ValueError",
       "evalue": "bad input shape (10, 2)",
       "output_type": "pyerr",
       "traceback": [
        "\u001b[0;31m---------------------------------------------------------------------------\u001b[0m\n\u001b[0;31mValueError\u001b[0m                                Traceback (most recent call last)",
        "\u001b[0;32m<ipython-input-102-15f4ef77ee13>\u001b[0m in \u001b[0;36m<module>\u001b[0;34m()\u001b[0m\n\u001b[1;32m      3\u001b[0m \u001b[0;34m\u001b[0m\u001b[0m\n\u001b[1;32m      4\u001b[0m clf = GradientBoostingRegressor(n_estimators=100, learning_rate=1.0,\n\u001b[0;32m----> 5\u001b[0;31m                                       max_depth=1, random_state=0, loss='ls').fit(a, b)\n\u001b[0m\u001b[1;32m      6\u001b[0m \u001b[0mmean_squared_error\u001b[0m\u001b[0;34m(\u001b[0m\u001b[0mb\u001b[0m\u001b[0;34m,\u001b[0m \u001b[0mclf\u001b[0m\u001b[0;34m.\u001b[0m\u001b[0mpredict\u001b[0m\u001b[0;34m(\u001b[0m\u001b[0ma\u001b[0m\u001b[0;34m)\u001b[0m\u001b[0;34m)\u001b[0m\u001b[0;34m\u001b[0m\u001b[0m\n",
        "\u001b[0;32m/Users/jollyhotte/anaconda/lib/python2.7/site-packages/sklearn/ensemble/gradient_boosting.pyc\u001b[0m in \u001b[0;36mfit\u001b[0;34m(self, X, y)\u001b[0m\n\u001b[1;32m   1124\u001b[0m         \"\"\"\n\u001b[1;32m   1125\u001b[0m         \u001b[0mself\u001b[0m\u001b[0;34m.\u001b[0m\u001b[0mn_classes_\u001b[0m \u001b[0;34m=\u001b[0m \u001b[0;36m1\u001b[0m\u001b[0;34m\u001b[0m\u001b[0m\n\u001b[0;32m-> 1126\u001b[0;31m         \u001b[0;32mreturn\u001b[0m \u001b[0msuper\u001b[0m\u001b[0;34m(\u001b[0m\u001b[0mGradientBoostingRegressor\u001b[0m\u001b[0;34m,\u001b[0m \u001b[0mself\u001b[0m\u001b[0;34m)\u001b[0m\u001b[0;34m.\u001b[0m\u001b[0mfit\u001b[0m\u001b[0;34m(\u001b[0m\u001b[0mX\u001b[0m\u001b[0;34m,\u001b[0m \u001b[0my\u001b[0m\u001b[0;34m)\u001b[0m\u001b[0;34m\u001b[0m\u001b[0m\n\u001b[0m\u001b[1;32m   1127\u001b[0m \u001b[0;34m\u001b[0m\u001b[0m\n\u001b[1;32m   1128\u001b[0m     \u001b[0;32mdef\u001b[0m \u001b[0mpredict\u001b[0m\u001b[0;34m(\u001b[0m\u001b[0mself\u001b[0m\u001b[0;34m,\u001b[0m \u001b[0mX\u001b[0m\u001b[0;34m)\u001b[0m\u001b[0;34m:\u001b[0m\u001b[0;34m\u001b[0m\u001b[0m\n",
        "\u001b[0;32m/Users/jollyhotte/anaconda/lib/python2.7/site-packages/sklearn/ensemble/gradient_boosting.pyc\u001b[0m in \u001b[0;36mfit\u001b[0;34m(self, X, y)\u001b[0m\n\u001b[1;32m    553\u001b[0m         X, = check_arrays(X, dtype=DTYPE, sparse_format=\"dense\",\n\u001b[1;32m    554\u001b[0m                           check_ccontiguous=True)\n\u001b[0;32m--> 555\u001b[0;31m         \u001b[0my\u001b[0m \u001b[0;34m=\u001b[0m \u001b[0mcolumn_or_1d\u001b[0m\u001b[0;34m(\u001b[0m\u001b[0my\u001b[0m\u001b[0;34m,\u001b[0m \u001b[0mwarn\u001b[0m\u001b[0;34m=\u001b[0m\u001b[0mTrue\u001b[0m\u001b[0;34m)\u001b[0m\u001b[0;34m\u001b[0m\u001b[0m\n\u001b[0m\u001b[1;32m    556\u001b[0m         \u001b[0mn_samples\u001b[0m\u001b[0;34m,\u001b[0m \u001b[0mn_features\u001b[0m \u001b[0;34m=\u001b[0m \u001b[0mX\u001b[0m\u001b[0;34m.\u001b[0m\u001b[0mshape\u001b[0m\u001b[0;34m\u001b[0m\u001b[0m\n\u001b[1;32m    557\u001b[0m         \u001b[0mself\u001b[0m\u001b[0;34m.\u001b[0m\u001b[0mn_features\u001b[0m \u001b[0;34m=\u001b[0m \u001b[0mn_features\u001b[0m\u001b[0;34m\u001b[0m\u001b[0m\n",
        "\u001b[0;32m/Users/jollyhotte/anaconda/lib/python2.7/site-packages/sklearn/utils/validation.pyc\u001b[0m in \u001b[0;36mcolumn_or_1d\u001b[0;34m(y, warn)\u001b[0m\n\u001b[1;32m    263\u001b[0m         \u001b[0;32mreturn\u001b[0m \u001b[0mnp\u001b[0m\u001b[0;34m.\u001b[0m\u001b[0mravel\u001b[0m\u001b[0;34m(\u001b[0m\u001b[0my\u001b[0m\u001b[0;34m)\u001b[0m\u001b[0;34m\u001b[0m\u001b[0m\n\u001b[1;32m    264\u001b[0m \u001b[0;34m\u001b[0m\u001b[0m\n\u001b[0;32m--> 265\u001b[0;31m     \u001b[0;32mraise\u001b[0m \u001b[0mValueError\u001b[0m\u001b[0;34m(\u001b[0m\u001b[0;34m\"bad input shape {0}\"\u001b[0m\u001b[0;34m.\u001b[0m\u001b[0mformat\u001b[0m\u001b[0;34m(\u001b[0m\u001b[0mshape\u001b[0m\u001b[0;34m)\u001b[0m\u001b[0;34m)\u001b[0m\u001b[0;34m\u001b[0m\u001b[0m\n\u001b[0m\u001b[1;32m    266\u001b[0m \u001b[0;34m\u001b[0m\u001b[0m\n\u001b[1;32m    267\u001b[0m \u001b[0;34m\u001b[0m\u001b[0m\n",
        "\u001b[0;31mValueError\u001b[0m: bad input shape (10, 2)"
       ]
      }
     ],
     "prompt_number": 102
    },
    {
     "cell_type": "code",
     "collapsed": false,
     "input": [
      "660/(1.0/44100*1e6)"
     ],
     "language": "python",
     "metadata": {},
     "outputs": [
      {
       "metadata": {},
       "output_type": "pyout",
       "prompt_number": 189,
       "text": [
        "29.106"
       ]
      }
     ],
     "prompt_number": 189
    },
    {
     "cell_type": "code",
     "collapsed": false,
     "input": [
      "a = arange(0,100)/20.0\n",
      "b = sin(a)\n",
      "c = sin(a+1)\n",
      "plot(a,c)\n",
      "plot(a,b)"
     ],
     "language": "python",
     "metadata": {},
     "outputs": [
      {
       "metadata": {},
       "output_type": "pyout",
       "prompt_number": 171,
       "text": [
        "[<matplotlib.lines.Line2D at 0x1299ce690>]"
       ]
      },
      {
       "metadata": {},
       "output_type": "display_data",
       "png": "[encoded data removed]",
       "text": [
        "<matplotlib.figure.Figure at 0x1299ce1d0>"
       ]
      }
     ],
     "prompt_number": 171
    },
    {
     "cell_type": "code",
     "collapsed": false,
     "input": [
      "d = correlate(c,b, \"full\")\n",
      "plot(d)\n",
      "print len(d)\n",
      "print d.argmax(0)-100"
     ],
     "language": "python",
     "metadata": {},
     "outputs": [
      {
       "output_type": "stream",
       "stream": "stdout",
       "text": [
        "199\n",
        "-15\n"
       ]
      },
      {
       "metadata": {},
       "output_type": "display_data",
       "png": "[encoded data removed]",
       "text": [
        "<matplotlib.figure.Figure at 0x127cc4250>"
       ]
      }
     ],
     "prompt_number": 177
    },
    {
     "cell_type": "code",
     "collapsed": false,
     "input": [],
     "language": "python",
     "metadata": {},
     "outputs": []
    }
   ],
   "metadata": {}
  }
 ]
}